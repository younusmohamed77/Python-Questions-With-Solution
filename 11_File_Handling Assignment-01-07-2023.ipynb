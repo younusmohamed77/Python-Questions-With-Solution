{
 "cells": [
  {
   "cell_type": "markdown",
   "metadata": {},
   "source": [
    "### Write a function in python to read the content from a text file \"poem.txt\" line by line and display the same on screen.\n",
    "### Create a file \"poem.txt\" with some content"
   ]
  },
  {
   "cell_type": "code",
   "execution_count": 19,
   "metadata": {},
   "outputs": [],
   "source": [
    "#Creating a text file in create and write mode\n",
    "fh = open(\"poems.txt\", 'xt')"
   ]
  },
  {
   "cell_type": "code",
   "execution_count": 20,
   "metadata": {},
   "outputs": [],
   "source": [
    "#Writing a small poem in the file\n",
    "fh.write(\"Baa, baa, black sheep \\nHave you any wool? \\nYes sir, yes sir, three bags full.\\nOne for the master,\\nAnd one for the dame,\\nAnd one for the little boy\\nWho lives down the lane.\")\n",
    "fh.close()    # Closing the file"
   ]
  },
  {
   "cell_type": "code",
   "execution_count": 51,
   "metadata": {},
   "outputs": [
    {
     "name": "stdout",
     "output_type": "stream",
     "text": [
      "Baa, baa, black sheep\n",
      "Have you any wool?\n",
      "Yes sir, yes sir, three bags full.\n",
      "One for the master,\n",
      "And one for the dame,\n",
      "And one for the little boy\n",
      "Who lives down the lane.\n"
     ]
    }
   ],
   "source": [
    "#Defining a function to read line by line\n",
    "def line_by_line (lines):\n",
    "    for line in lines:\n",
    "        print(line.strip())    # Using line.strip() function\n",
    "    \n",
    "# Opening the file is read write mode\n",
    "fh = open(\"poems.txt\", 'rt')\n",
    "lines = fh.readlines()    # Reading the contents of the file to a variable\n",
    "line_by_line(lines)    # Passing that variable to a function to read line by line\n",
    "fh.close()    # Closing the file"
   ]
  },
  {
   "cell_type": "markdown",
   "metadata": {},
   "source": [
    "### Write a function in python to count the number of lines from a text file \"story.txt\" which is not starting with an alphabet \"T\". \n",
    "\n",
    "#### Example: If the file \"story.txt\" contains the following lines: A boy is playing there.\n",
    "#### There is a playground.\n",
    "#### An aeroplane is in the sky.\n",
    "#### The sky is pink.\n",
    "#### Alphabets and numbers are allowed in the password.\n",
    "#### The function should display the output as 3"
   ]
  },
  {
   "cell_type": "code",
   "execution_count": 40,
   "metadata": {},
   "outputs": [],
   "source": [
    "#Creating a text file in create and write mode\n",
    "fh = open(\"story.txt\", 'xt')"
   ]
  },
  {
   "cell_type": "code",
   "execution_count": 41,
   "metadata": {},
   "outputs": [],
   "source": [
    "fh.write(\"A boy is playing there.\\nThere is a playground.\\nAn aeroplane is in the sky.\\nThe sky is pink.\\nAlphabets and numbers are allowed in the password.\")\n",
    "fh.close()    # Closing the file"
   ]
  },
  {
   "cell_type": "code",
   "execution_count": 50,
   "metadata": {},
   "outputs": [
    {
     "name": "stdout",
     "output_type": "stream",
     "text": [
      "The number of lines not starting with 'T' is :  3\n"
     ]
    }
   ],
   "source": [
    "#Defining a function to count the lines not starting with 'T'\n",
    "def count_line_not_t(lines):\n",
    "    not_t_count = 0    # Variable to count the output \n",
    "    \n",
    "    for line in lines:    # Loop to check line by line\n",
    "        \n",
    "        if line[0] != 'T':    # Checking if the first alphabet of the line is 'T'\n",
    "            not_t_count += 1    # Increasing the count value if first alphabet not 'T'\n",
    "        \n",
    "    print(\"The number of lines not starting with 'T' is : \", not_t_count)\n",
    "        \n",
    "# Opening the file is read write mode\n",
    "fh = open(\"story.txt\", 'rt')\n",
    "lines_story = fh.readlines()    # Reading the contents of the file to a variable\n",
    "count_line_not_t(lines_story)    # Passing that variable to a function to read line by line\n",
    "fh.close()    # Closing the file"
   ]
  },
  {
   "cell_type": "markdown",
   "metadata": {},
   "source": [
    "### Write a function in Python to count and display the total number of words in a text file."
   ]
  },
  {
   "cell_type": "code",
   "execution_count": 63,
   "metadata": {},
   "outputs": [
    {
     "name": "stdout",
     "output_type": "stream",
     "text": [
      "The numner of words in the file is :  27\n"
     ]
    }
   ],
   "source": [
    "# Defining a function to count the number of words\n",
    "def count_words (text_data):\n",
    "    words_story = data.split()    # Using the split function to split the data by space and end of line and get an array (default)\n",
    "    return len(words_story)    # Returning the lenght of the text array from split function gives the number of words\n",
    "\n",
    "fh = open(r'story.txt','r')    # Opening the file in read mode\n",
    "data = fh.read()    # Storing the raw data in variable\n",
    "\n",
    "print(\"The numner of words in the file is : \",count_words(data))    # Calling the function\n",
    "\n",
    "fh.close()    # Closing the file"
   ]
  },
  {
   "cell_type": "markdown",
   "metadata": {},
   "source": [
    "### Write a function in Python to read lines from a text file \"notes.txt\". \n",
    "#### Your function should find and display the occurrence of the word \"the\".\n",
    "\n",
    "#### For example: If the content of the file is:\n",
    "#### \"India is the fastest-growing economy. India is looking for more investments around the globe. The whole world is looking at India as a great market. Most of the Indians can foresee the heights that India is capable of reaching.\"\n",
    "\n",
    "#### The output should be 5."
   ]
  },
  {
   "cell_type": "code",
   "execution_count": 64,
   "metadata": {},
   "outputs": [],
   "source": [
    "#Creating a text file in create and write mode\n",
    "fh = open(\"notes.txt\", 'xt')"
   ]
  },
  {
   "cell_type": "code",
   "execution_count": 65,
   "metadata": {},
   "outputs": [],
   "source": [
    "fh.write(\"India is the fastest-growing economy. India is looking for more investments around the globe. The whole world is looking at India as a great market. Most of the Indians can foresee the heights that India is capable of reaching.\")\n",
    "fh.close()    # Closing the file"
   ]
  },
  {
   "cell_type": "code",
   "execution_count": 100,
   "metadata": {},
   "outputs": [
    {
     "name": "stdout",
     "output_type": "stream",
     "text": [
      "The number of 'the' in the file is :  5\n"
     ]
    }
   ],
   "source": [
    "# Defining a function to count the number of 'the'\n",
    "def count_the (text_data):\n",
    "    list_of_words = text_data.split()    # Creating a list of all words in the file using split function\n",
    "    the_count = filter(lambda x : x == 'the' or x == 'The', list_of_words)    # Using lambda function to filter the words 'the' and 'The'\n",
    "    return len(list(the_count))    # Returning the lenght of the list containing all 'the's\n",
    "\n",
    "fh = open(r'notes.txt','r')    # Opening the file in read mode\n",
    "data = fh.read()    # Storing the raw data in variable\n",
    "\n",
    "print(\"The number of 'the' in the file is : \",count_the(data))    # Calling the function\n",
    "\n",
    "fh.close()    # Closing the file"
   ]
  },
  {
   "cell_type": "markdown",
   "metadata": {},
   "source": [
    "### Write a function display_words() in python to read lines from a text file \"story.txt\", and display those words, which are less than 4 characters."
   ]
  },
  {
   "cell_type": "code",
   "execution_count": 117,
   "metadata": {},
   "outputs": [
    {
     "name": "stdout",
     "output_type": "stream",
     "text": [
      "The number of words which have less than 4 characters is :  16\n"
     ]
    }
   ],
   "source": [
    "#Function definition to find the number of words that has less than 4 characters\n",
    "def display_words():\n",
    "    fh = open(r'story.txt','r')    # Opening the file in read mode\n",
    "    data = fh.read()    # Reading the raw data\n",
    "    list_of_words = data.split()    # Using split function to get the list of words\n",
    "    small_words = filter(lambda x : (len(x) < 4) , list_of_words)    # Using lambda function to filter words less than 4 characters long\n",
    "    print(\"The number of words which have less than 4 characters is : \",len(list(small_words)))    # Printing the length of the list\n",
    "    \n",
    "display_words()    # Function call"
   ]
  },
  {
   "cell_type": "code",
   "execution_count": null,
   "metadata": {},
   "outputs": [],
   "source": [
    "# Write a function in Python to count the words \"this\" and \"these\" present in a text file \"article.txt\". \n",
    "# [Note that the words \"this\" and \"these\" are complete words] "
   ]
  },
  {
   "cell_type": "code",
   "execution_count": null,
   "metadata": {},
   "outputs": [],
   "source": [
    "# Write a function in Python to count words in a text file those are ending with alphabet \"e\""
   ]
  },
  {
   "cell_type": "code",
   "execution_count": null,
   "metadata": {},
   "outputs": [],
   "source": [
    "# Write a function in Python to count uppercase character in a text file."
   ]
  },
  {
   "cell_type": "code",
   "execution_count": null,
   "metadata": {},
   "outputs": [],
   "source": [
    "# A text file named \"matter.txt\" contains some text, which needs to be displayed such that \n",
    "# every next character is separated by a symbol \"#\". \n",
    "# Write a function definition for hash_display() in Python that would display \n",
    "# the entire content of the file matter.txt in the desired format.\n",
    "\n",
    "# Example :\n",
    "# If the file matter.txt has the following content stored in it :\n",
    "# THE WORLD IS ROUND\n",
    "\n",
    "# The function hash_display() should display the following content :\n",
    "# T#H#E# #W#O#R#L#D# #I#S# #R#O#U#N#D#"
   ]
  },
  {
   "cell_type": "code",
   "execution_count": null,
   "metadata": {},
   "outputs": [],
   "source": [
    "# Aditi has used a text editing software to type some text. After saving the article as WORDS.TXT, \n",
    "# she realised that she has wrongly typed alphabet J in place of alphabet I everywhere in the article.\n",
    "# Write a function definition for JTOI() in Python that would display the corrected version of entire content \n",
    "# of the file WORDS.TXT with all the alphabets \"J\" to be displayed as an alphabet \"I\" on screen.\n",
    "\n",
    "# Note: Assuming that WORD.TXT does not contain any J alphabet otherwise.\n",
    "\n",
    "# Example:\n",
    "# If Aditi has stored the following content in the file WORDS.TXT:\n",
    "# WELL, THJS JS A WORD BY JTSELF. YOU COULD STRETCH THJS TO BE A SENTENCE\n",
    "# The function JTOI() should display the following content:\n",
    "# WELL, THIS IS A WORD BY ITSELF. YOU COULD STRETCH THIS TO BE A SENTENCE"
   ]
  },
  {
   "cell_type": "code",
   "execution_count": null,
   "metadata": {},
   "outputs": [],
   "source": [
    "# Write a function AMCount() in Python, which should read each character of a text file STORY.TXT, \n",
    "# should count and display the occurance of alphabets A and M (including small cases a and m too).\n",
    "# For Example:\n",
    "# If the file content is as follows:\n",
    "# Updated information\n",
    "# As simplified by official websites.\n",
    "# The EUCount() function should display the output as:\n",
    "# A or a:4\n",
    "# M or m :2"
   ]
  },
  {
   "cell_type": "code",
   "execution_count": null,
   "metadata": {},
   "outputs": [],
   "source": [
    "# A binary file \"Book.dat\" has structure [BookNo, Book_Name, Author, Price].\n",
    "# i. Write a user defined function createFile() to input data for a record and add to Book.dat.\n",
    "# ii. Write a function countRec(Author) in Python which accepts the Author name as parameter \n",
    "# and count and return number of books by the given Author are stored in the binary file \"Book.dat\""
   ]
  },
  {
   "cell_type": "code",
   "execution_count": null,
   "metadata": {},
   "outputs": [],
   "source": [
    "# A binary file \"STUDENT.DAT\" has structure (admission_number, Name, Percentage). \n",
    "# Write a function count_rec() in Python that would read contents of the file \"STUDENT.DAT\" \n",
    "# and display the details of those students whose percentage is above 75. \n",
    "# Also display number of students scoring above 75%"
   ]
  },
  {
   "cell_type": "code",
   "execution_count": null,
   "metadata": {},
   "outputs": [],
   "source": [
    "# Given a binary file employee.dat, created using dictionary object having keys: (empcode, name, and salary)\n",
    "\n",
    "# Write a python function that add one more record at the end of file.\n",
    "# Write a python function that display all employee records whose salary is more that 30000\n"
   ]
  },
  {
   "cell_type": "code",
   "execution_count": null,
   "metadata": {},
   "outputs": [],
   "source": [
    "# Write a function to search and display details of student whose rollno is '1005' \n",
    "# from the binary file student.dat having structure [rollno, name, class and fees]."
   ]
  },
  {
   "cell_type": "code",
   "execution_count": null,
   "metadata": {},
   "outputs": [],
   "source": [
    "# A binary file school.dat has structure(rollno, name, class, fees)\n",
    "\n",
    "# Write a definition for function total_fees( ) that reads each object of file and calculate \n",
    "# the total fees of students and display the same."
   ]
  },
  {
   "cell_type": "code",
   "execution_count": null,
   "metadata": {},
   "outputs": [],
   "source": [
    "# A binary file players.dat, containing records of following list format: [code, name, country and total runs]\n",
    "\n",
    "# 1. Write a python function that display all records where player name starts from 'A'\n",
    "# 2. Write a python function that accept country as an argument and count and display \n",
    "#     the number of players of that country.\n",
    "# 3. Write a python function that add one record at the end of file."
   ]
  },
  {
   "cell_type": "code",
   "execution_count": 1,
   "metadata": {
    "ExecuteTime": {
     "end_time": "2021-05-29T10:46:59.140338Z",
     "start_time": "2021-05-29T10:46:59.135100Z"
    }
   },
   "outputs": [],
   "source": [
    "# Given a binary file game.dat, containing records of following list format: [game_name, participants]\n",
    "\n",
    "# Write a function in Python that would read contents from the file game.dat and \n",
    "# creates a file named basket.dat copying only those records from game.dat where the game name is \"Basket Ball\""
   ]
  }
 ],
 "metadata": {
  "kernelspec": {
   "display_name": "Python 3",
   "language": "python",
   "name": "python3"
  },
  "language_info": {
   "codemirror_mode": {
    "name": "ipython",
    "version": 3
   },
   "file_extension": ".py",
   "mimetype": "text/x-python",
   "name": "python",
   "nbconvert_exporter": "python",
   "pygments_lexer": "ipython3",
   "version": "3.8.3"
  }
 },
 "nbformat": 4,
 "nbformat_minor": 4
}
