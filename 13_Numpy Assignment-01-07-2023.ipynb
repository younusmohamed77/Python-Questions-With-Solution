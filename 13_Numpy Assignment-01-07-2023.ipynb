{
 "cells": [
  {
   "cell_type": "markdown",
   "metadata": {},
   "source": [
    "### Write a Python program to print the NumPy version in your system."
   ]
  },
  {
   "cell_type": "code",
   "execution_count": 1,
   "metadata": {},
   "outputs": [
    {
     "name": "stdout",
     "output_type": "stream",
     "text": [
      "The NumPy version is : 1.18.5\n"
     ]
    }
   ],
   "source": [
    "import numpy as np    # Importing NumPy library\n",
    "print(f\"The NumPy version is : {np.__version__}\")    # Getting the version"
   ]
  },
  {
   "cell_type": "markdown",
   "metadata": {},
   "source": [
    "### Write a Python program to reverse an array (first element becomes last)."
   ]
  },
  {
   "cell_type": "code",
   "execution_count": 2,
   "metadata": {},
   "outputs": [
    {
     "name": "stdout",
     "output_type": "stream",
     "text": [
      "The array is : [1 2 3 4 5 6 7]\n",
      "The reversed array is : [7 6 5 4 3 2 1]\n",
      "The array is : [[1 2]\n",
      " [3 4]\n",
      " [5 6]]\n",
      "The reversed array using slicing is : [[5 6]\n",
      " [3 4]\n",
      " [1 2]]\n",
      "The reversed array using flip function is : [[6 5]\n",
      " [4 3]\n",
      " [2 1]]\n",
      "The reversed array using flipud function is : [[5 6]\n",
      " [3 4]\n",
      " [1 2]]\n"
     ]
    }
   ],
   "source": [
    "import numpy as np \n",
    "array1 = np.array([1,2,3,4,5,6,7])    # 1D array\n",
    "array2 = np.array([[1,2],[3,4],[5,6]])    # 2D array \n",
    "\n",
    "print(f\"The array is : {array1}\")\n",
    "print(f\"The reversed array is : {array1[::-1]}\")    # Reversing using slicing\n",
    "print(f\"The array is : {array2}\")\n",
    "print(f\"The reversed array using slicing is : {array2[::-1]}\")\n",
    "print(f\"The reversed array using flip function is : {np.flip(array2)}\")\n",
    "print(f\"The reversed array using flipud function is : {np.flipud(array2)}\")"
   ]
  },
  {
   "cell_type": "markdown",
   "metadata": {},
   "source": [
    "### Write a Python program to convert a list and tuple into arrays."
   ]
  },
  {
   "cell_type": "code",
   "execution_count": 3,
   "metadata": {},
   "outputs": [
    {
     "name": "stdout",
     "output_type": "stream",
     "text": [
      "[1 2 3 4 5]\n",
      "[ 1  4  9 16 25]\n",
      "[ 0  2  6  8 20]\n",
      "[[ 1  2  3  4  5]\n",
      " [ 1  4  9 16 25]\n",
      " [ 0  2  6  8 20]]\n"
     ]
    }
   ],
   "source": [
    "\n",
    "import numpy as np \n",
    "list1 = [1,2,3,4,5]\n",
    "list2 = [1,4,9,16,25]\n",
    "tupple1 = (0,2,6,8,20)\n",
    "\n",
    "array3 = np.array(list1)    # Creating 1D array\n",
    "array4 = np.array(list2)\n",
    "array5 = np.array(tupple1)\n",
    "array6 = np.array((list1,list2,tupple1))    # Creating 2D array\n",
    "\n",
    "print(array3)\n",
    "print(array4)\n",
    "print(array5)\n",
    "print(array6)"
   ]
  },
  {
   "cell_type": "markdown",
   "metadata": {},
   "source": [
    "### Write a Python program to find common values between two arrays."
   ]
  },
  {
   "cell_type": "code",
   "execution_count": 4,
   "metadata": {},
   "outputs": [
    {
     "name": "stdout",
     "output_type": "stream",
     "text": [
      "The common elements between the 2 arrays are : [1 2 5 7]\n"
     ]
    }
   ],
   "source": [
    "import numpy as np\n",
    "\n",
    "array7 = np.array([1,2,3,4,5,6,7])\n",
    "array8 = np.array([(0,7),(1,2),(1,9),(9,5)])\n",
    "\n",
    "out_array1 = np.intersect1d(array7, array8)\n",
    "# intersect1d function first faltens the array to 1D and then compares for common values\n",
    "\n",
    "print(f\"The common elements between the 2 arrays are : {out_array1}\")"
   ]
  },
  {
   "cell_type": "markdown",
   "metadata": {},
   "source": [
    "### Write a Python program compare two arrays using numpy."
   ]
  },
  {
   "cell_type": "code",
   "execution_count": 5,
   "metadata": {},
   "outputs": [
    {
     "name": "stdout",
     "output_type": "stream",
     "text": [
      "[False False  True False  True  True  True False]\n",
      "[False False  True  True  True  True  True False]\n",
      "[ True  True  True False  True  True  True  True]\n",
      "[ True  True False  True False False False  True]\n"
     ]
    }
   ],
   "source": [
    "import numpy as np\n",
    "\n",
    "array9 = np.array([1,8,0,5,2,0,2,3])\n",
    "array10 = np.array([0,7,0,8,2,0,2,2])\n",
    "\n",
    "# Comparinson operators\n",
    "print(array9 == array10)\n",
    "print(array9 <= array10)\n",
    "print(array9 >= array10)\n",
    "print(array9 != array10)"
   ]
  },
  {
   "cell_type": "markdown",
   "metadata": {},
   "source": [
    "### Write a Python program to change the dimension of an array."
   ]
  },
  {
   "cell_type": "code",
   "execution_count": 7,
   "metadata": {},
   "outputs": [
    {
     "name": "stdout",
     "output_type": "stream",
     "text": [
      "The array in 1D - [1 9 0 5 2 0 2 3]\n",
      "The array in 2D - [[1 9 0 5]\n",
      " [2 0 2 3]]\n",
      "The array in 3D - [[[1 9]\n",
      "  [0 5]]\n",
      "\n",
      " [[2 0]\n",
      "  [2 3]]]\n",
      "The array in 2D - [[0 7 0 8]\n",
      " [2 0 2 2]]\n",
      "The array in 1D - [0 7 0 8 2 0 2 2]\n",
      "The array in 3D - [[[1 9]\n",
      "  [0 5]]\n",
      "\n",
      " [[2 0]\n",
      "  [2 3]]]\n"
     ]
    }
   ],
   "source": [
    "import numpy as np\n",
    "\n",
    "array11 = np.array([1, 9, 0, 5, 2, 0, 2, 3])\n",
    "array12 = np.array([[0, 7, 0, 8], [2, 0, 2, 2]])\n",
    "\n",
    "print(f\"The array in 1D - {array11}\")\n",
    "\n",
    "#Using the reshape module in NumPy \n",
    "print(f\"The array in 2D - {np.reshape(array11, (2, 4))}\")\n",
    "print(f\"The array in 3D - {np.reshape(array11, (2, 2, 2))}\")\n",
    "\n",
    "print(f\"The array in 2D - {array12}\")\n",
    "print(f\"The array in 1D - {np.reshape(array12, 8)}\")\n",
    "print(f\"The array in 3D - {np.reshape(array11, (2, 2, 2))}\")"
   ]
  },
  {
   "cell_type": "markdown",
   "metadata": {},
   "source": [
    "### Write a Python program (using numpy) to sum of all the multiples of 3 or 5 below 100."
   ]
  },
  {
   "cell_type": "code",
   "execution_count": 15,
   "metadata": {},
   "outputs": [
    {
     "name": "stdout",
     "output_type": "stream",
     "text": [
      "The sum of all the multiples of 3 or 5 below 100 is : 2733\n"
     ]
    }
   ],
   "source": [
    "import numpy as np\n",
    "\n",
    "#Using the arange function to get arrays of multiples of 3 and 5\n",
    "array_mul3 = np.arange(0, 101, 3)\n",
    "array_mul5 = np.arange(0, 101, 5)\n",
    "\n",
    "print(f\"The sum of all the multiples of 3 or 5 below 100 is : {np.sum(array_mul3) + np.sum(array_mul5)}\")"
   ]
  },
  {
   "cell_type": "markdown",
   "metadata": {},
   "source": [
    "### Write a Python program to convert a NumPy array into Python list structure. "
   ]
  },
  {
   "cell_type": "code",
   "execution_count": 23,
   "metadata": {},
   "outputs": [
    {
     "name": "stdout",
     "output_type": "stream",
     "text": [
      "Array 1 - [1 9 0 5 2 0 2 3]\n",
      "Coverted to list : [1, 9, 0, 5, 2, 0, 2, 3]\n",
      "\n",
      "Array 2 - [[0 7 0 8]\n",
      " [2 0 2 2]]\n",
      "Coverted to list : [[0, 7, 0, 8], [2, 0, 2, 2]]\n"
     ]
    }
   ],
   "source": [
    "import numpy as np\n",
    "\n",
    "array11 = np.array([1, 9, 0, 5, 2, 0, 2, 3])\n",
    "array12 = np.array([[0, 7, 0, 8], [2, 0, 2, 2]])\n",
    "\n",
    "#Using tolist() function\n",
    "print(f\"Array 1 - {array11}\")\n",
    "print(f\"Coverted to list : {array11.tolist()}\")\n",
    "\n",
    "print(f\"\\nArray 2 - {array12}\")\n",
    "print(f\"Coverted to list : {array12.tolist()}\")"
   ]
  },
  {
   "cell_type": "markdown",
   "metadata": {},
   "source": [
    "### Write a Python program to how to add an extra column to a numpy array."
   ]
  },
  {
   "cell_type": "code",
   "execution_count": 36,
   "metadata": {},
   "outputs": [
    {
     "name": "stdout",
     "output_type": "stream",
     "text": [
      "\n",
      "The array is\n",
      "[[0 7 0 8]\n",
      " [2 0 2 2]]\n",
      "Adding 2 columns to the array : \n",
      "[[0 7 0 8 1 2]\n",
      " [2 0 2 2 3 4]]\n"
     ]
    }
   ],
   "source": [
    "import numpy as np\n",
    "\n",
    "array12 = np.array([[0, 7, 0, 8], [2, 0, 2, 2]])\n",
    "array13 = np.array([[1,2],[3, 4]])\n",
    "print(f\"\\nThe array is\\n{array12}\")\n",
    "\n",
    "#Using covatenate function\n",
    "array14 = np.concatenate((array12, array13), axis = 1)\n",
    "print(f\"Adding 2 columns to the array : \\n{array14}\")"
   ]
  },
  {
   "cell_type": "markdown",
   "metadata": {},
   "source": [
    "### Write a Python program to check whether the numpy array is empty or not."
   ]
  },
  {
   "cell_type": "code",
   "execution_count": 57,
   "metadata": {},
   "outputs": [
    {
     "name": "stdout",
     "output_type": "stream",
     "text": [
      "Array [1 4 0 6 2 0 2 3] is not empty - Using size method\n",
      "Array [] is empty - Using size method\n",
      "Array [1 4 0 6 2 0 2 3] is not empty - Using shape method\n",
      "Array [] is not empty - Using shape method\n",
      "Array [1 4 0 6 2 0 2 3] is not empty - Using array length method\n",
      "Array [] is empty - Using array length method\n"
     ]
    }
   ],
   "source": [
    "import numpy as np\n",
    "\n",
    "def check_size(arr):\n",
    "    if arr.size == 0:\n",
    "        print(f\"Array {arr} is empty - Using size method\")\n",
    "    \n",
    "    else:\n",
    "        print(f\"Array {arr} is not empty - Using size method\")\n",
    "    \n",
    "def check_shape(arr):\n",
    "    if arr.shape == 0:\n",
    "        print(f\"Array {arr} is empty - Using shape method\")\n",
    "    \n",
    "    else:\n",
    "        print(f\"Array {arr} is not empty - Using shape method\")\n",
    "    \n",
    "def check_len(arr):\n",
    "    if len(arr) == 0:\n",
    "        print(f\"Array {arr} is empty - Using array length method\")\n",
    "    \n",
    "    else:\n",
    "        print(f\"Array {arr} is not empty - Using array length method\")   \n",
    "\n",
    "array15 = np.array([1, 4, 0, 6, 2, 0, 2, 3])\n",
    "array16 = np.array([])\n",
    "\n",
    "check_size(array15)\n",
    "check_size(array16)\n",
    "check_shape(array15)\n",
    "check_shape(array16)\n",
    "check_len(array15)\n",
    "check_len(array16)"
   ]
  },
  {
   "cell_type": "markdown",
   "metadata": {},
   "source": [
    "### How to ignore all numpy warnings (not recommended)?"
   ]
  },
  {
   "cell_type": "code",
   "execution_count": 63,
   "metadata": {},
   "outputs": [
    {
     "data": {
      "text/plain": [
       "{'divide': 'warn', 'over': 'warn', 'under': 'ignore', 'invalid': 'warn'}"
      ]
     },
     "execution_count": 63,
     "metadata": {},
     "output_type": "execute_result"
    }
   ],
   "source": [
    "import numpy as np\n",
    "np.seterr(all = 'ignore')"
   ]
  },
  {
   "cell_type": "markdown",
   "metadata": {},
   "source": [
    "### How to swap two rows of an array?"
   ]
  },
  {
   "cell_type": "code",
   "execution_count": 77,
   "metadata": {},
   "outputs": [
    {
     "name": "stdout",
     "output_type": "stream",
     "text": [
      "The array is : \n",
      "[[1 4 0 6]\n",
      " [2 0 2 3]\n",
      " [2 0 4 2]]\n",
      "Swapped array : \n",
      " [[2 0 4 2]\n",
      " [2 0 2 3]\n",
      " [1 4 0 6]]\n",
      "Swapped again : \n",
      " [[2 0 2 3]\n",
      " [2 0 4 2]\n",
      " [1 4 0 6]]\n"
     ]
    }
   ],
   "source": [
    "import numpy as np\n",
    "\n",
    "array17 = np.array([[1, 4, 0, 6], [2, 0, 2, 3],[2, 0, 4, 2]])\n",
    "\n",
    "print(f\"The array is : \\n{array17}\")\n",
    "\n",
    "#Selecting submatrix in the mentioned order to swap rows\n",
    "print(f\"Swapped array : \\n {array17[[2, 1, 0]]}\")\n",
    "print(f\"Swapped again : \\n {array17[[1, 2, 0]]}\")"
   ]
  },
  {
   "cell_type": "markdown",
   "metadata": {},
   "source": [
    "### Python program to create a random vector of size 10 and sort it."
   ]
  },
  {
   "cell_type": "code",
   "execution_count": 31,
   "metadata": {},
   "outputs": [
    {
     "name": "stdout",
     "output_type": "stream",
     "text": [
      "The random vector is :  [0.78775233 0.79434339 0.47073086 0.60933369 0.41451371 0.9394828\n",
      " 0.09115026 0.39514043 0.36924103 0.19082216]\n",
      "After sorting :  [0.09115026 0.19082216 0.36924103 0.39514043 0.41451371 0.47073086\n",
      " 0.60933369 0.78775233 0.79434339 0.9394828 ]\n",
      "Another random vector :  [0 1 2 3 4 5 6 7 8 9]\n"
     ]
    }
   ],
   "source": [
    "import numpy as np\n",
    "\n",
    "array18 = np.random.random(10)    # Using the random module\n",
    "print(\"The random vector is : \",array18)\n",
    "\n",
    "array18.sort()    # Using the sort function \n",
    "print(\"After sorting : \",array18)\n",
    "\n",
    "# Using arange function to generate a random array sorted\n",
    "array23 = np.arange(10)\n",
    "print(\"Another random vector : \",array23)"
   ]
  },
  {
   "cell_type": "markdown",
   "metadata": {},
   "source": [
    "### Write a Python program to check two random arrays are equal or not."
   ]
  },
  {
   "cell_type": "code",
   "execution_count": 26,
   "metadata": {},
   "outputs": [
    {
     "name": "stdout",
     "output_type": "stream",
     "text": [
      "The random arrays are : \n",
      "[-1.18813273  0.44705566 -0.02355209  1.74121239 -0.90115595  0.97263876\n",
      "  0.52541452 -0.22771345  0.19494911  0.16728387]\n",
      "[ 0.70913556  0.58536281 -1.35767582 -2.48528832 -0.58365506  1.14955656\n",
      " -0.74578376 -1.59659483 -0.13055295  0.90570861]\n",
      "Both the arrays are different\n"
     ]
    }
   ],
   "source": [
    "import numpy as np\n",
    "\n",
    "# Using random module to generate a random array\n",
    "array19 = np.random.randn(10)\n",
    "array20 = np.random.randn(10)\n",
    "\n",
    "print(\"The random arrays are : \")\n",
    "print(array19)\n",
    "print(array20)\n",
    "\n",
    "# Sorting the arrays to make comparison proper\n",
    "array19.sort()\n",
    "array20.sort()\n",
    "\n",
    "# Using array_equal function to compare the random arrays\n",
    "if np.array_equal(array19 , array20):  \n",
    "    print(\"Both the arrays are similar\")\n",
    "    \n",
    "else:\n",
    "    print(\"Both the arrays are different\")"
   ]
  },
  {
   "cell_type": "markdown",
   "metadata": {},
   "source": [
    "### Write a Python program to add, subtract, multiply, divide arguments element-wise."
   ]
  },
  {
   "cell_type": "code",
   "execution_count": 43,
   "metadata": {},
   "outputs": [
    {
     "name": "stdout",
     "output_type": "stream",
     "text": [
      "First array :\n",
      "[[0 1 2]\n",
      " [3 4 5]\n",
      " [6 7 8]]\n",
      "Second array :\n",
      "[[0 1 2]\n",
      " [3 4 5]\n",
      " [6 7 8]]\n",
      "After adding each element : \n",
      "[[ 0  2  4]\n",
      " [ 6  8 10]\n",
      " [12 14 16]]\n",
      "After subtracting each element : \n",
      "[[0 0 0]\n",
      " [0 0 0]\n",
      " [0 0 0]]\n",
      "After multiplying each element : \n",
      "[[ 0  1  4]\n",
      " [ 9 16 25]\n",
      " [36 49 64]]\n",
      "After deviding each element : \n",
      "[[nan  1.  1.]\n",
      " [ 1.  1.  1.]\n",
      " [ 1.  1.  1.]]\n"
     ]
    },
    {
     "name": "stderr",
     "output_type": "stream",
     "text": [
      "<ipython-input-43-b17dcd937599>:11: RuntimeWarning: invalid value encountered in true_divide\n",
      "  print(\"After deviding each element : \",arr_1 / arr_2, sep='\\n')\n"
     ]
    }
   ],
   "source": [
    "def addition(arr_1, arr_2):\n",
    "    print(\"After adding each element : \",arr_1 + arr_2, sep='\\n')\n",
    "    \n",
    "def subtraction(arr_1, arr_2):\n",
    "    print(\"After subtracting each element : \",arr_1 - arr_2, sep='\\n')\n",
    "    \n",
    "def multiplication(arr_1, arr_2):\n",
    "    print(\"After multiplying each element : \",arr_1 * arr_2, sep='\\n')\n",
    "    \n",
    "def division(arr_1, arr_2):\n",
    "    print(\"After deviding each element : \",arr_1 / arr_2, sep='\\n')\n",
    "    \n",
    "import numpy as np\n",
    "\n",
    "# Using arange and reshaping it to a 3x3 array\n",
    "array21 = np.arange(9).reshape(3,3)\n",
    "print(\"First array :\", array21, sep='\\n')\n",
    "\n",
    "# Using arange and reshaping it to a 3x3 array\n",
    "array22 = np.arange(9).reshape(3,3)\n",
    "print(\"Second array :\", array22, sep='\\n')\n",
    "\n",
    "# Using the arrays as arguments to call the functions for basic operations\n",
    "addition(array21, array22)\n",
    "subtraction(array21, array22)\n",
    "multiplication(array21, array22)\n",
    "division(array21, array22)"
   ]
  },
  {
   "cell_type": "markdown",
   "metadata": {},
   "source": [
    "### Write a Python program to get the dates of yesterday, today and tomorrow."
   ]
  },
  {
   "cell_type": "code",
   "execution_count": 68,
   "metadata": {},
   "outputs": [
    {
     "name": "stdout",
     "output_type": "stream",
     "text": [
      "Today :  2023-07-01\n",
      "Yesterday :  2023-06-30\n",
      "Tomorrow :  2023-07-02\n"
     ]
    }
   ],
   "source": [
    "import numpy as np\n",
    "\n",
    "today = np.datetime64('today')    # Using the datetime module of numpy\n",
    "yesterday = today - 1    # Subtracting 1 to get yesterday's date\n",
    "tomorrow = today + 1    # Adding  to get tomorrow's date\n",
    "\n",
    "print(\"Today : \", today)\n",
    "print(\"Yesterday : \", yesterday)\n",
    "print(\"Tomorrow : \", tomorrow)"
   ]
  }
 ],
 "metadata": {
  "kernelspec": {
   "display_name": "Python 3",
   "language": "python",
   "name": "python3"
  },
  "language_info": {
   "codemirror_mode": {
    "name": "ipython",
    "version": 3
   },
   "file_extension": ".py",
   "mimetype": "text/x-python",
   "name": "python",
   "nbconvert_exporter": "python",
   "pygments_lexer": "ipython3",
   "version": "3.8.3"
  }
 },
 "nbformat": 4,
 "nbformat_minor": 5
}
