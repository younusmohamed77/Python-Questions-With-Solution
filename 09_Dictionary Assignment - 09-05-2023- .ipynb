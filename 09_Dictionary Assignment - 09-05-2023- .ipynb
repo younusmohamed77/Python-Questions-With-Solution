{
 "cells": [
  {
   "cell_type": "markdown",
   "metadata": {
    "id": "KwRaAon6jS3d"
   },
   "source": [
    "### Initialize a dictionary \"emp_info\" with below details\n",
    "#### In - emp_info['Tom']\n",
    "#### Out - {'email':'tom_latham019@gmail.com', 'Phone': +1987654321, 'City': 'California'}\n",
    "#### In - emp_info['Kathy']\n",
    "#### Out - {'email':'kathy_abram897@gmail.com', 'Phone': +1887654321, 'City': 'New York'}"
   ]
  },
  {
   "cell_type": "code",
   "execution_count": 1,
   "metadata": {
    "colab": {
     "base_uri": "https://localhost:8080/"
    },
    "executionInfo": {
     "elapsed": 28,
     "status": "ok",
     "timestamp": 1683623373633,
     "user": {
      "displayName": "Mohamed Younus",
      "userId": "01039810746261245705"
     },
     "user_tz": -240
    },
    "id": "2k4ZB9yltJCa",
    "outputId": "e14c0f3c-0437-411b-ec89-27731aa55dcb"
   },
   "outputs": [
    {
     "name": "stdout",
     "output_type": "stream",
     "text": [
      "Employee Information of Tom : {'email': 'tom_latham019@gmail.com', 'Phone': 1987654321, 'City': 'California'}\n",
      "Employee Information of Kathy : {'email': 'kathy_abram897@gmail.com', 'Phone': 1887654321, 'City': 'New York'}\n"
     ]
    }
   ],
   "source": [
    "emp_info = {'Tom': {'email':'tom_latham019@gmail.com', 'Phone': +1987654321, 'City': 'California'}, 'Kathy' : {'email':'kathy_abram897@gmail.com', 'Phone': +1887654321, 'City': 'New York'}}\n",
    "\n",
    "print(f\"Employee Information of Tom : {emp_info['Tom']}\")    # Using keys to access the values\n",
    "print(f\"Employee Information of Kathy : {emp_info['Kathy']}\")"
   ]
  },
  {
   "cell_type": "markdown",
   "metadata": {
    "id": "RWVjKQFpxhgP"
   },
   "source": [
    "### Create a dictionary out of below inputs\n",
    "lst1 = ['emp1', 'emp2', 'emp3']\n",
    "emp_key = ['e_name', 'e_id', 'e_sal']\n",
    "emp1_val = ['John', 'SG101', '$10,000']\n",
    "emp2_val = ['Smith', 'SG102', '$9,000']\n",
    "emp3_val = ['Peter', 'SG103', '$9,500']\n",
    "\n",
    "#### Expected Output:- {'emp1':{'e_name':'John', 'e_id':'SG101', 'e_sal':$10,000}, \n",
    "emp2':{'e_name':'Smith', 'e_id':'SG102', 'e_sal':$9,000}, \n",
    "'emp3':{'e_name':'Peter', 'e_id':'SG103', 'e_sal':$9,500}}"
   ]
  },
  {
   "cell_type": "code",
   "execution_count": 2,
   "metadata": {
    "colab": {
     "base_uri": "https://localhost:8080/"
    },
    "executionInfo": {
     "elapsed": 421,
     "status": "ok",
     "timestamp": 1683626673522,
     "user": {
      "displayName": "Mohamed Younus",
      "userId": "01039810746261245705"
     },
     "user_tz": -240
    },
    "id": "BAUj-S0fqFWG",
    "outputId": "a0349e28-7d84-4d47-9a2a-b091bb2edca8"
   },
   "outputs": [
    {
     "name": "stdout",
     "output_type": "stream",
     "text": [
      "{'emp1': {'e_name': 'John', 'e_id': 'SG101', 'e_sal': '$10,000'}, 'emp2': {'e_name': 'Smith', 'e_id': 'SG102', 'e_sal': '$9,000'}, 'emp3': {'e_name': 'Peter', 'e_id': 'SG103', 'e_sal': '$9,500'}}\n"
     ]
    }
   ],
   "source": [
    "in_list1 = ['emp1', 'emp2', 'emp3']\n",
    "emp_key = ['e_name', 'e_id', 'e_sal']\n",
    "emp1_val = ['John', 'SG101', '$10,000']\n",
    "emp2_val = ['Smith', 'SG102', '$9,000']\n",
    "emp3_val = ['Peter', 'SG103', '$9,500']\n",
    "emp_dict = {}    # Output dictionary\n",
    "emp_details_list = [emp1_val, emp2_val, emp3_val]    # Adding all the lists into one\n",
    "\n",
    "for i in range(len(in_list1)):    # Looping over the list of keys\n",
    "    temp_dict = {}    # Temporary dictionary to hold the inner dictionary \n",
    "    for j in range(len(emp_key)):\n",
    "        temp_dict.update({emp_key[j] : emp_details_list[i][j]})\n",
    "    emp_dict.update({in_list1[i] : temp_dict})\n",
    "    \n",
    "print(emp_dict)"
   ]
  },
  {
   "cell_type": "markdown",
   "metadata": {},
   "source": [
    "### Acess the value of key 'history'"
   ]
  },
  {
   "cell_type": "code",
   "execution_count": 3,
   "metadata": {
    "id": "LxGZ3jbjrBkj"
   },
   "outputs": [
    {
     "name": "stdout",
     "output_type": "stream",
     "text": [
      "The value of key history is : 80\n"
     ]
    }
   ],
   "source": [
    "sampleDict = { \n",
    "   \"class\":{ \n",
    "      \"student\":{ \n",
    "         \"name\":\"Mike\",\n",
    "         \"marks\":{ \n",
    "            \"physics\":70,\n",
    "            \"history\":80\n",
    "         }\n",
    "      }\n",
    "   }\n",
    "}\n",
    "\n",
    "print(f\"The value of key history is : {sampleDict['class']['student']['marks']['history']}\")    # Acessing the value in key 'history'"
   ]
  },
  {
   "cell_type": "markdown",
   "metadata": {
    "id": "Vm8UZbyNrKID"
   },
   "source": [
    "### Initialize dictionary with default values. \n",
    "#### Inputs are:-\n",
    "employees = ['Kelly', 'Emma', 'John']\n",
    "defaults = {\"designation\": 'Application Developer', \"salary\": 8000}\n",
    "\n",
    "#### Expected output:- \n",
    "{'Kelly': {'designation': 'Application Developer', 'salary': 8000}, \n",
    " 'Emma': {'designation': 'Application Developer', 'salary': 8000}, \n",
    " 'John': {'designation': 'Application Developer', 'salary': 8000}}"
   ]
  },
  {
   "cell_type": "code",
   "execution_count": 4,
   "metadata": {},
   "outputs": [
    {
     "name": "stdout",
     "output_type": "stream",
     "text": [
      "{'Kelly': {'designation': 'Application Developer', 'salary': 8000}, 'Emma': {'designation': 'Application Developer', 'salary': 8000}, 'John': {'designation': 'Application Developer', 'salary': 8000}}\n"
     ]
    }
   ],
   "source": [
    "employees = ['Kelly', 'Emma', 'John']\n",
    "defaults = {\"designation\": 'Application Developer', \"salary\": 8000}\n",
    "out_dict = {}\n",
    "\n",
    "for i in employees:\n",
    "    out_dict.update({i : defaults})    # Updating the key value pair\n",
    "    \n",
    "print(out_dict)"
   ]
  },
  {
   "cell_type": "markdown",
   "metadata": {
    "id": "nmFdbaHBrThC"
   },
   "source": [
    "#### In gene expression, mRNA is transcribed from a DNA template. \n",
    "#### The 4 nucleotide bases of A, T, C, G corresponds to the U, A, G, C bases of the mRNA. \n",
    "#### Write a function that returns the mRNA transcript given the sequence of a DNA strand.\n",
    "\n",
    "### Use a dictionary to provide the mapping of DNA to RNA bases."
   ]
  },
  {
   "cell_type": "code",
   "execution_count": 9,
   "metadata": {},
   "outputs": [
    {
     "name": "stdout",
     "output_type": "stream",
     "text": [
      "Enter the sequence of DNA strand (in capital letters) : AAAGTCTGAC\n",
      "RNA bases corresponding to the entered DNA nucleotide is : UUUCAGACUG\n"
     ]
    }
   ],
   "source": [
    "def mapping (dna):     # Function Definition\n",
    "    dna_rna = {'A' : 'U' , 'T' : 'A' , 'C' : 'G' , 'G' : 'C' }    # Setting the key value pair as DNA to RNA correspondance\n",
    "    rna = ''\n",
    "\n",
    "    for i in dna:\n",
    "        \n",
    "        if i in dna_rna:    # Checking if the DNA sequence is valid\n",
    "            rna += dna_rna[i]    # For every character in the entered DNA script adding the respective mRNA script\n",
    "        \n",
    "        else:\n",
    "            print(\"Invalid Sequence\")\n",
    "            break\n",
    "            \n",
    "    if len(dna) == len(rna):    # Checking if the mRNA transcripting is complete witjout any errors in DNA sequence\n",
    "        return rna\n",
    "\n",
    "#dna_nucleotide = \"AAAGTCTGAC\"\n",
    "dna_nucleotide = input(\"Enter the sequence of DNA strand (in capital letters) : \")\n",
    "rna_bases = mapping (dna_nucleotide)\n",
    "\n",
    "print(f\"RNA bases corresponding to the entered DNA nucleotide is : {rna_bases}\")"
   ]
  },
  {
   "cell_type": "code",
   "execution_count": 10,
   "metadata": {},
   "outputs": [
    {
     "name": "stdout",
     "output_type": "stream",
     "text": [
      "Enter the sequence of DNA strand (in capital letters) : asd\n",
      "Invalid Sequence\n",
      "RNA bases corresponding to the entered DNA nucleotide is : None\n"
     ]
    }
   ],
   "source": [
    "def mapping (dna):     # Function Definition\n",
    "    dna_rna = {'A' : 'U' , 'T' : 'A' , 'C' : 'G' , 'G' : 'C' }    # Setting the key value pair as DNA to RNA correspondance\n",
    "    rna = ''\n",
    "\n",
    "    for i in dna:\n",
    "        \n",
    "        if i in dna_rna:    # Checking if the DNA sequence is valid\n",
    "            rna += dna_rna[i]    # For every character in the entered DNA script adding the respective mRNA script\n",
    "        \n",
    "        else:\n",
    "            print(\"Invalid Sequence\")\n",
    "            break\n",
    "            \n",
    "    if len(dna) == len(rna):    # Checking if the mRNA transcripting is complete witjout any errors in DNA sequence\n",
    "        return rna\n",
    "\n",
    "#dna_nucleotide = \"AAAGTCTGAC\"\n",
    "dna_nucleotide = input(\"Enter the sequence of DNA strand (in capital letters) : \")\n",
    "rna_bases = mapping (dna_nucleotide)    # Calling the function\n",
    "\n",
    "print(f\"RNA bases corresponding to the entered DNA nucleotide is : {rna_bases}\")"
   ]
  },
  {
   "cell_type": "markdown",
   "metadata": {
    "id": "rop1A1pQw6Uk"
   },
   "source": [
    "### Write a function which takes a word as input and returns a dictionary with letters as key and no of time letters are repeated as value.\n",
    "#### In - count_letter('google.com')\n",
    "#### Out - {'g': 2, 'o': 3, 'l': 1, 'e': 1, '.': 1, 'c': 1, 'm': 1}"
   ]
  },
  {
   "cell_type": "code",
   "execution_count": 11,
   "metadata": {},
   "outputs": [
    {
     "name": "stdout",
     "output_type": "stream",
     "text": [
      "Enter a word : google.com\n",
      "{'g': 2, 'o': 3, 'l': 1, 'e': 1, '.': 1, 'c': 1, 'm': 1}\n"
     ]
    }
   ],
   "source": [
    "def count_letter(in_str):    # Defining the function\n",
    "    letter_count = {}    # Output dictionary\n",
    "    \n",
    "    for i in in_str:    # Looping over the input string\n",
    "        count_val = 0    # Count value of each letter\n",
    "        \n",
    "        if i in letter_count:    # If the letter is present in the dictionary incrementing the value of the key as alphabet\n",
    "            letter_count[i] = letter_count[i] + 1\n",
    "        \n",
    "        else:    # If the letter is not in the dictionary make the count to 1\n",
    "            letter_count[i] = count_val + 1\n",
    "\n",
    "    return letter_count    # Returning the dictionary\n",
    "\n",
    "#inp = 'google.com'\n",
    "inp = input(\"Enter a word : \")\n",
    "\n",
    "out_dict2 = count_letter(inp)    # Calling the defined function over the input string\n",
    "\n",
    "print(out_dict2)"
   ]
  },
  {
   "cell_type": "code",
   "execution_count": 12,
   "metadata": {},
   "outputs": [
    {
     "name": "stdout",
     "output_type": "stream",
     "text": [
      "Enter a word : Python3.0\n",
      "{'P': 1, 'y': 1, 't': 1, 'h': 1, 'o': 1, 'n': 1, '3': 1, '.': 1, '0': 1}\n"
     ]
    }
   ],
   "source": [
    "def count_letter(in_str):    # Defining the function\n",
    "    letter_count = {}    # Output dictionary\n",
    "    \n",
    "    for i in in_str:    # Looping over the input string\n",
    "        count_val = 0    # Count value of each letter\n",
    "        \n",
    "        if i in letter_count:    # If the letter is present in the dictionary incrementing the value of the key as alphabet\n",
    "            letter_count[i] = letter_count[i] + 1\n",
    "        \n",
    "        else:    # If the letter is not in the dictionary make the count to 1\n",
    "            letter_count[i] = count_val + 1\n",
    "\n",
    "    return letter_count    # Returning the dictionary\n",
    "\n",
    "#inp = 'google.com'\n",
    "inp = input(\"Enter a word : \")\n",
    "\n",
    "out_dict2 = count_letter(inp)    # Calling the defined function over the input string\n",
    "\n",
    "print(out_dict2)"
   ]
  },
  {
   "cell_type": "markdown",
   "metadata": {
    "id": "vAwGIoxdw856"
   },
   "source": [
    "### A DNA strand consisting of the 4 nucleotide bases is usually represented with a string of letters: A,T, C, G.  Write a function that computes the base composition of a given DNA sequence.\n",
    "\n",
    "#### In - baseComposition(\"CTATCGGCACCCTTTCAGCA\")\n",
    "#### Out - {'A': 4, 'C': 8, 'T': 5,  'G': 3 }\n",
    "    \n",
    "#### In - baseComposition(\"AGT\")\n",
    "#### Out - {'A': 1, 'C': 0, 'T': 1,  'G': 1 }"
   ]
  },
  {
   "cell_type": "code",
   "execution_count": 14,
   "metadata": {},
   "outputs": [
    {
     "name": "stdout",
     "output_type": "stream",
     "text": [
      "The base composition corresponding to CTATCGGCACCCTTTCAGCA is {'A': 4, 'C': 8, 'T': 5, 'G': 3}\n",
      "The base composition corresponding to AGT is {'A': 1, 'C': 0, 'T': 1, 'G': 1}\n"
     ]
    }
   ],
   "source": [
    "def baseComposition (dna):    # Function definition\n",
    "    base_comp = {'A' : 0 , 'C' : 0 , 'T' : 0 , 'G' : 0 }    # Initially setting all the base compossition as 0\n",
    "    \n",
    "    for i in dna:    # Looping over the input\n",
    "        \n",
    "        if i in base_comp:    # Checking if the sequence is valid\n",
    "            base_comp[i] += 1    # Increasing the base compostion of the correspoding sequence\n",
    "\n",
    "        else:\n",
    "            print(\"Invalid Sequence\")\n",
    "            return False\n",
    "            break    # Ending the function if invalid\n",
    "    \n",
    "    return base_comp\n",
    "\n",
    "# dna_struct = input(\"Enter the DNA structure : \")\n",
    "dna_struct1 = \"CTATCGGCACCCTTTCAGCA\"\n",
    "dna_struct2 = \"AGT\"\n",
    "\n",
    "# Function call within print\n",
    "print (f\"The base composition corresponding to {dna_struct1} is {baseComposition(dna_struct1)}\")\n",
    "print (f\"The base composition corresponding to {dna_struct2} is {baseComposition(dna_struct2)}\")"
   ]
  },
  {
   "cell_type": "code",
   "execution_count": 15,
   "metadata": {
    "id": "iVNnSsvaxMDo"
   },
   "outputs": [],
   "source": [
    "# [MCQ] Suppose \"d\" is an empty dictionary, which statement does not assign \"d\" with {\"Name\":\"Tom\"}? \n",
    "# 1. d = {\"Name\": \"Tom\" }\n",
    "# 2. d[\"Name\"] = \"Tom\"\n",
    "# 3. d.update({\"Name\": \"Tom\" })\n",
    "# 4. d.setdefault(\"Name\", \"Tom\")\n",
    "# 5. None of the above.\n",
    "\n",
    "# 5. None of the above"
   ]
  },
  {
   "cell_type": "code",
   "execution_count": 16,
   "metadata": {
    "id": "tOgsXi2axnhF"
   },
   "outputs": [],
   "source": [
    "# [MCQ] d = {\"a\":1, \"b\":2}. Which of the statements returns [1,2]? \n",
    "# 1. d.keys()\n",
    "# 2. d.values()\n",
    "# 3. d.items()\n",
    "# 4. d.popitem()\n",
    "# 5. None of the above.\n",
    "\n",
    "# 2. d.values()"
   ]
  },
  {
   "cell_type": "code",
   "execution_count": 17,
   "metadata": {
    "id": "BeNNopkDzK0k"
   },
   "outputs": [],
   "source": [
    "# [MCQ] Which of the following declarations is not valid for 'dict' type?\n",
    "# 1. d = {\"Name\": \"Tom\" }\n",
    "# 2. d = { (1,3,4): 4.5 }\n",
    "# 3. d = { [\"First\", \"Last\"]: (1,3) }\n",
    "# 4. d = { 1: 0.4 }\n",
    "# 5. None of the above\n",
    "\n",
    "# 3. d = {[\"First\", \"Last\"]: (1,3)}"
   ]
  },
  {
   "cell_type": "markdown",
   "metadata": {
    "id": "7kPbKcfMzTHP"
   },
   "source": [
    "### Write a function reverseLookup(dictionary, value) that takes in a dictionary and a value as arguments and returns a sorted list of all keys that contains the value. The function will return an empty list if no match is found.\n",
    "\n",
    "#### In - reverseLookup({'a':1, 'b':2, 'c':2}, 1)\n",
    "#### Out - ['a']\n",
    "#### In - reverseLookup({'a':1, 'b':2, 'c':2}, 2)\n",
    "#### Out - ['b', 'c']\n",
    "#### In - reverseLookup({'a':1, 'b':2, 'c':2}, 3)\n",
    "#### Out - []"
   ]
  },
  {
   "cell_type": "code",
   "execution_count": 19,
   "metadata": {},
   "outputs": [
    {
     "name": "stdout",
     "output_type": "stream",
     "text": [
      "For the first set : ['a']\n",
      "For the first set - Using list comprehension: ['a']\n",
      "For the second set : ['b', 'c']\n",
      "For the second set - Using list comprehension: ['b', 'c']\n",
      "For the third set : []\n",
      "For the third set - Using list comprehension: []\n"
     ]
    }
   ],
   "source": [
    "def reverseLookup (in_dict , lookup_val):    # Function definition\n",
    "    out_lookup_list = []    # Empty list to holf the output\n",
    "\n",
    "    if lookup_val in in_dict.values():    # Cheing if the lookup value is a value in the dictionay\n",
    "\n",
    "        for i in in_dict:    # Looping over the dictionary \n",
    "    \n",
    "            if in_dict[i] == lookup_val:    # Checcking if the current value is thhe lookup value\n",
    "                out_lookup_list.append(i)    # If true adding the key to the output list\n",
    "\n",
    "    out_lookup_list.sort()    # Sorting the output in ascending order\n",
    "    return out_lookup_list\n",
    " \n",
    "def reverseLookup2 (in_dict , lookup_val):    #Alternate funcyion using list comprehension\n",
    "    \n",
    "    if lookup_val in in_dict.values():    # Checcking if the current value is thhe lookup value\n",
    "        out_lookup_list2 = [j for j in in_dict if in_dict[j] == lookup_val]    # If true adding to the list using list comprehension\n",
    "\n",
    "    else:\n",
    "        out_lookup_list2 = []    # If not returing an empty list\n",
    "    \n",
    "    out_lookup_list2.sort()    # Sorting the output in ascending order\n",
    "    return out_lookup_list2\n",
    "\n",
    "# Function calls\n",
    "\n",
    "out_list1 = reverseLookup({'a':1, 'b':2, 'c':2}, 1)\n",
    "out_list2 = reverseLookup2({'a':1, 'b':2, 'c':2}, 1)\n",
    "\n",
    "out_list3 = reverseLookup({'a':1, 'b':2, 'c':2}, 2)\n",
    "out_list4 = reverseLookup2({'a':1, 'b':2, 'c':2}, 2)\n",
    "\n",
    "out_list5 = reverseLookup({'a':1, 'b':2, 'c':2}, 3)\n",
    "out_list6 = reverseLookup2({'a':1, 'b':2, 'c':2}, 3)\n",
    "\n",
    "print(f\"For the first set : {out_list1}\")\n",
    "print(f\"For the first set - Using list comprehension: {out_list2}\")\n",
    "\n",
    "print(f\"For the second set : {out_list3}\")\n",
    "print(f\"For the second set - Using list comprehension: {out_list4}\")\n",
    "\n",
    "print(f\"For the third set : {out_list5}\")\n",
    "print(f\"For the third set - Using list comprehension: {out_list6}\")"
   ]
  },
  {
   "cell_type": "markdown",
   "metadata": {
    "id": "s87Rvg2HDFYp"
   },
   "source": [
    "### Write a function invertDictionary(d) that takes in a dictionary as argument and return a dictionary that inverts the keys and the values of the original dictionary.\n",
    "#### In - invertDictionary({'a':1, 'b':2, 'c':3, 'd':2})\n",
    "#### Out - {1: ['a'], 2: ['b', 'd'], 3: ['c']}\n",
    "#### In - invertDictionary({'a':3, 'b':3, 'c':3})\n",
    "#### Out - {3: ['a', 'c', 'b']}\n",
    "#### In - invertDictionary({'a':2, 'b':1, 'c':2, 'd':1})\n",
    "#### Out - {1: ['b', 'd'], 2: ['a', 'c']}"
   ]
  },
  {
   "cell_type": "code",
   "execution_count": 20,
   "metadata": {},
   "outputs": [
    {
     "name": "stdout",
     "output_type": "stream",
     "text": [
      "{1: ['a'], 2: ['b', 'd'], 3: ['c']}\n",
      "{3: ['a', 'b', 'c']}\n",
      "{2: ['a', 'c'], 1: ['b', 'd']}\n"
     ]
    }
   ],
   "source": [
    "def invertDictionary(d):    # Function definition\n",
    "    d_values = []    # List to hold the values of input dictionary\n",
    "    d_keys = []    # List to hold the keys of input dictionary\n",
    "    out_dict3 = {}    # Dictionary to hold the output\n",
    "    \n",
    "    for k , v in d.items():    # Loop to make a list of keys and values from the input dictionary\n",
    "        d_values.append(v)\n",
    "        d_keys.append(k)\n",
    "\n",
    "    for i in range(len(d_values)):    # Looping over the range of number of values\n",
    "        \n",
    "        if d_values[i] not in out_dict3:    # Checking if the input value is an output key\n",
    "            out_dict3.update({d_values[i] : [d_keys[i]]})    # If not, adding the vale as key and the key as value\n",
    "    \n",
    "        elif d_values[i] in out_dict3:    # If present adding the key to the values list\n",
    "            out_dict3[d_values[i]].append(d_keys[i])   \n",
    "\n",
    "    return out_dict3\n",
    "\n",
    "# Calling the functions within print function\n",
    "print(invertDictionary({'a':1, 'b':2, 'c':3, 'd':2}))\n",
    "print(invertDictionary({'a':3, 'b':3, 'c':3}))\n",
    "print(invertDictionary({'a':2, 'b':1, 'c':2, 'd':1}))"
   ]
  },
  {
   "cell_type": "markdown",
   "metadata": {
    "id": "DgYyaZU6Oz7E"
   },
   "source": [
    "### Write a function that converts a sparse vector into a dictionary as described below.\n",
    "#### In - convertVector([1, 0, 0, 2, 0, 0, 0, 3, 0, 0, 0, 0, 4])\n",
    "#### Out - {0: 1, 3: 2, 7: 3, 12: 4}\n",
    "#### In - convertVector([1, 0, 1 , 0, 2, 0, 1, 0, 0, 1, 0])\n",
    "#### Out - {0: 1, 2: 1, 4: 2, 6: 1, 9: 1}\n",
    "#### In - convertVector([0, 0, 0, 0, 0])\n",
    "#### Out - {}"
   ]
  },
  {
   "cell_type": "code",
   "execution_count": 21,
   "metadata": {},
   "outputs": [
    {
     "name": "stdout",
     "output_type": "stream",
     "text": [
      "{0: 1, 3: 2, 7: 3, 12: 4}\n",
      "{0: 1, 2: 1, 4: 2, 6: 1, 9: 1}\n",
      "{}\n"
     ]
    }
   ],
   "source": [
    "def convertVector(in_list):    # Function definition\n",
    "    out_dict4 = {}    # Dictionary to hold the output\n",
    "    \n",
    "    for i in range(len(in_list)):    # Looping over the lenght of the sparse vector\n",
    "    \n",
    "        if in_list [i] != 0:    # Checking if the value is non zero\n",
    "            out_dict4.update({i : in_list[i]})    # THen adding the postion as key and value as value to the output dictionary\n",
    "\n",
    "    return out_dict4\n",
    "\n",
    "#Function calls within print()\n",
    "print(convertVector([1, 0, 0, 2, 0, 0, 0, 3, 0, 0, 0, 0, 4]))\n",
    "print(convertVector([1, 0, 1 , 0, 2, 0, 1, 0, 0, 1, 0]))\n",
    "print(convertVector([0, 0, 0, 0, 0]))"
   ]
  },
  {
   "cell_type": "markdown",
   "metadata": {
    "id": "ETCmEcflTGCI"
   },
   "source": [
    "### Write a function that converts a dictionary back to its sparse vector representation.\n",
    "#### In - convertDictionary({0: 1, 3: 2, 7: 3, 12: 4})\n",
    "#### Out - [1, 0, 0, 2, 0, 0, 0, 3, 0, 0, 0, 0, 4]\n",
    "#### In - convertDictionary({0: 1, 2: 1, 4: 2, 6: 1, 9: 1})\n",
    "#### Out - [1, 0, 1, 0, 2, 0, 1, 0, 0, 1]\n",
    "#### In - convertDictionary({})\n",
    "#### Out - []"
   ]
  },
  {
   "cell_type": "code",
   "execution_count": 22,
   "metadata": {},
   "outputs": [
    {
     "name": "stdout",
     "output_type": "stream",
     "text": [
      "[1, 0, 0, 2, 0, 0, 0, 3, 0, 0, 0, 0, 4]\n",
      "[1, 0, 1, 0, 2, 0, 1, 0, 0, 1]\n",
      "[]\n"
     ]
    }
   ],
   "source": [
    "def convertDictionary (in_dict2):    # Functin definition\n",
    "    out_list7 = []    # Empty list to hold the sparse vector\n",
    "  \n",
    "    if in_dict2:    # Checking if the dictionary is not empty\n",
    "        \n",
    "        for i in range(max(in_dict2) + 1):    # Looping over the range of largest key in the input dictionary plus 1\n",
    "        \n",
    "            if i in in_dict2:    # If the value is a sparse, adding to the list to the corresponding location\n",
    "                out_list7.append(in_dict2[i])\n",
    "\n",
    "            else:\n",
    "                out_list7.append(0)    # Else adding 0 to the corresponding location\n",
    "\n",
    "    return out_list7\n",
    "\n",
    "# Calling the function within print()\n",
    "print(convertDictionary({0: 1, 3: 2, 7: 3, 12: 4}))\n",
    "print(convertDictionary({0: 1, 2: 1, 4: 2, 6: 1, 9: 1}))\n",
    "print(convertDictionary({}))"
   ]
  },
  {
   "cell_type": "markdown",
   "metadata": {
    "id": "tTANm2QKZXh3"
   },
   "source": [
    "### Given a Python dictionary, Change Brad’s salary to 8500\n",
    "sampleDict = {\n",
    "      'emp1': {'name': 'Jhon', 'salary': 7500},\n",
    "      'emp2': {'name': 'Emma', 'salary': 8000},\n",
    "      'emp3': {'name': 'Brad', 'salary': 6500}\n",
    " }\n",
    "\n",
    "### Expected Output\n",
    " sampleDict = {\n",
    "      'emp1': {'name': 'Jhon', 'salary': 7500},\n",
    "      'emp2': {'name': 'Emma', 'salary': 8000},\n",
    "      'emp3': {'name': 'Brad', 'salary': 8500}\n",
    " }"
   ]
  },
  {
   "cell_type": "code",
   "execution_count": 4,
   "metadata": {},
   "outputs": [
    {
     "name": "stdout",
     "output_type": "stream",
     "text": [
      "{'emp1': {'name': 'Jhon', 'salary': 7500}, 'emp2': {'name': 'Emma', 'salary': 8000}, 'emp3': {'name': 'Brad', 'salary': 8500}}\n"
     ]
    }
   ],
   "source": [
    "sampleDict = {\n",
    "      'emp1': {'name': 'Jhon', 'salary': 7500},\n",
    "      'emp2': {'name': 'Emma', 'salary': 8000},\n",
    "      'emp3': {'name': 'Brad', 'salary': 6500}\n",
    " }\n",
    "\n",
    "for i in sampleDict:    # Looping over the elements of the dictionary\n",
    "    if sampleDict[i]['name'] == \"Brad\":    # Checking if the name is \"Brad\"\n",
    "        sampleDict[i]['salary'] = 8500    # If \"Brad\" is the name changing salary to 8500\n",
    "\n",
    "print(sampleDict)"
   ]
  },
  {
   "cell_type": "markdown",
   "metadata": {
    "id": "8dUHXiCVZmUx"
   },
   "source": [
    "### Get the key corresponding to the minimum value from the following dictionary\n",
    " sampleDict = {\n",
    "   'Physics': 82,\n",
    "   'Math': 65,\n",
    "   'history': 75\n",
    " }\n",
    "\n",
    "#### Expected Output\n",
    " Math"
   ]
  },
  {
   "cell_type": "code",
   "execution_count": 5,
   "metadata": {},
   "outputs": [
    {
     "name": "stdout",
     "output_type": "stream",
     "text": [
      "Math\n"
     ]
    }
   ],
   "source": [
    "sampleDict = {\n",
    "   'Physics': 82,\n",
    "   'Math': 65,\n",
    "   'history': 75\n",
    " }\n",
    "\n",
    "print(min(sampleDict))    # Using min function"
   ]
  },
  {
   "cell_type": "markdown",
   "metadata": {
    "id": "AQe5QNGdZ7aJ"
   },
   "source": [
    "### Rename key city to location in the following dictionary\n",
    " sampleDict = {\n",
    "   \"name\": \"Kelly\",\n",
    "   \"age\":25,\n",
    "   \"salary\": 8000,\n",
    "   \"city\": \"New york\"\n",
    " }\n",
    "\n",
    "#### Expected Output\n",
    " {\n",
    "   \"name\": \"Kelly\",\n",
    "   \"age\":25,\n",
    "   \"salary\": 8000,\n",
    "   \"location\": \"New york\"\n",
    " }"
   ]
  },
  {
   "cell_type": "code",
   "execution_count": 6,
   "metadata": {},
   "outputs": [
    {
     "name": "stdout",
     "output_type": "stream",
     "text": [
      "{'name': 'Kelly', 'age': 25, 'salary': 8000, 'location': 'New york'}\n"
     ]
    }
   ],
   "source": [
    "sampleDict = {\n",
    "   \"name\": \"Kelly\",\n",
    "   \"age\":25,\n",
    "   \"salary\": 8000,\n",
    "   \"city\": \"New york\"\n",
    " }\n",
    "\n",
    "if 'city' in sampleDict:    # Checking if there is a key named 'city' in the input dictionary\n",
    "    sampleDict['location'] = sampleDict['city']    # Creating a new key and assigning the value in city to it\n",
    "    sampleDict.pop('city')    # Removing 'city' from dictiobary\n",
    "\n",
    "print(sampleDict)"
   ]
  },
  {
   "cell_type": "markdown",
   "metadata": {
    "id": "e19_ddO9aNNw"
   },
   "source": [
    "### Check if a value 200 exists in a dictionary\n",
    "#### sampleDict = {'a': 100, 'b': 200, 'c': 300}\n",
    "\n",
    "#### Expected Output: True"
   ]
  },
  {
   "cell_type": "code",
   "execution_count": 7,
   "metadata": {},
   "outputs": [
    {
     "name": "stdout",
     "output_type": "stream",
     "text": [
      "True\n"
     ]
    }
   ],
   "source": [
    "sampleDict = {'a': 100, 'b': 200, 'c': 300}\n",
    "\n",
    "if 200 in sampleDict.values():    # Checking of 200 is a value\n",
    "    print(True)\n",
    "\n",
    "else:\n",
    "    print(False)"
   ]
  },
  {
   "cell_type": "markdown",
   "metadata": {
    "id": "yphwjc1gabMa"
   },
   "source": [
    "### Delete set of keys from Python Dictionary\n",
    " sampleDict = {\n",
    "   \"name\": \"Kelly\",\n",
    "   \"age\":25,\n",
    "   \"salary\": 8000,\n",
    "   \"city\": \"New york\"\n",
    "  }\n",
    "#### keysToRemove = [\"name\", \"salary\"]\n",
    "\n",
    "#### Expected Output:\n",
    " {'city': 'New york', 'age': 25}"
   ]
  },
  {
   "cell_type": "code",
   "execution_count": 8,
   "metadata": {},
   "outputs": [
    {
     "name": "stdout",
     "output_type": "stream",
     "text": [
      "{'age': 25, 'city': 'New york'}\n"
     ]
    }
   ],
   "source": [
    "sampleDict = {\n",
    " \"name\": \"Kelly\",\n",
    " \"age\":25,\n",
    " \"salary\": 8000,\n",
    " \"city\": \"New york\"\n",
    " }\n",
    "\n",
    "keysToRemove = [\"name\", \"salary\"]    # Assigning the keys to be removed in a list\n",
    "\n",
    "for i in keysToRemove:    # Looping over the list\n",
    "    sampleDict.pop(i)    # Removing the keys from dictionary\n",
    "\n",
    "print(sampleDict)"
   ]
  },
  {
   "cell_type": "code",
   "execution_count": null,
   "metadata": {},
   "outputs": [],
   "source": []
  }
 ],
 "metadata": {
  "colab": {
   "provenance": []
  },
  "kernelspec": {
   "display_name": "Python 3",
   "language": "python",
   "name": "python3"
  },
  "language_info": {
   "codemirror_mode": {
    "name": "ipython",
    "version": 3
   },
   "file_extension": ".py",
   "mimetype": "text/x-python",
   "name": "python",
   "nbconvert_exporter": "python",
   "pygments_lexer": "ipython3",
   "version": "3.8.3"
  }
 },
 "nbformat": 4,
 "nbformat_minor": 1
}
