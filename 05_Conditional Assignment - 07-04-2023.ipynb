{
 "cells": [
  {
   "cell_type": "markdown",
   "metadata": {},
   "source": [
    "### Q. Write a program (W. A P.) which takes one number from 0 to 9 from the user and prints it in the word. And if the word is not from 0 to 9 then it should print that number is outside of the range and program should exit.\n",
    "\n",
    " For exapmple:-\n",
    " input = 1\n",
    " output = one"
   ]
  },
  {
   "cell_type": "code",
   "execution_count": 4,
   "metadata": {},
   "outputs": [
    {
     "name": "stdout",
     "output_type": "stream",
     "text": [
      "Enter a number between 0 to 9 : 0\n",
      "You have entered 0 - in words ZERO\n"
     ]
    }
   ],
   "source": [
    "i = eval(input(\"Enter a number between 0 to 9 : \"))\n",
    "\n",
    "if i == 0:\n",
    "    print(f\"You have entered {i} - in words ZERO\")\n",
    "elif i == 1:\n",
    "    print(f\"You have entered {i} - in words ONE\")\n",
    "elif i == 2:\n",
    "    print(f\"You have entered {i} - in words TWO\")\n",
    "elif i == 3:\n",
    "    print(f\"You have entered {i} - in words THREE\")\n",
    "elif i == 4:\n",
    "    print(f\"You have entered {i} - in words FOUR\")\n",
    "elif i == 5:\n",
    "    print(f\"You have entered {i} - in words FIVE\")\n",
    "elif i == 6:\n",
    "    print(f\"You have entered {i} - in words SIX\")\n",
    "elif i == 7:\n",
    "    print(f\"You have entered {i} - in words SEVEN\")\n",
    "elif i == 8:\n",
    "    print(f\"You have entered {i} - in words EIGHT\")\n",
    "elif i == 9:\n",
    "    print(f\"You have entered {i} - in words NINE\")\n",
    "else:\n",
    "    print(\"The number you have entered is out of range\")"
   ]
  },
  {
   "cell_type": "code",
   "execution_count": 5,
   "metadata": {},
   "outputs": [
    {
     "name": "stdout",
     "output_type": "stream",
     "text": [
      "Enter a number between 0 to 9 : 9\n",
      "You have entered 9 - in words NINE\n"
     ]
    }
   ],
   "source": [
    "i = eval(input(\"Enter a number between 0 to 9 : \"))\n",
    "\n",
    "if i == 0:\n",
    "    print(f\"You have entered {i} - in words ZERO\")\n",
    "elif i == 1:\n",
    "    print(f\"You have entered {i} - in words ONE\")\n",
    "elif i == 2:\n",
    "    print(f\"You have entered {i} - in words TWO\")\n",
    "elif i == 3:\n",
    "    print(f\"You have entered {i} - in words THREE\")\n",
    "elif i == 4:\n",
    "    print(f\"You have entered {i} - in words FOUR\")\n",
    "elif i == 5:\n",
    "    print(f\"You have entered {i} - in words FIVE\")\n",
    "elif i == 6:\n",
    "    print(f\"You have entered {i} - in words SIX\")\n",
    "elif i == 7:\n",
    "    print(f\"You have entered {i} - in words SEVEN\")\n",
    "elif i == 8:\n",
    "    print(f\"You have entered {i} - in words EIGHT\")\n",
    "elif i == 9:\n",
    "    print(f\"You have entered {i} - in words NINE\")\n",
    "else:\n",
    "    print(\"The number you have entered is out of range\")"
   ]
  },
  {
   "cell_type": "code",
   "execution_count": 16,
   "metadata": {},
   "outputs": [
    {
     "name": "stdout",
     "output_type": "stream",
     "text": [
      "Enter a number between 0 to 9 : 7\n",
      "You have entered 7 - in words SEVEN\n"
     ]
    }
   ],
   "source": [
    "i = eval(input(\"Enter a number between 0 to 9 : \"))\n",
    "\n",
    "if i == 0:\n",
    "    print(f\"You have entered {i} - in words ZERO\")\n",
    "\n",
    "elif i == 1:\n",
    "    print(f\"You have entered {i} - in words ONE\")\n",
    "\n",
    "elif i == 2:\n",
    "    print(f\"You have entered {i} - in words TWO\")\n",
    "\n",
    "elif i == 3:\n",
    "    print(f\"You have entered {i} - in words THREE\")\n",
    "\n",
    "elif i == 4:\n",
    "    print(f\"You have entered {i} - in words FOUR\")\n",
    "\n",
    "elif i == 5:\n",
    "    print(f\"You have entered {i} - in words FIVE\")\n",
    "\n",
    "elif i == 6:\n",
    "    print(f\"You have entered {i} - in words SIX\")\n",
    "\n",
    "elif i == 7:\n",
    "    print(f\"You have entered {i} - in words SEVEN\")\n",
    "\n",
    "elif i == 8:\n",
    "    print(f\"You have entered {i} - in words EIGHT\")\n",
    "\n",
    "elif i == 9:\n",
    "    print(f\"You have entered {i} - in words NINE\")\n",
    "\n",
    "else:\n",
    "    print(\"The number you have entered is out of range\")"
   ]
  },
  {
   "cell_type": "markdown",
   "metadata": {},
   "source": [
    "### Q. W. A P. to implement calculator but the operation to be done and two numbers will be taken as input from user:- \n",
    "### Operation console should show below:-\n",
    "### Please select any one operation from below:-\n",
    "  * To add enter 1\n",
    "  * to subtract enter 2\n",
    "  * To multiply enter 3\n",
    "  * To divide enter 4\n",
    "  * To divide and find quotient enter 5\n",
    "  * To divide and find remainder enter 6\n",
    "  * To divide and find num1 to the power of num2 enter 7"
   ]
  },
  {
   "cell_type": "code",
   "execution_count": 21,
   "metadata": {},
   "outputs": [
    {
     "name": "stdout",
     "output_type": "stream",
     "text": [
      "1 for Addition\n",
      "2 for Subtraction\n",
      "3 for Multiplication\n",
      "4 for Division\n",
      "5 to get Quotient of division\n",
      "6 to get Remainder of division\n",
      "7 for finding Power of one number to the other\n",
      "Enter you option : 7\n",
      "Enter the first number : 2\n",
      "Enter the second number : 3\n",
      "\n",
      "You have chosen to find power of 2 over 3\n",
      "\n",
      "2 to the power of 3 = 8\n"
     ]
    }
   ],
   "source": [
    "print(\"1 for Addition\\n2 for Subtraction\\n3 for Multiplication\\n4 for Division\\n5 to get Quotient of division\\n6 to get Remainder of division\\n7 for finding Power of one number to the other\")\n",
    "\n",
    "op = eval(input(\"Enter you option : \"))\n",
    "num1 = eval(input(\"Enter the first number : \"))\n",
    "num2 = eval(input(\"Enter the second number : \"))\n",
    "\n",
    "if(op == 1):\n",
    "    print(f\"\\nYou have chosen ADDITION of {num1} and {num2}\")\n",
    "    print(f\"\\n{num1} + {num2} = {num1 + num2}\")\n",
    "\n",
    "elif(op == 2):\n",
    "    print(f\"\\nYou have chosen SUBTRACTION between {num1} and {num2}\")\n",
    "    print(f\"\\n{num1} - {num2} = {num1 - num2}\")\n",
    "\n",
    "elif(op == 3):\n",
    "    print(f\"\\nYou have chosen MULTIPLICATION of {num1} and {num2}\")\n",
    "    print(f\"\\n{num1} x {num2} = {num1 * num2}\")\n",
    "\n",
    "elif(op == 4):\n",
    "    print(f\"\\nYou have chosen DIVISION between {num1} and {num2}\")\n",
    "    print(f\"\\n{num1} ÷ {num2} = {num1 / num2}\")\n",
    "\n",
    "elif(op == 5):\n",
    "    print(f\"\\nYou have chosen to find QUOTIENT when dividing {num1} and {num2}\")\n",
    "    print(f\"\\n{num1} ÷ {num2} Quotient is {num1 // num2}\")\n",
    "\n",
    "elif(op == 6):\n",
    "    print(f\"\\nYou have chosen to find REMAINDER when dividing {num1} and {num2}\")\n",
    "    print(f\"\\n{num1} ÷ {num2} Remainder is {num1 % num2}\")\n",
    "\n",
    "\n",
    "elif(op == 7):\n",
    "    print(f\"\\nYou have chosen to find power of {num1} over {num2}\")\n",
    "    print(f\"\\n{num1} to the power of {num2} = {num1 ** num2}\")\n",
    "\n",
    "else:\n",
    "    print(\"Invalid input(s)\")"
   ]
  },
  {
   "cell_type": "code",
   "execution_count": 22,
   "metadata": {},
   "outputs": [
    {
     "name": "stdout",
     "output_type": "stream",
     "text": [
      "1 for Addition\n",
      "2 for Subtraction\n",
      "3 for Multiplication\n",
      "4 for Division\n",
      "5 to get Quotient of division\n",
      "6 to get Remainder of division\n",
      "7 for finding Power of one number to the other\n",
      "Enter you option : 3\n",
      "Enter the first number : 2.5\n",
      "Enter the second number : 3.2\n",
      "\n",
      "You have chosen MULTIPLICATION of 2.5 and 3.2\n",
      "\n",
      "2.5 x 3.2 = 8.0\n"
     ]
    }
   ],
   "source": [
    "print(\"1 for Addition\\n2 for Subtraction\\n3 for Multiplication\\n4 for Division\\n5 to get Quotient of division\\n6 to get Remainder of division\\n7 for finding Power of one number to the other\")\n",
    "\n",
    "op = eval(input(\"Enter you option : \"))\n",
    "num1 = eval(input(\"Enter the first number : \"))\n",
    "num2 = eval(input(\"Enter the second number : \"))\n",
    "\n",
    "if(op == 1):\n",
    "    print(f\"\\nYou have chosen ADDITION of {num1} and {num2}\")\n",
    "    print(f\"\\n{num1} + {num2} = {num1 + num2}\")\n",
    "\n",
    "elif(op == 2):\n",
    "    print(f\"\\nYou have chosen SUBTRACTION between {num1} and {num2}\")\n",
    "    print(f\"\\n{num1} - {num2} = {num1 - num2}\")\n",
    "\n",
    "elif(op == 3):\n",
    "    print(f\"\\nYou have chosen MULTIPLICATION of {num1} and {num2}\")\n",
    "    print(f\"\\n{num1} x {num2} = {num1 * num2}\")\n",
    "\n",
    "elif(op == 4):\n",
    "    print(f\"\\nYou have chosen DIVISION between {num1} and {num2}\")\n",
    "    print(f\"\\n{num1} ÷ {num2} = {num1 / num2}\")\n",
    "\n",
    "elif(op == 5):\n",
    "    print(f\"\\nYou have chosen to find QUOTIENT when dividing {num1} and {num2}\")\n",
    "    print(f\"\\n{num1} ÷ {num2} Quotient is {num1 // num2}\")\n",
    "\n",
    "elif(op == 6):\n",
    "    print(f\"\\nYou have chosen to find REMAINDER when dividing {num1} and {num2}\")\n",
    "    print(f\"\\n{num1} ÷ {num2} Remainder is {num1 % num2}\")\n",
    "\n",
    "\n",
    "elif(op == 7):\n",
    "    print(f\"\\nYou have chosen to find power of {num1} over {num2}\")\n",
    "    print(f\"\\n{num1} to the power of {num2} = {num1 ** num2}\")\n",
    "\n",
    "else:\n",
    "    print(\"Invalid input(s)\")"
   ]
  },
  {
   "cell_type": "code",
   "execution_count": 23,
   "metadata": {},
   "outputs": [
    {
     "name": "stdout",
     "output_type": "stream",
     "text": [
      "1 for Addition\n",
      "2 for Subtraction\n",
      "3 for Multiplication\n",
      "4 for Division\n",
      "5 to get Quotient of division\n",
      "6 to get Remainder of division\n",
      "7 for finding Power of one number to the other\n",
      "Enter you option : 6\n",
      "Enter the first number : 2946\n",
      "Enter the second number : 3\n",
      "\n",
      "You have chosen to find REMAINDER when dividing 2946 and 3\n",
      "\n",
      "2946 ÷ 3 Remainder is 0\n"
     ]
    }
   ],
   "source": [
    "print(\"1 for Addition\\n2 for Subtraction\\n3 for Multiplication\\n4 for Division\\n5 to get Quotient of division\\n6 to get Remainder of division\\n7 for finding Power of one number to the other\")\n",
    "\n",
    "op = eval(input(\"Enter you option : \"))\n",
    "num1 = eval(input(\"Enter the first number : \"))\n",
    "num2 = eval(input(\"Enter the second number : \"))\n",
    "\n",
    "if(op == 1):\n",
    "    print(f\"\\nYou have chosen ADDITION of {num1} and {num2}\")\n",
    "    print(f\"\\n{num1} + {num2} = {num1 + num2}\")\n",
    "\n",
    "elif(op == 2):\n",
    "    print(f\"\\nYou have chosen SUBTRACTION between {num1} and {num2}\")\n",
    "    print(f\"\\n{num1} - {num2} = {num1 - num2}\")\n",
    "\n",
    "elif(op == 3):\n",
    "    print(f\"\\nYou have chosen MULTIPLICATION of {num1} and {num2}\")\n",
    "    print(f\"\\n{num1} x {num2} = {num1 * num2}\")\n",
    "\n",
    "elif(op == 4):\n",
    "    print(f\"\\nYou have chosen DIVISION between {num1} and {num2}\")\n",
    "    print(f\"\\n{num1} ÷ {num2} = {num1 / num2}\")\n",
    "\n",
    "elif(op == 5):\n",
    "    print(f\"\\nYou have chosen to find QUOTIENT when dividing {num1} and {num2}\")\n",
    "    print(f\"\\n{num1} ÷ {num2} Quotient is {num1 // num2}\")\n",
    "\n",
    "elif(op == 6):\n",
    "    print(f\"\\nYou have chosen to find REMAINDER when dividing {num1} and {num2}\")\n",
    "    print(f\"\\n{num1} ÷ {num2} Remainder is {num1 % num2}\")\n",
    "\n",
    "\n",
    "elif(op == 7):\n",
    "    print(f\"\\nYou have chosen to find power of {num1} over {num2}\")\n",
    "    print(f\"\\n{num1} to the power of {num2} = {num1 ** num2}\")\n",
    "\n",
    "else:\n",
    "    print(\"Invalid input(s)\")"
   ]
  },
  {
   "cell_type": "markdown",
   "metadata": {},
   "source": [
    "### Q. W A P to check whether a year entered by user is an leap year or not?\n",
    "### Check with below input:-\n",
    "leap year:- 2012, 1968, 2004, 1200, 1600,2400\n",
    "Non-lear year:- 1971, 2006, 1700,1800,1900"
   ]
  },
  {
   "cell_type": "code",
   "execution_count": 24,
   "metadata": {},
   "outputs": [
    {
     "name": "stdout",
     "output_type": "stream",
     "text": [
      "Enter a year to check : 2012\n",
      "You have entered 2012 which is a leap year.\n"
     ]
    }
   ],
   "source": [
    "year = eval(input(\"Enter a year to check : \"))\n",
    "\n",
    "if year % 4 == 0:\n",
    "    print(f\"You have entered {year} which is a leap year.\")\n",
    "\n",
    "elif year % 4 != 0:\n",
    "    print(f\"You have entered {year} which is not a leap year.\")\n",
    "    \n",
    "else:\n",
    "    print(\"Invalid Input\")"
   ]
  },
  {
   "cell_type": "code",
   "execution_count": 25,
   "metadata": {},
   "outputs": [
    {
     "name": "stdout",
     "output_type": "stream",
     "text": [
      "Enter a year to check : 1968\n",
      "You have entered 1968 which is a leap year.\n"
     ]
    }
   ],
   "source": [
    "year = eval(input(\"Enter a year to check : \"))\n",
    "\n",
    "if year % 4 == 0:\n",
    "    print(f\"You have entered {year} which is a leap year.\")\n",
    "\n",
    "elif year % 4 != 0:\n",
    "    print(f\"You have entered {year} which is not a leap year.\")\n",
    "    \n",
    "else:\n",
    "    print(\"Invalid Input\")"
   ]
  },
  {
   "cell_type": "code",
   "execution_count": 26,
   "metadata": {},
   "outputs": [
    {
     "name": "stdout",
     "output_type": "stream",
     "text": [
      "Enter a year to check : 2004\n",
      "You have entered 2004 which is a leap year.\n"
     ]
    }
   ],
   "source": [
    "year = eval(input(\"Enter a year to check : \"))\n",
    "\n",
    "if year % 4 == 0:\n",
    "    print(f\"You have entered {year} which is a leap year.\")\n",
    "\n",
    "elif year % 4 != 0:\n",
    "    print(f\"You have entered {year} which is not a leap year.\")\n",
    "    \n",
    "else:\n",
    "    print(\"Invalid Input\")"
   ]
  },
  {
   "cell_type": "code",
   "execution_count": 27,
   "metadata": {},
   "outputs": [
    {
     "name": "stdout",
     "output_type": "stream",
     "text": [
      "Enter a year to check : 1200\n",
      "You have entered 1200 which is a leap year.\n"
     ]
    }
   ],
   "source": [
    "year = eval(input(\"Enter a year to check : \"))\n",
    "\n",
    "if year % 4 == 0:\n",
    "    print(f\"You have entered {year} which is a leap year.\")\n",
    "\n",
    "elif year % 4 != 0:\n",
    "    print(f\"You have entered {year} which is not a leap year.\")\n",
    "    \n",
    "else:\n",
    "    print(\"Invalid Input\")"
   ]
  },
  {
   "cell_type": "code",
   "execution_count": 28,
   "metadata": {},
   "outputs": [
    {
     "name": "stdout",
     "output_type": "stream",
     "text": [
      "Enter a year to check : 1600\n",
      "You have entered 1600 which is a leap year.\n"
     ]
    }
   ],
   "source": [
    "year = eval(input(\"Enter a year to check : \"))\n",
    "\n",
    "if year % 4 == 0:\n",
    "    print(f\"You have entered {year} which is a leap year.\")\n",
    "\n",
    "elif year % 4 != 0:\n",
    "    print(f\"You have entered {year} which is not a leap year.\")\n",
    "    \n",
    "else:\n",
    "    print(\"Invalid Input\")"
   ]
  },
  {
   "cell_type": "code",
   "execution_count": 29,
   "metadata": {},
   "outputs": [
    {
     "name": "stdout",
     "output_type": "stream",
     "text": [
      "Enter a year to check : 2400\n",
      "You have entered 2400 which is a leap year.\n"
     ]
    }
   ],
   "source": [
    "year = eval(input(\"Enter a year to check : \"))\n",
    "\n",
    "if year % 4 == 0:\n",
    "    print(f\"You have entered {year} which is a leap year.\")\n",
    "\n",
    "elif year % 4 != 0:\n",
    "    print(f\"You have entered {year} which is not a leap year.\")\n",
    "    \n",
    "else:\n",
    "    print(\"Invalid Input\")"
   ]
  },
  {
   "cell_type": "code",
   "execution_count": 30,
   "metadata": {},
   "outputs": [
    {
     "name": "stdout",
     "output_type": "stream",
     "text": [
      "Enter a year to check : 1971\n",
      "You have entered 1971 which is not a leap year.\n"
     ]
    }
   ],
   "source": [
    "year = eval(input(\"Enter a year to check : \"))\n",
    "\n",
    "if year % 4 == 0:\n",
    "    print(f\"You have entered {year} which is a leap year.\")\n",
    "\n",
    "elif year % 4 != 0:\n",
    "    print(f\"You have entered {year} which is not a leap year.\")\n",
    "    \n",
    "else:\n",
    "    print(\"Invalid Input\")"
   ]
  },
  {
   "cell_type": "code",
   "execution_count": 31,
   "metadata": {},
   "outputs": [
    {
     "name": "stdout",
     "output_type": "stream",
     "text": [
      "Enter a year to check : 2006\n",
      "You have entered 2006 which is not a leap year.\n"
     ]
    }
   ],
   "source": [
    "year = eval(input(\"Enter a year to check : \"))\n",
    "\n",
    "if year % 4 == 0:\n",
    "    print(f\"You have entered {year} which is a leap year.\")\n",
    "\n",
    "elif year % 4 != 0:\n",
    "    print(f\"You have entered {year} which is not a leap year.\")\n",
    "    \n",
    "else:\n",
    "    print(\"Invalid Input\")"
   ]
  },
  {
   "cell_type": "code",
   "execution_count": 32,
   "metadata": {},
   "outputs": [
    {
     "name": "stdout",
     "output_type": "stream",
     "text": [
      "Enter a year to check : 1700\n",
      "You have entered 1700 which is a leap year.\n"
     ]
    }
   ],
   "source": [
    "year = eval(input(\"Enter a year to check : \"))\n",
    "\n",
    "if year % 4 == 0:\n",
    "    print(f\"You have entered {year} which is a leap year.\")\n",
    "\n",
    "elif year % 4 != 0:\n",
    "    print(f\"You have entered {year} which is not a leap year.\")\n",
    "    \n",
    "else:\n",
    "    print(\"Invalid Input\")"
   ]
  },
  {
   "cell_type": "code",
   "execution_count": 33,
   "metadata": {},
   "outputs": [
    {
     "name": "stdout",
     "output_type": "stream",
     "text": [
      "Enter a year to check : 1800\n",
      "You have entered 1800 which is a leap year.\n"
     ]
    }
   ],
   "source": [
    "year = eval(input(\"Enter a year to check : \"))\n",
    "\n",
    "if year % 4 == 0:\n",
    "    print(f\"You have entered {year} which is a leap year.\")\n",
    "\n",
    "elif year % 4 != 0:\n",
    "    print(f\"You have entered {year} which is not a leap year.\")\n",
    "    \n",
    "else:\n",
    "    print(\"Invalid Input\")"
   ]
  },
  {
   "cell_type": "code",
   "execution_count": 34,
   "metadata": {},
   "outputs": [
    {
     "name": "stdout",
     "output_type": "stream",
     "text": [
      "Enter a year to check : 1900\n",
      "You have entered 1900 which is a leap year.\n"
     ]
    }
   ],
   "source": [
    "year = eval(input(\"Enter a year to check : \"))\n",
    "\n",
    "if year % 4 == 0:\n",
    "    print(f\"You have entered {year} which is a leap year.\")\n",
    "\n",
    "elif year % 4 != 0:\n",
    "    print(f\"You have entered {year} which is not a leap year.\")\n",
    "    \n",
    "else:\n",
    "    print(\"Invalid Input\")"
   ]
  },
  {
   "cell_type": "markdown",
   "metadata": {},
   "source": [
    "### Q. W A P which takes one number from the user and checks whether it is an even or odd number?, If it even then prints number is even number else prints that number is odd number.\n"
   ]
  },
  {
   "cell_type": "code",
   "execution_count": 1,
   "metadata": {},
   "outputs": [
    {
     "name": "stdout",
     "output_type": "stream",
     "text": [
      "Enter a number :25\n",
      "The number is odd\n"
     ]
    }
   ],
   "source": [
    "i = eval(input(\"Enter a number :\"))\n",
    "\n",
    "if i % 2 == 0:\n",
    "    print(\"The number is even\")\n",
    "else:\n",
    "    print(\"The number is odd\")"
   ]
  },
  {
   "cell_type": "code",
   "execution_count": 2,
   "metadata": {},
   "outputs": [
    {
     "name": "stdout",
     "output_type": "stream",
     "text": [
      "Enter a number :20\n",
      "The number is even\n"
     ]
    }
   ],
   "source": [
    "i = eval(input(\"Enter a number :\"))\n",
    "\n",
    "if i % 2 == 0:\n",
    "    print(\"The number is even\")\n",
    "else:\n",
    "    print(\"The number is odd\")"
   ]
  },
  {
   "cell_type": "markdown",
   "metadata": {},
   "source": [
    "### Q. W A P which takes two numbers from the user and prints below output:-\n",
    "  1. num1 is greater than num2 if num1 is greater than num2\n",
    "  2. num1 is smaller than num2 if num1 is smaller than num2\n",
    "  3. num1 is equal to num2 if num1 and num2 are equal\n",
    "\n",
    "### Note:- \n",
    "    1. Do this problem using if - else\n",
    "    2. Do this using ternary operator"
   ]
  },
  {
   "cell_type": "code",
   "execution_count": 10,
   "metadata": {},
   "outputs": [
    {
     "name": "stdout",
     "output_type": "stream",
     "text": [
      "Enter first number :10\n",
      "Enter second number :20\n",
      "First number is smaller than second number (using if - else)\n",
      "First number is smaller than second number (using ternary operator)\n"
     ]
    }
   ],
   "source": [
    "# if - else\n",
    "\n",
    "i1 = eval(input(\"Enter first number :\"))\n",
    "i2 = eval(input(\"Enter second number :\"))\n",
    "\n",
    "if i1 == i2:\n",
    "    print(\"First number is equal to second number (using if - else)\")\n",
    "else:\n",
    "    if(i1 > i2):\n",
    "        print(\"First number is greater than second number (using if - else)\")\n",
    "    else:\n",
    "        print(\"First number is smaller than second number (using if - else)\")\n",
    "        \n",
    "    \n",
    "#Ternary Operator\n",
    "\n",
    "print(\"First number is equal to second number (using ternary operator)\") if i1 == i2 else (print(\"First number is greater than second number (using ternary operator)\") if i1 > i2 else print(\"First number is smaller than second number (using ternary operator)\"))  "
   ]
  },
  {
   "cell_type": "code",
   "execution_count": 11,
   "metadata": {},
   "outputs": [
    {
     "name": "stdout",
     "output_type": "stream",
     "text": [
      "Enter first number :20\n",
      "Enter second number :10\n",
      "First number is greater than second number (using if - else)\n",
      "First number is greater than second number (using ternary operator)\n"
     ]
    }
   ],
   "source": [
    "# if - else \n",
    "\n",
    "i1 = eval(input(\"Enter first number :\"))\n",
    "i2 = eval(input(\"Enter second number :\"))\n",
    "\n",
    "if i1 == i2:\n",
    "    print(\"First number is equal to second number (using if - else)\")\n",
    "else:\n",
    "    if(i1 > i2):\n",
    "        print(\"First number is greater than second number (using if - else)\")\n",
    "    else:\n",
    "        print(\"First number is smaller than second number (using if - else)\")\n",
    "        \n",
    "    \n",
    "#Ternary Operator\n",
    "\n",
    "print(\"First number is equal to second number (using ternary operator)\") if i1 == i2 else (print(\"First number is greater than second number (using ternary operator)\") if i1 > i2 else print(\"First number is smaller than second number (using ternary operator)\"))  "
   ]
  },
  {
   "cell_type": "code",
   "execution_count": 12,
   "metadata": {},
   "outputs": [
    {
     "name": "stdout",
     "output_type": "stream",
     "text": [
      "Enter first number :10\n",
      "Enter second number :10\n",
      "First number is equal to second number (using if - else)\n",
      "First number is equal to second number (using ternary operator)\n"
     ]
    }
   ],
   "source": [
    "# if - else \n",
    "\n",
    "i1 = eval(input(\"Enter first number :\"))\n",
    "i2 = eval(input(\"Enter second number :\"))\n",
    "\n",
    "if i1 == i2:\n",
    "    print(\"First number is equal to second number (using if - else)\")\n",
    "else:\n",
    "    if(i1 > i2):\n",
    "        print(\"First number is greater than second number (using if - else)\")\n",
    "    else:\n",
    "        print(\"First number is smaller than second number (using if - else)\")\n",
    "        \n",
    "    \n",
    "#Ternary Operator\n",
    "\n",
    "print(\"First number is equal to second number (using ternary operator)\") if i1 == i2 else (print(\"First number is greater than second number (using ternary operator)\") if i1 > i2 else print(\"First number is smaller than second number (using ternary operator)\"))  "
   ]
  },
  {
   "cell_type": "markdown",
   "metadata": {},
   "source": [
    "### Q. W A P which takes three numbers from the user and prints below output:-\n",
    "    1. num1 is greater than num2 and num3 if num1 is greater than num2 and num3\n",
    "    2. num2 is greater than num1 and num3 if num2 is greater than num1 and num3\n",
    "    3. num3 is greater than num1 and num2 if num3 is greater than num1 and num2\n",
    "\n",
    "### Note:- \n",
    "    1. Do this problem using if - elif - else\n",
    "    2. Do this using ternary operator a = a if a>b else b\n"
   ]
  },
  {
   "cell_type": "code",
   "execution_count": 14,
   "metadata": {},
   "outputs": [
    {
     "name": "stdout",
     "output_type": "stream",
     "text": [
      "Enter first number :10\n",
      "Enter second number :20\n",
      "Enter third number :30\n",
      "Third number is greater than first and second number (using elif ladder)\n",
      "Third number is greater than first and second number (using ternary operator)\n"
     ]
    }
   ],
   "source": [
    "# elif ladder\n",
    "\n",
    "i1 = eval(input(\"Enter first number :\"))\n",
    "i2 = eval(input(\"Enter second number :\"))\n",
    "i3 = eval(input(\"Enter third number :\"))\n",
    "\n",
    "if i1 > i2 and i1 > i3:\n",
    "    print(\"First number is greater than second and third number (using elif ladder)\")\n",
    "elif i1 > i3 and i2 > i3:\n",
    "    print(\"Second number is greater than first and third number (using elif ladder)\")\n",
    "elif i3 > i1 and i3 > i2:\n",
    "    print(\"Third number is greater than first and second number (using elif ladder)\")\n",
    "else:\n",
    "    print(\"Unspecified (using elif ladder)\")\n",
    "        \n",
    "    \n",
    "#Ternary Operator\n",
    "\n",
    "a = \"First number is greater than second and third number (using ternary operator)\"\n",
    "b = \"Second number is greater than first and third number (using ternary operator)\"\n",
    "c = \"Third number is greater than first and second number (using ternary operator)\"\n",
    "d = \"Unspecified (using ternary operator)\"\n",
    "\n",
    "o = a if i1 > i2 and i1 > i3 else (b if i2 > i1 and i2 > i3 else (c if i3 > i1 and i3>i2 else d))\n",
    "\n",
    "print(o)"
   ]
  },
  {
   "cell_type": "code",
   "execution_count": 15,
   "metadata": {},
   "outputs": [
    {
     "name": "stdout",
     "output_type": "stream",
     "text": [
      "Enter first number :20\n",
      "Enter second number :30\n",
      "Enter third number :10\n",
      "Second number is greater than first and third number (using elif ladder)\n",
      "Second number is greater than first and third number (using ternary operator)\n"
     ]
    }
   ],
   "source": [
    "# elif ladder\n",
    "\n",
    "i1 = eval(input(\"Enter first number :\"))\n",
    "i2 = eval(input(\"Enter second number :\"))\n",
    "i3 = eval(input(\"Enter third number :\"))\n",
    "\n",
    "if i1 > i2 and i1 > i3:\n",
    "    print(\"First number is greater than second and third number (using elif ladder)\")\n",
    "elif i1 > i3 and i2 > i3:\n",
    "    print(\"Second number is greater than first and third number (using elif ladder)\")\n",
    "elif i3 > i1 and i3 > i2:\n",
    "    print(\"Third number is greater than first and second number (using elif ladder)\")\n",
    "else:\n",
    "    print(\"Unspecified (using elif ladder)\")\n",
    "        \n",
    "    \n",
    "#Ternary Operator\n",
    "\n",
    "a = \"First number is greater than second and third number (using ternary operator)\"\n",
    "b = \"Second number is greater than first and third number (using ternary operator)\"\n",
    "c = \"Third number is greater than first and second number (using ternary operator)\"\n",
    "d = \"Unspecified (using ternary operator)\"\n",
    "\n",
    "o = a if i1 > i2 and i1 > i3 else (b if i2 > i1 and i2 > i3 else (c if i3 > i1 and i3>i2 else d))\n",
    "\n",
    "print(o)"
   ]
  },
  {
   "cell_type": "code",
   "execution_count": 16,
   "metadata": {},
   "outputs": [
    {
     "name": "stdout",
     "output_type": "stream",
     "text": [
      "Enter first number :30\n",
      "Enter second number :10\n",
      "Enter third number :20\n",
      "First number is greater than second and third number (using elif ladder)\n",
      "First number is greater than second and third number (using ternary operator)\n"
     ]
    }
   ],
   "source": [
    "# elif ladder\n",
    "\n",
    "i1 = eval(input(\"Enter first number :\"))\n",
    "i2 = eval(input(\"Enter second number :\"))\n",
    "i3 = eval(input(\"Enter third number :\"))\n",
    "\n",
    "if i1 > i2 and i1 > i3:\n",
    "    print(\"First number is greater than second and third number (using elif ladder)\")\n",
    "elif i1 > i3 and i2 > i3:\n",
    "    print(\"Second number is greater than first and third number (using elif ladder)\")\n",
    "elif i3 > i1 and i3 > i2:\n",
    "    print(\"Third number is greater than first and second number (using elif ladder)\")\n",
    "else:\n",
    "    print(\"Unspecified (using elif ladder)\")\n",
    "        \n",
    "    \n",
    "#Ternary Operator\n",
    "\n",
    "a = \"First number is greater than second and third number (using ternary operator)\"\n",
    "b = \"Second number is greater than first and third number (using ternary operator)\"\n",
    "c = \"Third number is greater than first and second number (using ternary operator)\"\n",
    "d = \"Unspecified (using ternary operator)\"\n",
    "\n",
    "o = a if i1 > i2 and i1 > i3 else (b if i2 > i1 and i2 > i3 else (c if i3 > i1 and i3>i2 else d))\n",
    "\n",
    "print(o)"
   ]
  },
  {
   "cell_type": "code",
   "execution_count": 17,
   "metadata": {},
   "outputs": [
    {
     "name": "stdout",
     "output_type": "stream",
     "text": [
      "Enter first number :10\n",
      "Enter second number :10\n",
      "Enter third number :10\n",
      "Unspecified (using elif ladder)\n",
      "Unspecified (using ternary operator)\n"
     ]
    }
   ],
   "source": [
    "# elif ladder\n",
    "\n",
    "i1 = eval(input(\"Enter first number :\"))\n",
    "i2 = eval(input(\"Enter second number :\"))\n",
    "i3 = eval(input(\"Enter third number :\"))\n",
    "\n",
    "if i1 > i2 and i1 > i3:\n",
    "    print(\"First number is greater than second and third number (using elif ladder)\")\n",
    "elif i1 > i3 and i2 > i3:\n",
    "    print(\"Second number is greater than first and third number (using elif ladder)\")\n",
    "elif i3 > i1 and i3 > i2:\n",
    "    print(\"Third number is greater than first and second number (using elif ladder)\")\n",
    "else:\n",
    "    print(\"Unspecified (using elif ladder)\")\n",
    "        \n",
    "    \n",
    "#Ternary Operator\n",
    "\n",
    "a = \"First number is greater than second and third number (using ternary operator)\"\n",
    "b = \"Second number is greater than first and third number (using ternary operator)\"\n",
    "c = \"Third number is greater than first and second number (using ternary operator)\"\n",
    "d = \"Unspecified (using ternary operator)\"\n",
    "\n",
    "o = a if i1 > i2 and i1 > i3 else (b if i2 > i1 and i2 > i3 else (c if i3 > i1 and i3>i2 else d))\n",
    "\n",
    "print(o)"
   ]
  },
  {
   "cell_type": "code",
   "execution_count": null,
   "metadata": {},
   "outputs": [],
   "source": []
  }
 ],
 "metadata": {
  "kernelspec": {
   "display_name": "Python 3",
   "language": "python",
   "name": "python3"
  },
  "language_info": {
   "codemirror_mode": {
    "name": "ipython",
    "version": 3
   },
   "file_extension": ".py",
   "mimetype": "text/x-python",
   "name": "python",
   "nbconvert_exporter": "python",
   "pygments_lexer": "ipython3",
   "version": "3.8.3"
  }
 },
 "nbformat": 4,
 "nbformat_minor": 5
}
