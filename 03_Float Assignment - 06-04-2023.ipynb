{
 "cells": [
  {
   "cell_type": "markdown",
   "metadata": {},
   "source": [
    "### Declare a float value and store it in a variable. Check the type and print the id of the same."
   ]
  },
  {
   "cell_type": "code",
   "execution_count": 1,
   "metadata": {},
   "outputs": [
    {
     "name": "stdout",
     "output_type": "stream",
     "text": [
      "Type of the variable is <class 'float'>\n",
      "ID of the storedvariable is 2965175073744\n"
     ]
    }
   ],
   "source": [
    "f = 10.25\n",
    "\n",
    "print(f\"Type of the variable is {type(f)}\")\n",
    "print(f\"ID of the storedvariable is {id(f)}\")"
   ]
  },
  {
   "cell_type": "markdown",
   "metadata": {},
   "source": [
    "### Arithmetic Operations on float\n",
    "- Take two different float values.\n",
    "- Store them in two different variables.\n",
    "- Do below operations on them:-\n",
    "    - Find sum of both numbers\n",
    "    - Find difference between them\n",
    "    - Find the product of both numbers.\n",
    "    - Find value after dividing first num with second number\n",
    "    - Find the remainder after dividing first number with second number\n",
    "    - Find the quotient after dividing first number with second number\n",
    "    - Find the result of the first num to the power of the second number."
   ]
  },
  {
   "cell_type": "code",
   "execution_count": 2,
   "metadata": {},
   "outputs": [
    {
     "name": "stdout",
     "output_type": "stream",
     "text": [
      "The sum of value of the two variables is : 103.02\n",
      "The difference between value of the two variables is : 52.519999999999996\n",
      "The sum of value of product of the two variables is : 1963.6924999999999\n",
      "Value after dividing the firdt number by second number is : 3.0799999999999996\n",
      "Remainder after dividing the first number by second number is : 2.019999999999996\n",
      "Quotient after dividing the first number by second number is : 3.0\n",
      "Result of the first number to the power of second number is : 1.1320554855687438e+109\n"
     ]
    }
   ],
   "source": [
    "f1 = 77.77\n",
    "f2 = 25.25\n",
    "\n",
    "print(f\"The sum of value of the two variables is : {f1 + f2}\")\n",
    "print(f\"The difference between value of the two variables is : {f1 - f2}\")\n",
    "print(f\"The sum of value of product of the two variables is : {f1 * f2}\")\n",
    "print(f\"Value after dividing the firdt number by second number is : {f1 / f2}\")\n",
    "print(f\"Remainder after dividing the first number by second number is : {f1 % f2}\")\n",
    "print(f\"Quotient after dividing the first number by second number is : {f1 // f2}\")\n",
    "print(f\"Result of the first number to the power of second number is : {f2 ** f1}\")"
   ]
  },
  {
   "cell_type": "markdown",
   "metadata": {},
   "source": [
    "### Comparison Operators on float\n",
    "- Take two different float values.\n",
    "- Store them in two different variables.\n",
    "- Do below operations on them:-\n",
    "- Compare these two numbers with below operator:-\n",
    "    - Greater than, '>'\n",
    "    - Smaller than, '<'\n",
    "    - Greater than or equal to, '>='\n",
    "    - Less than or equal to, '<='\n",
    "    - Observe their output(return type should be boolean)"
   ]
  },
  {
   "cell_type": "code",
   "execution_count": 3,
   "metadata": {},
   "outputs": [
    {
     "name": "stdout",
     "output_type": "stream",
     "text": [
      "Fisrt number is greater than the second number : True\n",
      "Fisrt number is lesser than the second number : False\n",
      "Fisrt number is greater than or equal to the second number : True\n",
      "Fisrt number is lesser than or equal to the second number : False\n"
     ]
    }
   ],
   "source": [
    "f1 = 77.77\n",
    "f2 = 25.25\n",
    "\n",
    "print(f\"Fisrt number is greater than the second number : {f1 > f2}\")\n",
    "print(f\"Fisrt number is lesser than the second number : {f1 < f2}\")\n",
    "print(f\"Fisrt number is greater than or equal to the second number : {f1 >= f2}\")\n",
    "print(f\"Fisrt number is lesser than or equal to the second number : {f1 <= f2}\")"
   ]
  },
  {
   "cell_type": "markdown",
   "metadata": {},
   "source": [
    "### Equality Operator\n",
    "- Take two different float values.\n",
    "- Store them in two different variables.\n",
    "- Equate them using equality operators (==, !=)\n",
    "- Observe the output(return type should be boolean)"
   ]
  },
  {
   "cell_type": "code",
   "execution_count": 4,
   "metadata": {},
   "outputs": [
    {
     "name": "stdout",
     "output_type": "stream",
     "text": [
      "Both numbers are equal : True\n",
      "Both numbers are not equal : False\n"
     ]
    }
   ],
   "source": [
    "f3 = 10.11\n",
    "f4 = 10.11\n",
    "\n",
    "print(f\"Both numbers are equal : {f3 == f4}\")\n",
    "print(f\"Both numbers are not equal : {f3 != f4}\")"
   ]
  },
  {
   "cell_type": "markdown",
   "metadata": {},
   "source": [
    "### Logical Operators"
   ]
  },
  {
   "cell_type": "code",
   "execution_count": 5,
   "metadata": {},
   "outputs": [
    {
     "name": "stdout",
     "output_type": "stream",
     "text": [
      "20.3\n"
     ]
    }
   ],
   "source": [
    "print(10.20 and 20.30)"
   ]
  },
  {
   "cell_type": "code",
   "execution_count": 6,
   "metadata": {},
   "outputs": [
    {
     "name": "stdout",
     "output_type": "stream",
     "text": [
      "0.0\n"
     ]
    }
   ],
   "source": [
    "print(0.0 and 20.30)"
   ]
  },
  {
   "cell_type": "code",
   "execution_count": 7,
   "metadata": {},
   "outputs": [
    {
     "name": "stdout",
     "output_type": "stream",
     "text": [
      "0.0\n"
     ]
    }
   ],
   "source": [
    "print(20.30 and 0.0)"
   ]
  },
  {
   "cell_type": "code",
   "execution_count": 8,
   "metadata": {},
   "outputs": [
    {
     "name": "stdout",
     "output_type": "stream",
     "text": [
      "0.0\n"
     ]
    }
   ],
   "source": [
    "print(0.0 and 0.0)"
   ]
  },
  {
   "cell_type": "code",
   "execution_count": 9,
   "metadata": {},
   "outputs": [
    {
     "name": "stdout",
     "output_type": "stream",
     "text": [
      "10.2\n"
     ]
    }
   ],
   "source": [
    "print(10.20 or 20.30)"
   ]
  },
  {
   "cell_type": "code",
   "execution_count": 10,
   "metadata": {},
   "outputs": [
    {
     "name": "stdout",
     "output_type": "stream",
     "text": [
      "20.3\n"
     ]
    }
   ],
   "source": [
    "print(0.0 or 20.30)"
   ]
  },
  {
   "cell_type": "code",
   "execution_count": 11,
   "metadata": {},
   "outputs": [
    {
     "name": "stdout",
     "output_type": "stream",
     "text": [
      "20.3\n"
     ]
    }
   ],
   "source": [
    "print(20.30 or 0.0)"
   ]
  },
  {
   "cell_type": "code",
   "execution_count": 12,
   "metadata": {},
   "outputs": [
    {
     "name": "stdout",
     "output_type": "stream",
     "text": [
      "0.0\n"
     ]
    }
   ],
   "source": [
    "print(0.0 or 0.0)"
   ]
  },
  {
   "cell_type": "code",
   "execution_count": 13,
   "metadata": {},
   "outputs": [
    {
     "name": "stdout",
     "output_type": "stream",
     "text": [
      "False\n"
     ]
    }
   ],
   "source": [
    "print(not 10.2)"
   ]
  },
  {
   "cell_type": "code",
   "execution_count": 14,
   "metadata": {},
   "outputs": [
    {
     "name": "stdout",
     "output_type": "stream",
     "text": [
      "True\n"
     ]
    }
   ],
   "source": [
    "print(not 0.0)"
   ]
  },
  {
   "cell_type": "markdown",
   "metadata": {},
   "source": [
    "### What is the output of expression inside print statement. Cross check before running the program."
   ]
  },
  {
   "cell_type": "code",
   "execution_count": 1,
   "metadata": {},
   "outputs": [
    {
     "name": "stdout",
     "output_type": "stream",
     "text": [
      "False\n",
      "True\n"
     ]
    }
   ],
   "source": [
    "a = 10.20\n",
    "b = 10.20\n",
    "\n",
    "print(a is b)\n",
    "print(a is not b)"
   ]
  },
  {
   "cell_type": "markdown",
   "metadata": {},
   "source": [
    "Why the Id of float values are different when the same value is\n",
    "assigned to two different variables\n",
    "ex: a = 10.5 b=10.5. but id will be same if I assign the variable\n",
    "having float i.e. a=c then both a and c's Id are same\n",
    "### Object reusability concept is not applicable on float values.\n",
    "\n",
    "### Bitwise operation is not applicable between instances of float."
   ]
  },
  {
   "cell_type": "markdown",
   "metadata": {},
   "source": [
    "### Membership operation"
   ]
  },
  {
   "cell_type": "code",
   "execution_count": 3,
   "metadata": {},
   "outputs": [
    {
     "name": "stdout",
     "output_type": "stream",
     "text": [
      "True\n"
     ]
    }
   ],
   "source": [
    "print('2.7' in \"Python2.7.8\")"
   ]
  },
  {
   "cell_type": "code",
   "execution_count": 4,
   "metadata": {},
   "outputs": [
    {
     "name": "stdout",
     "output_type": "stream",
     "text": [
      "True\n"
     ]
    }
   ],
   "source": [
    "print(10.20 in [10 , 10.20 , 10 + 20j , 'Python'])"
   ]
  },
  {
   "cell_type": "code",
   "execution_count": 5,
   "metadata": {},
   "outputs": [
    {
     "name": "stdout",
     "output_type": "stream",
     "text": [
      "True\n"
     ]
    }
   ],
   "source": [
    "print(20.30 in {1 , 20.30 , 30 + 40j})"
   ]
  },
  {
   "cell_type": "code",
   "execution_count": 6,
   "metadata": {},
   "outputs": [
    {
     "name": "stdout",
     "output_type": "stream",
     "text": [
      "True\n"
     ]
    }
   ],
   "source": [
    "print(10.20 in (10 , 10.20 , 10 + 20j , 'Python'))"
   ]
  },
  {
   "cell_type": "code",
   "execution_count": 7,
   "metadata": {},
   "outputs": [
    {
     "name": "stdout",
     "output_type": "stream",
     "text": [
      "True\n"
     ]
    }
   ],
   "source": [
    "print(2.3 in {1 : 100 , 2.3 : 200 , 30 + 40j : 300})"
   ]
  },
  {
   "cell_type": "code",
   "execution_count": 8,
   "metadata": {},
   "outputs": [
    {
     "name": "stdout",
     "output_type": "stream",
     "text": [
      "True\n"
     ]
    }
   ],
   "source": [
    "print(10 in range(20))"
   ]
  },
  {
   "cell_type": "code",
   "execution_count": null,
   "metadata": {},
   "outputs": [],
   "source": []
  }
 ],
 "metadata": {
  "kernelspec": {
   "display_name": "Python 3",
   "language": "python",
   "name": "python3"
  },
  "language_info": {
   "codemirror_mode": {
    "name": "ipython",
    "version": 3
   },
   "file_extension": ".py",
   "mimetype": "text/x-python",
   "name": "python",
   "nbconvert_exporter": "python",
   "pygments_lexer": "ipython3",
   "version": "3.8.3"
  }
 },
 "nbformat": 4,
 "nbformat_minor": 4
}
