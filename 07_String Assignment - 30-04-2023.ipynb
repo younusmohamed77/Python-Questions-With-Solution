{
 "cells": [
  {
   "cell_type": "markdown",
   "metadata": {
    "id": "OG2JlAXx3VoJ"
   },
   "source": [
    "### Declare a string and store it in a variable. \n",
    "### Check the type and print the id of the same."
   ]
  },
  {
   "cell_type": "code",
   "execution_count": 1,
   "metadata": {},
   "outputs": [
    {
     "name": "stdout",
     "output_type": "stream",
     "text": [
      "The value in variable is : Hello World! This is a string.\n",
      "The type of the variable is : <class 'str'>\n",
      "The variable is stored in : 1926478287776\n"
     ]
    }
   ],
   "source": [
    "my_str = \"Hello World! This is a string.\"\n",
    "\n",
    "print(f\"The value in variable is : {my_str}\")\n",
    "print(f\"The type of the variable is : {type(my_str)}\")\n",
    "print(f\"The variable is stored in : {id(my_str)}\")"
   ]
  },
  {
   "cell_type": "markdown",
   "metadata": {
    "id": "wPxm3G8W3dqN"
   },
   "source": [
    "### Which are valid/invalid strings\n",
    "1. 'This is Python class' - Valid\n",
    "\n",
    "2. \"This is Python class\" - Valid\n",
    "\n",
    "\n",
    "3. '''This is Python class''' - Valid\n",
    "\n",
    "\n",
    "4. \"\"\"This is Python class\"\"\" - Valid\n",
    "\n",
    "\n",
    "5. 'This is Python's class' - Invalid\n",
    "\n",
    "\n",
    "6. \"Learnbay provides \"Java\", \"Python\" classes\" - Invalid\n",
    "\n",
    "\n",
    "7. \"Learnbay provides 'Java', 'Python' classes\" - Valid\n",
    "\n",
    "\n",
    "\n",
    "8. \"This is Python's class\" - Valid\n",
    "\n",
    "\n",
    "9. \"\"\"Learnbay provides \"Java\", \"Python\" classes\"\"\" - Valid\n",
    "\n",
    "\n",
    "10. '''Learnbay provides \"Java\", \"Python\" classes''' - Valid\n",
    "\n",
    "\n",
    "#### 11. '''Learnbay provides\n",
    "#### \"Java\", \"Python\" \n",
    "#### classes''' - Valid\n",
    "\n",
    "#### 12. 'This is\n",
    "#### Python \n",
    "#### class' - Invalid\n"
   ]
  },
  {
   "cell_type": "markdown",
   "metadata": {},
   "source": [
    "### Write the code to get the output mentioned below print statement\n",
    "#### output:- The length of my_str is 66\n",
    "#### output:- id of my_str and my_str1 is same? - True\n",
    "#### output:- Type of my_str is: str"
   ]
  },
  {
   "cell_type": "code",
   "execution_count": 5,
   "metadata": {
    "id": "Drx8fhT23g7a"
   },
   "outputs": [
    {
     "name": "stdout",
     "output_type": "stream",
     "text": [
      "The lenght of my_str is 66\n",
      "id of my_str and my_str1 is same? - False\n",
      "Type of my_str is : <class 'str'>\n"
     ]
    }
   ],
   "source": [
    "my_str = \"Although that way may not be obvious at first unless you're Dutch.\"\n",
    "my_str1 = \"Although that way may not be obvious at first unless you're Dutch.\"\n",
    "\n",
    "print(f\"The lenght of my_str is {len(my_str)}\")\n",
    "\n",
    "if id(my_str) == id(my_str1):\n",
    "    print(\"id of my_str and my_str1 is same? - True\")\n",
    "\n",
    "else:\n",
    "    print(\"id of my_str and my_str1 is same? - False\")\n",
    "\n",
    "print(f\"Type of my_str is : {type(my_str)}\")\n"
   ]
  },
  {
   "cell_type": "markdown",
   "metadata": {},
   "source": [
    "### Indexing\n",
    "### Write the code to get the output,instructions are mentioned below print statement. use indexing"
   ]
  },
  {
   "cell_type": "code",
   "execution_count": 28,
   "metadata": {
    "id": "403e-I3A3lCO"
   },
   "outputs": [
    {
     "name": "stdout",
     "output_type": "stream",
     "text": [
      "The first character in my_str is : A\n",
      "The first character in my_str is : A\n",
      "The character at index 10 in my_str is : ' '\n",
      "The last character in my_str is : h\n",
      "The last character in my_str is : h\n",
      "\n"
     ]
    }
   ],
   "source": [
    "my_str = \"Although 8 that way may not be obvious at first unless you're Dutch\"\n",
    "\n",
    "print(f\"The first character in my_str is : {my_str[0]}\")\n",
    "#output:- The first character in my_str is: A\n",
    "#Note:- Use positive indexing\n",
    "\n",
    "print(f\"The first character in my_str is : {my_str[-len(my_str)]}\")\n",
    "#output:- The first character in my_str is: A\n",
    "#Note:- Use len() function.\n",
    "\n",
    "print(f\"The character at index 10 in my_str is : '{my_str[10]}'\")\n",
    "#output:- The character at index 10 in my_str is: ' '\n",
    "#Note:- Use positive indexing\n",
    "\n",
    "print(f\"The last character in my_str is : {my_str[-1]}\")\n",
    "#output:- The last character in my_str is: h\n",
    "#Note:- Use negative indexing.\n",
    "\n",
    "print(f\"The last character in my_str is : {my_str[len(my_str) - 1]}\")\n",
    "#output:- The last character in my_str is: h\n",
    "#Note:- Use len() function.\n",
    "\n",
    "print()\n",
    "#output:-  ite\n",
    "#Note:- Use positive index"
   ]
  },
  {
   "cell_type": "markdown",
   "metadata": {},
   "source": [
    "### Slicing\n",
    "### Write the code to get the output,instructions are mentioned below print statement.\n",
    "##### use slicing"
   ]
  },
  {
   "cell_type": "code",
   "execution_count": 61,
   "metadata": {
    "id": "NK_QdtsM3luu"
   },
   "outputs": [
    {
     "name": "stdout",
     "output_type": "stream",
     "text": [
      "You have sliced : Although that way may not be obvious at first unless you're Dutch.\n",
      "You have sliced : Although that way may not be obvious at first unless you're Dutch.\n",
      "You have sliced : Although that way may not be obvious at first unless you're Dutch.\n",
      "You have sliced : Although that way may not be obvious at first unless you're Dutch.\n",
      "You have sliced : \n",
      "You have sliced : Atog htwymyntb biu tfrtuls o'eDth\n",
      "You have sliced : Ahgttam tebo  r lsorDc\n",
      "You have sliced : .hctuD er'uoy sselnu tsrif ta suoivbo eb ton yam yaw taht hguohtlA\n",
      "You have sliced : .hctuD er'uoy sselnu tsrif ta suoivbo eb ton yam yaw taht hguohtl\n",
      "You have sliced : .cu ruysen si asovoe o a a athuhl\n",
      "You have sliced : .cu ruysen si asovoe o a a athuhl\n",
      "\n",
      "You have sliced :  yaw ta\n",
      "You have sliced : ess you\n"
     ]
    }
   ],
   "source": [
    "my_str = \"Although that way may not be obvious at first unless you're Dutch.\"\n",
    "\n",
    "print(f\"You have sliced : {my_str[::]}\")\n",
    "#output:- You have sliced: Although that way may not be obvious at first unless you're Dutch.Without begin, end and step\n",
    "\n",
    "\n",
    "print(f\"You have sliced : {my_str[0:len(my_str):]}\")\n",
    "#output:- You have sliced: Although that way may not be obvious at first unless you're Dutch.with begin as 0 end using len and without step\n",
    "\n",
    "\n",
    "print(f\"You have sliced : {my_str[::1]}\")\n",
    "#output:- You have sliced: Although that way may not be obvious at first unless you're Dutch.without begin and end but using step\n",
    "\n",
    "\n",
    "print(f\"You have sliced : {my_str[0:len(my_str):1]}\")\n",
    "#output:- You have sliced: Although that way may not be obvious at first unless you're Dutch.With begin, end and step\n",
    "\n",
    "\n",
    "print(f\"You have sliced : {my_str[len(my_str):len(my_str) - 1:-1]}\")\n",
    "#output:- You have sliced:   .with using begin and end using postive values and step as negative values.\n",
    "#Slicing command should print empty string.\n",
    "\n",
    "\n",
    "print(f\"You have sliced : {my_str[::2]}\")\n",
    "#output:- You have sliced: Atog htwymyntb biu tfrtuls o'eDth\n",
    "\n",
    "\n",
    "print(f\"You have sliced : {my_str[::3]}\")\n",
    "#output:- You have sliced: Ahgttam tebo  r lsorDc\n",
    "\n",
    "\n",
    "print(f\"You have sliced : {my_str[::-1]}\")\n",
    "#output:- You have sliced: .hctuD er'uoy sselnu tsrif ta suoivbo eb ton yam yaw taht hguohtlA. Use only step\n",
    "\n",
    "\n",
    "print(f\"You have sliced : {my_str[len(my_str):0:-1]}\")\n",
    "#output:- You have sliced: .hctuD er'uoy sselnu tsrif ta suoivbo eb ton yam yaw taht hguohtlA. Use begin end and step.\n",
    "\n",
    "\n",
    "print(f\"You have sliced : {my_str[::-2]}\")\n",
    "#output:- You have sliced: .cu ruysen si asovoe o a a athuhl. use only step\n",
    "\n",
    "\n",
    "print(f\"You have sliced : {my_str[len(my_str):0:-2]}\")\n",
    "#output:- You have sliced: .cu ruysen si asovoe o a a athuhl. use begin, end and step.\n",
    "\n",
    "\n",
    "print(my_str[10:17:-1])\n",
    "#What will be the output?\n",
    "# Empty string\n",
    "\n",
    "\n",
    "print(f\"You have sliced : {my_str[17:10:-1]}\")\n",
    "#output:- You have sliced: yaw ta, Using begin, end and step.\n",
    "\n",
    "print(f\"You have sliced : {my_str[49:56:1]}\")\n",
    "#output:- You have sliced: ess you. Using begin, end and step.\n"
   ]
  },
  {
   "cell_type": "markdown",
   "metadata": {},
   "source": [
    "### Basic operation on string\n",
    "\n",
    "### Write the code to get the output,instructions are mentioned below."
   ]
  },
  {
   "cell_type": "code",
   "execution_count": 69,
   "metadata": {
    "id": "qUSYa5x-3n5j"
   },
   "outputs": [
    {
     "name": "stdout",
     "output_type": "stream",
     "text": [
      "Learnbay Python\n",
      "LearnbayLearnbayLearnbay\n"
     ]
    },
    {
     "ename": "TypeError",
     "evalue": "can't multiply sequence by non-int of type 'str'",
     "output_type": "error",
     "traceback": [
      "\u001b[1;31m---------------------------------------------------------------------------\u001b[0m",
      "\u001b[1;31mTypeError\u001b[0m                                 Traceback (most recent call last)",
      "\u001b[1;32m<ipython-input-69-679a7f2f3fa7>\u001b[0m in \u001b[0;36m<module>\u001b[1;34m\u001b[0m\n\u001b[0;32m     19\u001b[0m \u001b[1;33m\u001b[0m\u001b[0m\n\u001b[0;32m     20\u001b[0m \u001b[1;31m#Error: TypeError: can't multiply sequence by non-int of type 'str'\u001b[0m\u001b[1;33m\u001b[0m\u001b[1;33m\u001b[0m\u001b[1;33m\u001b[0m\u001b[0m\n\u001b[1;32m---> 21\u001b[1;33m \u001b[0mprint\u001b[0m\u001b[1;33m(\u001b[0m\u001b[0mstr1\u001b[0m \u001b[1;33m*\u001b[0m \u001b[0mstr2\u001b[0m\u001b[1;33m)\u001b[0m\u001b[1;33m\u001b[0m\u001b[1;33m\u001b[0m\u001b[0m\n\u001b[0m",
      "\u001b[1;31mTypeError\u001b[0m: can't multiply sequence by non-int of type 'str'"
     ]
    }
   ],
   "source": [
    "str1 = 'Learnbay'\n",
    "str2 = 'Python'\n",
    "\n",
    "#Output is: Learnbay Python\n",
    "print(str1 + ' ' + str2)\n",
    "\n",
    "#Error: TypeError: can only concatenate str (not \"int\") to str\n",
    "print(str1 + 1)\n",
    "\n",
    "#Error: TypeError: can only concatenate str (not \"float\") to str\n",
    "print(str1 + 1.5)\n",
    "\n",
    "#Find below Output\n",
    "#Output is: LearnbayLearnbayLearnbay\n",
    "print(str1 * 3)\n",
    "\n",
    "#Error: TypeError: can't multiply sequence by non-int of type 'float'\n",
    "print(str1 * 1.5)\n",
    "\n",
    "#Error: TypeError: can't multiply sequence by non-int of type 'str'\n",
    "print(str1 * str2)\n"
   ]
  },
  {
   "cell_type": "markdown",
   "metadata": {},
   "source": [
    "### Find below Output"
   ]
  },
  {
   "cell_type": "code",
   "execution_count": 78,
   "metadata": {
    "id": "gREffmnr3s-p"
   },
   "outputs": [
    {
     "name": "stdout",
     "output_type": "stream",
     "text": [
      "True\n",
      "False\n",
      "False\n",
      "True\n",
      "True\n",
      "False\n"
     ]
    }
   ],
   "source": [
    "str1 = 'Python'\n",
    "str2 = 'Python'\n",
    "str3 = 'Python$'\n",
    "str4 = 'Python$'\n",
    "\n",
    "#print True by using identity operator between str1 and str2\n",
    "print(str1 is str2)\n",
    "\n",
    "#print False by using identity operator between str1 and str3\n",
    "print(str1 is str3)\n",
    "\n",
    "#print False by using identity operator between str4 and str3\n",
    "print(str4 is str3)\n",
    "\n",
    "#Check if P is available in str1 and print True by using membership operator\n",
    "print('P' in str1)\n",
    "\n",
    "#Check if $ is available in str3 and print True by using membership operator\n",
    "print('$' in str3)\n",
    "\n",
    "#Check if N is available in str3 and print False by using membership operator\n",
    "print('N' in str3)"
   ]
  },
  {
   "cell_type": "markdown",
   "metadata": {},
   "source": [
    "### Complete the below code\n",
    "### write the code to replace 'Python' with 'Java' and you should get below error.\n",
    "### TypeError: 'str' object does not support item assignment."
   ]
  },
  {
   "cell_type": "code",
   "execution_count": 82,
   "metadata": {
    "id": "QNFjxDr73u2H"
   },
   "outputs": [
    {
     "ename": "TypeError",
     "evalue": "'str' object does not support item assignment",
     "output_type": "error",
     "traceback": [
      "\u001b[1;31m---------------------------------------------------------------------------\u001b[0m",
      "\u001b[1;31mTypeError\u001b[0m                                 Traceback (most recent call last)",
      "\u001b[1;32m<ipython-input-82-e5b79ba2e9f1>\u001b[0m in \u001b[0;36m<module>\u001b[1;34m\u001b[0m\n\u001b[0;32m      1\u001b[0m \u001b[0mstr1\u001b[0m \u001b[1;33m=\u001b[0m \u001b[1;34m'This is Python class'\u001b[0m\u001b[1;33m\u001b[0m\u001b[1;33m\u001b[0m\u001b[0m\n\u001b[0;32m      2\u001b[0m \u001b[1;33m\u001b[0m\u001b[0m\n\u001b[1;32m----> 3\u001b[1;33m \u001b[0mstr1\u001b[0m\u001b[1;33m[\u001b[0m\u001b[1;36m8\u001b[0m\u001b[1;33m]\u001b[0m \u001b[1;33m=\u001b[0m \u001b[1;34m'Java'\u001b[0m\u001b[1;33m\u001b[0m\u001b[1;33m\u001b[0m\u001b[0m\n\u001b[0m",
      "\u001b[1;31mTypeError\u001b[0m: 'str' object does not support item assignment"
     ]
    }
   ],
   "source": [
    "str1 = 'This is Python class'\n",
    "\n",
    "str1[8] = 'Java'"
   ]
  },
  {
   "cell_type": "markdown",
   "metadata": {},
   "source": [
    "### Comparison and Equality operator"
   ]
  },
  {
   "cell_type": "code",
   "execution_count": 84,
   "metadata": {
    "id": "-JgFbPmn3w3D"
   },
   "outputs": [
    {
     "name": "stdout",
     "output_type": "stream",
     "text": [
      "True\n",
      "True\n",
      "False\n",
      "False\n"
     ]
    }
   ],
   "source": [
    "str1 = 'A'\n",
    "str2 = 'A'\n",
    "#Compare str1 and str2 and print True using comparison operator\n",
    "print(str1 <= str2)\n",
    "\n",
    "#Compare str1 and str2 and print True using equality operator\n",
    "print(str1 == str2)\n",
    "\n",
    "#Compare str1 and str2 and print False using equality operator\n",
    "print(str1 != str2)\n",
    "\n",
    "#Compare str1 and str2 and print False using comparison operator\n",
    "print(str1 < str2)\n"
   ]
  },
  {
   "cell_type": "code",
   "execution_count": 88,
   "metadata": {
    "id": "fJ46_L-53yhW"
   },
   "outputs": [
    {
     "name": "stdout",
     "output_type": "stream",
     "text": [
      "True\n",
      "True\n",
      "False\n",
      "False\n"
     ]
    }
   ],
   "source": [
    "str1 = 'A'\n",
    "str2 = 'a'\n",
    "#Compare str1 and str2 and print True using comparison operator\n",
    "print(str1 < str2)\n",
    "\n",
    "#Compare str1 and str2 and print True using equality operator\n",
    "print(str1 != str2)\n",
    "\n",
    "#Compare str1 and str2 and print False using equality operator\n",
    "print(str1 == str2)\n",
    "\n",
    "#Compare str1 and str2 and print False using comparison operator\n",
    "print(str1 > str2)\n"
   ]
  },
  {
   "cell_type": "code",
   "execution_count": 96,
   "metadata": {
    "id": "e-Lr9va330gi"
   },
   "outputs": [
    {
     "name": "stdout",
     "output_type": "stream",
     "text": [
      "True\n",
      "False\n"
     ]
    }
   ],
   "source": [
    "str1 = 'A'\n",
    "str2 = '65'\n",
    "#Compare str1 and str2 using comparison operator and it should give below error.\n",
    "#Error: TypeError: '>=' not supported between instances of 'str' and 'int'\n",
    "# print(str2 >= ord(str1))\n",
    "\n",
    "#Compare str1 and str2 and print True using equality operator\n",
    "print(ord(str1) == eval(str2))\n",
    "\n",
    "#Compare str1 and str2 and print False using equality operator\n",
    "print(str1 == str2)\n"
   ]
  },
  {
   "cell_type": "code",
   "execution_count": 100,
   "metadata": {
    "id": "JO04jmpN32Im"
   },
   "outputs": [
    {
     "name": "stdout",
     "output_type": "stream",
     "text": [
      "True\n",
      "True\n",
      "False\n",
      "False\n"
     ]
    }
   ],
   "source": [
    "str1 = 'Python'\n",
    "str2 = 'Python'\n",
    "#Compare str1 and str2 and print True using comparison operator\n",
    "print(str1 <= str2)\n",
    "\n",
    "#Compare str1 and str2 and print True using equality operator\n",
    "print(str1 == str2)\n",
    "\n",
    "#Compare str1 and str2 and print False using equality operator\n",
    "print(str1 != str2)\n",
    "\n",
    "#Compare str1 and str2 and print False using comparison operator\n",
    "print(str1 < str2)\n"
   ]
  },
  {
   "cell_type": "code",
   "execution_count": 104,
   "metadata": {
    "id": "nmVAYYC_35ip"
   },
   "outputs": [
    {
     "name": "stdout",
     "output_type": "stream",
     "text": [
      "True\n",
      "True\n",
      "False\n",
      "False\n"
     ]
    }
   ],
   "source": [
    "str1 = 'Python'\n",
    "str2 = 'python'\n",
    "#Compare str1 and str2 and print True using comparison operator\n",
    "print(str1 < str2)\n",
    "\n",
    "#Compare str1 and str2 and print True using equality operator\n",
    "print(str1 != str2)\n",
    "\n",
    "#Compare str1 and str2 and print False using equality operator\n",
    "print(str1 == str2)\n",
    "\n",
    "#Compare str1 and str2 and print False using comparison operator\n",
    "print(str1 > str2)\n"
   ]
  },
  {
   "cell_type": "markdown",
   "metadata": {},
   "source": [
    "### Logical operators on strings"
   ]
  },
  {
   "cell_type": "code",
   "execution_count": 117,
   "metadata": {
    "id": "7ulv5ith37OJ"
   },
   "outputs": [
    {
     "name": "stdout",
     "output_type": "stream",
     "text": [
      "\n",
      "\n",
      "Python\n",
      "False\n",
      "True\n",
      "\n",
      "Python\n"
     ]
    }
   ],
   "source": [
    "a = 'Python'\n",
    "b = ''\n",
    "\n",
    "#Apply logical opereators (and, or & not) on above string values and observe the output.\n",
    "print(a and b)\n",
    "print(b and a)\n",
    "print(a or b)\n",
    "print(not a)\n",
    "print(not b)\n",
    "print((a and b) and (a and b))\n",
    "print((a or b) or (a or b))"
   ]
  },
  {
   "cell_type": "code",
   "execution_count": 114,
   "metadata": {
    "id": "Yg_gsZBL383n"
   },
   "outputs": [
    {
     "name": "stdout",
     "output_type": "stream",
     "text": [
      "\n",
      "\n",
      "True\n",
      "True\n"
     ]
    }
   ],
   "source": [
    "a = ''\n",
    "b = ''\n",
    "\n",
    "#Apply logical opereators (and, or & not) on above string values and observe the output.\n",
    "print(a and b)\n",
    "print(a or b)\n",
    "print(not a)\n",
    "print(not b)"
   ]
  },
  {
   "cell_type": "code",
   "execution_count": 120,
   "metadata": {
    "id": "cIWkP9Hf3-q5"
   },
   "outputs": [
    {
     "name": "stdout",
     "output_type": "stream",
     "text": [
      "learnbay\n",
      "Python\n",
      "Python\n",
      "learnbay\n",
      "False\n",
      "False\n"
     ]
    }
   ],
   "source": [
    "a = 'Python'\n",
    "b = 'learnbay'\n",
    "\n",
    "#Apply logical opereators (and, or & not) on above string values and observe the output.\n",
    "print(a and b)\n",
    "print(b and a)\n",
    "print(a or b)\n",
    "print(b or a)\n",
    "print(not a)\n",
    "print(not b)"
   ]
  },
  {
   "cell_type": "markdown",
   "metadata": {},
   "source": [
    "### find() and index() functions of string"
   ]
  },
  {
   "cell_type": "code",
   "execution_count": 142,
   "metadata": {
    "id": "Y0Ot_E704AX5"
   },
   "outputs": [
    {
     "name": "stdout",
     "output_type": "stream",
     "text": [
      "There are 7 't's in the string - using find()\n",
      "There are 7 't's in the string - using index()\n",
      "There are 7 't's in the string - using count()\n",
      "The index of '8' using find() is : 9\n",
      "The index of '8' using index() is : 9\n",
      "-1\n",
      "11\n",
      "63\n",
      "63\n"
     ]
    }
   ],
   "source": [
    "my_str = \"Although 8 that way may not be obvious at first unless you're Dutch\"\n",
    "\n",
    "#Write the code to get the total count of 't' in above string. Use find() and index() method.\n",
    "\n",
    "# Using find()\n",
    "\n",
    "count_t_find = 0    # Variable to hold the count of number of 't's\n",
    "t_index_find = 0    # Variable to hold the indices of 't'\n",
    "temp = 0    # Temporary variable for comparison\n",
    "\n",
    "for i in my_str:\n",
    "    t_index_find = my_str.find('t',t_index_find + 1,len(my_str))    # Find the indices using from the next instance of previous 't'\n",
    "    \n",
    "    if t_index_find > temp:    # Block to count the number of occurances\n",
    "        count_t_find += 1\n",
    "        temp = t_index_find\n",
    "\n",
    "print(f\"There are {count_t_find} 't's in the string - using find()\")    \n",
    "\n",
    "#Using index()\n",
    "\n",
    "count_t_index = 0    # Variable to hold the count of number of 't's\n",
    "t_index_index = 0    # Variable to hold the indices of 't'\n",
    "temp = 0    # Temporary variable for comparison\n",
    "\n",
    "for i in my_str:\n",
    "    t_index_index = my_str.find('t',t_index_index + 1,len(my_str))    # Find the indices using from the next instance of previous \n",
    "    \n",
    "    if t_index_index > temp:    # Block to count the number of occurances\n",
    "        count_t_index += 1\n",
    "        temp = t_index_index\n",
    "    \n",
    "print(f\"There are {count_t_find} 't's in the string - using index()\")\n",
    "\n",
    "print(f\"There are {my_str.count('t')} 't's in the string - using count()\")\n",
    "\n",
    "#Write the code to get the index of '8' in my_str. Use find() and index() method.\n",
    "print(f\"The index of '8' using find() is : {my_str.find('8')}\")\n",
    "print(f\"The index of '8' using index() is : {my_str.index('8')}\")\n",
    "\n",
    "#What will be the output of below code?\n",
    "print(my_str.find('the'))\n",
    "# Output : -1\n",
    "\n",
    "# print(my_str.index('the'))\n",
    "# Output : Error - Not found\n",
    "\n",
    "print(my_str.find('t', 9, 15))\n",
    "# Output : 11\n",
    "\n",
    "print(my_str.rfind('u'))\n",
    "# Output : 63\n",
    "\n",
    "print(my_str.rindex('u'))\n",
    "# Output : 63\n"
   ]
  },
  {
   "cell_type": "markdown",
   "metadata": {
    "id": "Gommq59Q4CMi"
   },
   "source": [
    "### W A P which applies strip() method if any string, which will be taken from user, starts and ends with space, or applies rrstrip() method if that string only ends with space or applies lstrip() method if that string only starts with a space.\n",
    "\n",
    "#### For example:-\n",
    "#### input:- '     Python   '\n",
    "#### output:- 'Python'\n",
    "\n",
    "#### input:- '    Python'\n",
    "#### output:- 'Python'\n",
    "\n",
    "#### input:- 'Python   '\n",
    "#### output:- 'Python'"
   ]
  },
  {
   "cell_type": "code",
   "execution_count": 149,
   "metadata": {},
   "outputs": [
    {
     "name": "stdout",
     "output_type": "stream",
     "text": [
      "Enter a string to strip :         Python    \n",
      "Stripped string is : Python\n"
     ]
    }
   ],
   "source": [
    "in_str = input(\"Enter a string to strip : \")\n",
    "l_space_count = 0    # Variable to hold the number of spaces from left\n",
    "r_space_count = 0    # Variable to hold the number of spaces from right\n",
    "\n",
    "for i in in_str:    # Loop to count the number of spaces from left\n",
    "    if i == ' ':\n",
    "        l_space_count += 1    # Icrementing the value for all consecutive spaces \n",
    "    else:\n",
    "        break    # Breaking the loop for the first non space character\n",
    "\n",
    "j = len(in_str) - 1\n",
    "\n",
    "while j >= 0:    # Loop to count the number of spaces from right\n",
    "    if in_str[j] == ' ':\n",
    "        r_space_count += 1    # Icrementing the value for all consecutive spaces from right \n",
    "    else:\n",
    "        break    # Breaking the loop for the first non space character\n",
    "    j -= 1\n",
    "\n",
    "print(f\"Stripped string is : {in_str[l_space_count:len(in_str) - r_space_count:]}\")    # Slicing removing the number of spaces\n",
    "        "
   ]
  },
  {
   "cell_type": "markdown",
   "metadata": {},
   "source": [
    "### Case conversion"
   ]
  },
  {
   "cell_type": "code",
   "execution_count": 154,
   "metadata": {
    "id": "9IUy-cpS4Dtt"
   },
   "outputs": [
    {
     "name": "stdout",
     "output_type": "stream",
     "text": [
      "ALTHOUGH 8 THAT WAY MAY NOT BE OBVIOUS AT FIRST UNLESS YOU'RE DUTCH\n",
      "although 8 that way may not be obvious at first unless you're dutch\n",
      "aLTHOUGH 8 THAT WAY MAY NOT BE OBVIOUS AT FIRST UNLESS YOU'RE dUTCH\n"
     ]
    }
   ],
   "source": [
    "my_str = \"Although 8 that way may not be obvious at first unless you're Dutch\"\n",
    "\n",
    "#Write the code to convert all alphabets in my_str into upper case.\n",
    "print(my_str.upper())\n",
    "\n",
    "#Write the code to convert all alphabets in my_str into lower case.\n",
    "print(my_str.lower())\n",
    "\n",
    "#Write the code to swap the cases of all alphabets in my_str.(lower to upper and upper to lower)\n",
    "print(my_str.swapcase())\n"
   ]
  },
  {
   "cell_type": "markdown",
   "metadata": {
    "id": "-BjS-z674HKW"
   },
   "source": [
    "### Write the code which takes one string from user and if it starts with small case letter then convert it to corresponding capital letter otherwise if starts with capital letters then convert first character of every word in that string into capital."
   ]
  },
  {
   "cell_type": "code",
   "execution_count": 79,
   "metadata": {},
   "outputs": [
    {
     "name": "stdout",
     "output_type": "stream",
     "text": [
      "Enter a string : apple bee candy\n",
      "Apple bee candy\n"
     ]
    }
   ],
   "source": [
    "in_str2 = input(\"Enter a string : \")\n",
    "\n",
    "if in_str2[0].islower():    # Checks if the first chracter is in lowercase to change it to upper case\n",
    "    print(in_str2.capitalize())\n",
    "    \n",
    "elif in_str2[0].isupper():    # Checks if the first character is in upper case to change all first characters to upper\n",
    "    print(in_str2.title())"
   ]
  },
  {
   "cell_type": "code",
   "execution_count": 80,
   "metadata": {},
   "outputs": [
    {
     "name": "stdout",
     "output_type": "stream",
     "text": [
      "Enter a string : Apple bee candy\n",
      "Apple Bee Candy\n"
     ]
    }
   ],
   "source": [
    "in_str2 = input(\"Enter a string : \")\n",
    "\n",
    "if in_str2[0].islower():    # Checks if the first chracter is in lowercase to change it to upper case\n",
    "    print(in_str2.capitalize())\n",
    "    \n",
    "elif in_str2[0].isupper():    # Checks if the first character is in upper case to change all first characters to upper\n",
    "    print(in_str2.title())"
   ]
  },
  {
   "cell_type": "markdown",
   "metadata": {
    "id": "-MCuDy5J4JQS"
   },
   "source": [
    "### Take a string from user and check if it is:-\n",
    "####     1. alphanumeric\n",
    "####     2. alphabets\n",
    "####     3. digit\n",
    "####     4. all letters are in lower case\n",
    "####     5. all letters are in upper case\n",
    "####     6. in title case\n",
    "####     7. a space character\n",
    "####     8. numeric\n",
    "####     9. all number elements in string are decimal"
   ]
  },
  {
   "cell_type": "code",
   "execution_count": 173,
   "metadata": {},
   "outputs": [
    {
     "name": "stdout",
     "output_type": "stream",
     "text": [
      "Enter a string : Pass Word 123\n",
      "Entered string is alphanumeric : False\n",
      "Entered string is alphabets : False\n",
      "Entered string is digits : False\n",
      "Entered string has all letters as lower case : False\n",
      "Entered string has all letters as upper case : False\n",
      "Entered string is in title case : True\n",
      "Entered string has spaces : True\n",
      "Entered string is numeric : False\n",
      "All number elements of the entered string is decimal : False\n"
     ]
    }
   ],
   "source": [
    "in_str3 = input(\"Enter a string : \")\n",
    "\n",
    "print(f\"Entered string is alphanumeric : {in_str3.isalnum()}\")\n",
    "print(f\"Entered string is alphabets : {in_str3.isalpha()}\")\n",
    "print(f\"Entered string is digits : {in_str3.isdigit()}\")\n",
    "print(f\"Entered string has all letters as lower case : {in_str3.islower()}\")\n",
    "print(f\"Entered string has all letters as upper case : {in_str3.isupper()}\")\n",
    "print(f\"Entered string is in title case : {in_str3.istitle()}\")\n",
    "print(f\"Entered string has spaces : {' ' in in_str3}\")\n",
    "print(f\"Entered string is numeric : {in_str3.isnumeric()}\")\n",
    "print(f\"All number elements of the entered string is decimal : {in_str3.isdecimal()}\")"
   ]
  },
  {
   "cell_type": "markdown",
   "metadata": {
    "id": "tiTN-4ik4KAG"
   },
   "source": [
    "### W A P which takes a string as an input and prints True if the string is valid identifier else returns False.\n",
    "#### Sample Input:- 'abc', 'abc1', 'ab1c', '1abc', 'abc$', '_abc', 'if'"
   ]
  },
  {
   "cell_type": "code",
   "execution_count": 81,
   "metadata": {},
   "outputs": [
    {
     "name": "stdout",
     "output_type": "stream",
     "text": [
      "Enter a string to check : abc\n",
      "The entered string is a valid identifier.\n"
     ]
    }
   ],
   "source": [
    "# Rules of an identifier\n",
    "# 1. Shaould start with a character only\n",
    "# 2. Can contain alphabets, numbers and underscore in between\n",
    "# 3. Should not contain any special characters\n",
    "# 4. Should not be a keyword\n",
    "# 5. No spaces allowed\n",
    "\n",
    "from keyword import iskeyword    # Importing function to check if the entered string is keyword\n",
    "\n",
    "in_str4 = input(\"Enter a string to check : \")\n",
    "\n",
    "#Checking if the first character is an alphabet and the entered string is not keyword if false exit and print invalid\n",
    "if in_str4[0].isalpha() and iskeyword(in_str4) == False:\n",
    "    \n",
    "    for i in in_str4: \n",
    "        \n",
    "        if i.isalnum() == False:    # Checking if there are any special characters or space\n",
    "            if i == '_':    # Only special character allowed is underscore\n",
    "                continue\n",
    "                \n",
    "            print(\"The entered string is an invalid identifier.\")\n",
    "            is_iden = False    # Setting the flag as false\n",
    "            break\n",
    "        \n",
    "        else:\n",
    "            is_iden = True   # If all the above condtions meet setting the flag to True\n",
    "            \n",
    "    if is_iden:    # If flag is True then it is valid\n",
    "            print(\"The entered string is a valid identifier.\")\n",
    "else:\n",
    "    print(\"The entered string is an invalid identifier.\")"
   ]
  },
  {
   "cell_type": "code",
   "execution_count": 82,
   "metadata": {},
   "outputs": [
    {
     "name": "stdout",
     "output_type": "stream",
     "text": [
      "Enter a string to check : abc1\n",
      "The entered string is a valid identifier.\n"
     ]
    }
   ],
   "source": [
    "# Rules of an identifier\n",
    "# 1. Shaould start with a character only\n",
    "# 2. Can contain alphabets, numbers and underscore in between\n",
    "# 3. Should not contain any special characters\n",
    "# 4. Should not be a keyword\n",
    "# 5. No spaces allowed\n",
    "\n",
    "from keyword import iskeyword    # Importing function to check if the entered string is keyword\n",
    "\n",
    "in_str4 = input(\"Enter a string to check : \")\n",
    "\n",
    "#Checking if the first character is an alphabet and the entered string is not keyword if false exit and print invalid\n",
    "if in_str4[0].isalpha() and iskeyword(in_str4) == False:\n",
    "    \n",
    "    for i in in_str4: \n",
    "        \n",
    "        if i.isalnum() == False:    # Checking if there are any special characters or space\n",
    "            if i == '_':    # Only special character allowed is underscore\n",
    "                continue\n",
    "                \n",
    "            print(\"The entered string is an invalid identifier.\")\n",
    "            is_iden = False    # Setting the flag as false\n",
    "            break\n",
    "        \n",
    "        else:\n",
    "            is_iden = True   # If all the above condtions meet setting the flag to True\n",
    "            \n",
    "    if is_iden:    # If flag is True then it is valid\n",
    "            print(\"The entered string is a valid identifier.\")\n",
    "else:\n",
    "    print(\"The entered string is an invalid identifier.\")"
   ]
  },
  {
   "cell_type": "code",
   "execution_count": 83,
   "metadata": {},
   "outputs": [
    {
     "name": "stdout",
     "output_type": "stream",
     "text": [
      "Enter a string to check : ab1c\n",
      "The entered string is a valid identifier.\n"
     ]
    }
   ],
   "source": [
    "# Rules of an identifier\n",
    "# 1. Shaould start with a character only\n",
    "# 2. Can contain alphabets, numbers and underscore in between\n",
    "# 3. Should not contain any special characters\n",
    "# 4. Should not be a keyword\n",
    "# 5. No spaces allowed\n",
    "\n",
    "from keyword import iskeyword    # Importing function to check if the entered string is keyword\n",
    "\n",
    "in_str4 = input(\"Enter a string to check : \")\n",
    "\n",
    "#Checking if the first character is an alphabet and the entered string is not keyword if false exit and print invalid\n",
    "if in_str4[0].isalpha() and iskeyword(in_str4) == False:\n",
    "    \n",
    "    for i in in_str4: \n",
    "        \n",
    "        if i.isalnum() == False:    # Checking if there are any special characters or space\n",
    "            if i == '_':    # Only special character allowed is underscore\n",
    "                continue\n",
    "                \n",
    "            print(\"The entered string is an invalid identifier.\")\n",
    "            is_iden = False    # Setting the flag as false\n",
    "            break\n",
    "        \n",
    "        else:\n",
    "            is_iden = True   # If all the above condtions meet setting the flag to True\n",
    "            \n",
    "    if is_iden:    # If flag is True then it is valid\n",
    "            print(\"The entered string is a valid identifier.\")\n",
    "else:\n",
    "    print(\"The entered string is an invalid identifier.\")"
   ]
  },
  {
   "cell_type": "code",
   "execution_count": 85,
   "metadata": {},
   "outputs": [
    {
     "name": "stdout",
     "output_type": "stream",
     "text": [
      "Enter a string to check : 1abc\n",
      "The entered string is an invalid identifier.\n"
     ]
    }
   ],
   "source": [
    "# Rules of an identifier\n",
    "# 1. Shaould start with a character only\n",
    "# 2. Can contain alphabets, numbers and underscore in between\n",
    "# 3. Should not contain any special characters\n",
    "# 4. Should not be a keyword\n",
    "# 5. No spaces allowed\n",
    "\n",
    "from keyword import iskeyword    # Importing function to check if the entered string is keyword\n",
    "\n",
    "in_str4 = input(\"Enter a string to check : \")\n",
    "\n",
    "#Checking if the first character is an alphabet and the entered string is not keyword if false exit and print invalid\n",
    "if in_str4[0].isalpha() and iskeyword(in_str4) == False:\n",
    "    \n",
    "    for i in in_str4: \n",
    "        \n",
    "        if i.isalnum() == False:    # Checking if there are any special characters or space\n",
    "            if i == '_':    # Only special character allowed is underscore\n",
    "                continue\n",
    "                \n",
    "            print(\"The entered string is an invalid identifier.\")\n",
    "            is_iden = False    # Setting the flag as false\n",
    "            break\n",
    "        \n",
    "        else:\n",
    "            is_iden = True   # If all the above condtions meet setting the flag to True\n",
    "            \n",
    "    if is_iden:    # If flag is True then it is valid\n",
    "            print(\"The entered string is a valid identifier.\")\n",
    "else:\n",
    "    print(\"The entered string is an invalid identifier.\")"
   ]
  },
  {
   "cell_type": "code",
   "execution_count": 86,
   "metadata": {},
   "outputs": [
    {
     "name": "stdout",
     "output_type": "stream",
     "text": [
      "Enter a string to check : abc$\n",
      "The entered string is an invalid identifier.\n"
     ]
    }
   ],
   "source": [
    "# Rules of an identifier\n",
    "# 1. Shaould start with a character only\n",
    "# 2. Can contain alphabets, numbers and underscore in between\n",
    "# 3. Should not contain any special characters\n",
    "# 4. Should not be a keyword\n",
    "# 5. No spaces allowed\n",
    "\n",
    "from keyword import iskeyword    # Importing function to check if the entered string is keyword\n",
    "\n",
    "in_str4 = input(\"Enter a string to check : \")\n",
    "\n",
    "#Checking if the first character is an alphabet and the entered string is not keyword if false exit and print invalid\n",
    "if in_str4[0].isalpha() and iskeyword(in_str4) == False:\n",
    "    \n",
    "    for i in in_str4: \n",
    "        \n",
    "        if i.isalnum() == False:    # Checking if there are any special characters or space\n",
    "            if i == '_':    # Only special character allowed is underscore\n",
    "                continue\n",
    "                \n",
    "            print(\"The entered string is an invalid identifier.\")\n",
    "            is_iden = False    # Setting the flag as false\n",
    "            break\n",
    "        \n",
    "        else:\n",
    "            is_iden = True   # If all the above condtions meet setting the flag to True\n",
    "            \n",
    "    if is_iden:    # If flag is True then it is valid\n",
    "            print(\"The entered string is a valid identifier.\")\n",
    "else:\n",
    "    print(\"The entered string is an invalid identifier.\")"
   ]
  },
  {
   "cell_type": "code",
   "execution_count": 87,
   "metadata": {},
   "outputs": [
    {
     "name": "stdout",
     "output_type": "stream",
     "text": [
      "Enter a string to check : _abc\n",
      "The entered string is an invalid identifier.\n"
     ]
    }
   ],
   "source": [
    "# Rules of an identifier\n",
    "# 1. Shaould start with a character only\n",
    "# 2. Can contain alphabets, numbers and underscore in between\n",
    "# 3. Should not contain any special characters\n",
    "# 4. Should not be a keyword\n",
    "# 5. No spaces allowed\n",
    "\n",
    "from keyword import iskeyword    # Importing function to check if the entered string is keyword\n",
    "\n",
    "in_str4 = input(\"Enter a string to check : \")\n",
    "\n",
    "#Checking if the first character is an alphabet and the entered string is not keyword if false exit and print invalid\n",
    "if in_str4[0].isalpha() and iskeyword(in_str4) == False:\n",
    "    \n",
    "    for i in in_str4: \n",
    "        \n",
    "        if i.isalnum() == False:    # Checking if there are any special characters or space\n",
    "            if i == '_':    # Only special character allowed is underscore\n",
    "                continue\n",
    "                \n",
    "            print(\"The entered string is an invalid identifier.\")\n",
    "            is_iden = False    # Setting the flag as false\n",
    "            break\n",
    "        \n",
    "        else:\n",
    "            is_iden = True   # If all the above condtions meet setting the flag to True\n",
    "            \n",
    "    if is_iden:    # If flag is True then it is valid\n",
    "            print(\"The entered string is a valid identifier.\")\n",
    "else:\n",
    "    print(\"The entered string is an invalid identifier.\")"
   ]
  },
  {
   "cell_type": "code",
   "execution_count": 88,
   "metadata": {},
   "outputs": [
    {
     "name": "stdout",
     "output_type": "stream",
     "text": [
      "Enter a string to check : if\n",
      "The entered string is an invalid identifier.\n"
     ]
    }
   ],
   "source": [
    "# Rules of an identifier\n",
    "# 1. Shaould start with a character only\n",
    "# 2. Can contain alphabets, numbers and underscore in between\n",
    "# 3. Should not contain any special characters\n",
    "# 4. Should not be a keyword\n",
    "# 5. No spaces allowed\n",
    "\n",
    "from keyword import iskeyword    # Importing function to check if the entered string is keyword\n",
    "\n",
    "in_str4 = input(\"Enter a string to check : \")\n",
    "\n",
    "#Checking if the first character is an alphabet and the entered string is not keyword if false exit and print invalid\n",
    "if in_str4[0].isalpha() and iskeyword(in_str4) == False:\n",
    "    \n",
    "    for i in in_str4: \n",
    "        \n",
    "        if i.isalnum() == False:    # Checking if there are any special characters or space\n",
    "            if i == '_':    # Only special character allowed is underscore\n",
    "                continue\n",
    "                \n",
    "            print(\"The entered string is an invalid identifier.\")\n",
    "            is_iden = False    # Setting the flag as false\n",
    "            break\n",
    "        \n",
    "        else:\n",
    "            is_iden = True   # If all the above condtions meet setting the flag to True\n",
    "            \n",
    "    if is_iden:    # If flag is True then it is valid\n",
    "            print(\"The entered string is a valid identifier.\")\n",
    "else:\n",
    "    print(\"The entered string is an invalid identifier.\")"
   ]
  },
  {
   "cell_type": "code",
   "execution_count": 89,
   "metadata": {},
   "outputs": [
    {
     "name": "stdout",
     "output_type": "stream",
     "text": [
      "Enter a string to check : ab_c\n",
      "The entered string is a valid identifier.\n"
     ]
    }
   ],
   "source": [
    "# Rules of an identifier\n",
    "# 1. Shaould start with a character only\n",
    "# 2. Can contain alphabets, numbers and underscore in between\n",
    "# 3. Should not contain any special characters\n",
    "# 4. Should not be a keyword\n",
    "# 5. No spaces allowed\n",
    "\n",
    "from keyword import iskeyword    # Importing function to check if the entered string is keyword\n",
    "\n",
    "in_str4 = input(\"Enter a string to check : \")\n",
    "\n",
    "#Checking if the first character is an alphabet and the entered string is not keyword if false exit and print invalid\n",
    "if in_str4[0].isalpha() and iskeyword(in_str4) == False:\n",
    "    \n",
    "    for i in in_str4: \n",
    "        \n",
    "        if i.isalnum() == False:    # Checking if there are any special characters or space\n",
    "            if i == '_':    # Only special character allowed is underscore\n",
    "                continue\n",
    "                \n",
    "            print(\"The entered string is an invalid identifier.\")\n",
    "            is_iden = False    # Setting the flag as false\n",
    "            break\n",
    "        \n",
    "        else:\n",
    "            is_iden = True   # If all the above condtions meet setting the flag to True\n",
    "            \n",
    "    if is_iden:    # If flag is True then it is valid\n",
    "            print(\"The entered string is a valid identifier.\")\n",
    "else:\n",
    "    print(\"The entered string is an invalid identifier.\")"
   ]
  },
  {
   "cell_type": "markdown",
   "metadata": {},
   "source": [
    "### What will be output of below code?"
   ]
  },
  {
   "cell_type": "code",
   "execution_count": 76,
   "metadata": {
    "id": "tAMkSIN84MPe"
   },
   "outputs": [
    {
     "name": "stdout",
     "output_type": "stream",
     "text": [
      "Help on method_descriptor:\n",
      "\n",
      "isprintable(self, /)\n",
      "    Return True if the string is printable, False otherwise.\n",
      "    \n",
      "    A string is printable if all of its characters are considered printable in\n",
      "    repr() or if it is empty.\n",
      "\n",
      "Help on built-in function repr in module builtins:\n",
      "\n",
      "repr(obj, /)\n",
      "    Return the canonical string representation of the object.\n",
      "    \n",
      "    For many object types, including most builtins, eval(repr(obj)) == obj.\n",
      "\n",
      "True\n",
      "False\n",
      "False\n",
      "True\n"
     ]
    }
   ],
   "source": [
    "help(str.isprintable)\n",
    "help(repr)\n",
    "\n",
    "s = chr(65) + chr(97)\n",
    "print(s.isprintable()) # True\n",
    "\n",
    "s = chr(27) + chr(97)\n",
    "print(s.isprintable()) # False\n",
    "\n",
    "s = '\\n'\n",
    "print(s.isprintable()) # False\n",
    "\n",
    "s = ''\n",
    "print(s.isprintable()) # True"
   ]
  },
  {
   "cell_type": "markdown",
   "metadata": {},
   "source": [
    "### What will be output of below code?"
   ]
  },
  {
   "cell_type": "code",
   "execution_count": 78,
   "metadata": {
    "id": "pU9Os0mD4Pk1"
   },
   "outputs": [
    {
     "name": "stdout",
     "output_type": "stream",
     "text": [
      "Help on method_descriptor:\n",
      "\n",
      "isascii(self, /)\n",
      "    Return True if all characters in the string are ASCII, False otherwise.\n",
      "    \n",
      "    ASCII characters have code points in the range U+0000-U+007F.\n",
      "    Empty string is ASCII too.\n",
      "\n",
      "True\n",
      "True\n",
      "True\n",
      "True\n",
      "False\n",
      "False\n"
     ]
    }
   ],
   "source": [
    "help(str.isascii)\n",
    "\n",
    "my_string = '  '\n",
    "print(my_string.isascii()) # True\n",
    "\n",
    "my_string = 'Studytonight'\n",
    "print(my_string.isascii()) # True\n",
    "\n",
    "my_string = 'Study tonight'\n",
    "print(my_string.isascii()) # True\n",
    "\n",
    "my_string = 'Studytonight@123'\n",
    "print(my_string.isascii()) # True\n",
    "\n",
    "my_string = '°'\n",
    "print(my_string.isascii()) # False\n",
    "\n",
    "my_string = 'ö'\n",
    "print(my_string.isascii()) # False"
   ]
  },
  {
   "cell_type": "markdown",
   "metadata": {},
   "source": [
    "### What will be the output of below code?"
   ]
  },
  {
   "cell_type": "code",
   "execution_count": 90,
   "metadata": {},
   "outputs": [
    {
     "name": "stdout",
     "output_type": "stream",
     "text": [
      "Help on method_descriptor:\n",
      "\n",
      "casefold(self, /)\n",
      "    Return a version of the string suitable for caseless comparisons.\n",
      "\n"
     ]
    }
   ],
   "source": [
    "help(str.casefold)"
   ]
  },
  {
   "cell_type": "code",
   "execution_count": 91,
   "metadata": {
    "id": "VsLV8FF74QTB"
   },
   "outputs": [
    {
     "name": "stdout",
     "output_type": "stream",
     "text": [
      "The strings are equal.\n"
     ]
    }
   ],
   "source": [
    "firstString = \"der Fluß\"\n",
    "secondString = \"der Fluss\"\n",
    "\n",
    "if firstString.casefold() == secondString.casefold():\n",
    "    print('The strings are equal.')\n",
    "else:\n",
    "    print('The strings are not equal.')\n",
    "    \n",
    "# The strings are equal"
   ]
  },
  {
   "cell_type": "markdown",
   "metadata": {
    "id": "1m0U7jLa4Wjf"
   },
   "source": [
    "### Write the code to get below output\n",
    "#### O/P 1:- python** (using ljust method)"
   ]
  },
  {
   "cell_type": "code",
   "execution_count": 101,
   "metadata": {},
   "outputs": [
    {
     "name": "stdout",
     "output_type": "stream",
     "text": [
      "Using ljust method : python**\n"
     ]
    }
   ],
   "source": [
    "my_string2 = 'python'\n",
    "\n",
    "print(f\"Using ljust method : {my_string2.ljust(len(my_string2) + 2, '*')}\")"
   ]
  },
  {
   "cell_type": "markdown",
   "metadata": {},
   "source": [
    "### Write the code to get below output\n",
    "#### O/P 1:- **python (using rjust method)"
   ]
  },
  {
   "cell_type": "code",
   "execution_count": 104,
   "metadata": {},
   "outputs": [
    {
     "name": "stdout",
     "output_type": "stream",
     "text": [
      "Using rjust method : **python\n"
     ]
    }
   ],
   "source": [
    "print(f\"Using rjust method : {my_string2.rjust(len(my_string2) + 2, '*')}\")"
   ]
  },
  {
   "cell_type": "markdown",
   "metadata": {},
   "source": [
    "### Write the code to get below output\n",
    "#### O/P 1:-  **python** (using rjust method)"
   ]
  },
  {
   "cell_type": "code",
   "execution_count": 107,
   "metadata": {},
   "outputs": [
    {
     "name": "stdout",
     "output_type": "stream",
     "text": [
      "Using rjust method : **python**\n",
      "Using center method : **python**\n"
     ]
    }
   ],
   "source": [
    "# O/P 1:-  **python** (using rjust method)\n",
    "\n",
    "print(f\"Using rjust method : {my_string2.rjust(len(my_string2) + 2, '*')}**\")\n",
    "print(f\"Using center method : {my_string2.center(len(my_string2) + 4, '*')}\")"
   ]
  },
  {
   "cell_type": "markdown",
   "metadata": {
    "id": "cRVkvW6s4YKK"
   },
   "source": [
    "### Write a Python program to find the length of the my_str:-\n",
    "\n",
    "#### Input:- 'Write a Python program to find the length of the my_str'\n",
    "#### Output:- 55"
   ]
  },
  {
   "cell_type": "code",
   "execution_count": 108,
   "metadata": {},
   "outputs": [
    {
     "name": "stdout",
     "output_type": "stream",
     "text": [
      "Lenght of my_str is : 55\n"
     ]
    }
   ],
   "source": [
    "my_str = 'Write a Python program to find the length of the my_str'\n",
    "\n",
    "print(f\"Lenght of my_str is : {len(my_str)}\")"
   ]
  },
  {
   "cell_type": "markdown",
   "metadata": {
    "id": "SjABWI284Zuz"
   },
   "source": [
    "### Write a Python program to find the total number of times letter 'p' is appeared in the below string:-\n",
    "    \n",
    "#### Input:- 'peter piper picked a peck of pickled peppers.'\n",
    "#### Output:- 9"
   ]
  },
  {
   "cell_type": "code",
   "execution_count": 110,
   "metadata": {},
   "outputs": [
    {
     "name": "stdout",
     "output_type": "stream",
     "text": [
      "The letter has appeared : 9 times\n"
     ]
    }
   ],
   "source": [
    "my_str2 = 'peter piper picked a peck of pickled peppers.'\n",
    "\n",
    "print(f\"The letter has appeared : {my_str2.count('p')} times\")"
   ]
  },
  {
   "cell_type": "markdown",
   "metadata": {
    "id": "-iZtqbEo4bQp"
   },
   "source": [
    "### Write a Python Program, to print all the indexes of all occurences of letter 'p' appeared in the string:-\n",
    "    \n",
    "#### Input:- 'peter piper picked a peck of pickled peppers.'\n",
    "#### Output:- \n",
    "0\n",
    "6\n",
    "8\n",
    "12\n",
    "21\n",
    "29\n",
    "37\n",
    "39\n",
    "40"
   ]
  },
  {
   "cell_type": "code",
   "execution_count": 119,
   "metadata": {},
   "outputs": [
    {
     "name": "stdout",
     "output_type": "stream",
     "text": [
      "Using find() method\n",
      "0\n",
      "6\n",
      "8\n",
      "12\n",
      "21\n",
      "29\n",
      "37\n",
      "39\n",
      "40\n",
      "\n",
      "Using find() and slicing\n",
      "0\n",
      "6\n",
      "8\n",
      "12\n",
      "21\n",
      "29\n",
      "37\n",
      "39\n",
      "40\n"
     ]
    }
   ],
   "source": [
    "#Using find()\n",
    "start_pos = 0    # Setting the start position to find the string a 0 to start finding from first character\n",
    "end_pos = len(my_str2)    # Searching till the last character\n",
    "\n",
    "print(\"Using find() method\")\n",
    "\n",
    "while start_pos < end_pos:    # While loop to find till the end of string\n",
    "    pos_p = my_str2.find('p', start_pos, end_pos)    # Find position of 'p' from the previous find\n",
    "    if pos_p == -1:    # Getting out of the loop is reached end\n",
    "        break\n",
    "    print(pos_p)    # Printing output\n",
    "    start_pos = pos_p + 1    # Changing the start postion to start searching from the previous occurance of 'p'\n",
    "    \n",
    "# Using find() and slicing\n",
    "\n",
    "strlen2 = 0    # Variable for looping\n",
    "\n",
    "strindex2 = my_str2.find('p')    # Storing the first index of 'p' in a variable\n",
    "print(f\"\\nUsing find() and slicing\\n{strindex2}\")\n",
    "new_str = my_str2\n",
    "\n",
    "while strlen2 <= len(new_str):    # Looping over the sliced string\n",
    "    new_str = my_str2[strindex2+1:]    # Slicing the string from the alphabet after 'p'\n",
    "    strindex2 = strindex2+1+new_str.find('p')    # Since we are strating the new string from the alphabet after previous index\n",
    "    print(strindex2)\n",
    "    strlen2 += 1"
   ]
  },
  {
   "cell_type": "markdown",
   "metadata": {
    "id": "_A8Eu8f84daM"
   },
   "source": [
    "### Write a python program to find below output:-\n",
    "\n",
    "#### Input:- 'peter piper picked a peck of pickled peppers.'\n",
    "#### Output:- ['peter', 'piper', 'picked', 'a', 'peck', 'of', 'pickled', 'peppers.']"
   ]
  },
  {
   "cell_type": "code",
   "execution_count": 123,
   "metadata": {},
   "outputs": [
    {
     "name": "stdout",
     "output_type": "stream",
     "text": [
      "['peter', 'piper', 'picked', 'a', 'peck', 'of', 'pickled', 'peppers.']\n"
     ]
    }
   ],
   "source": [
    "print(my_str2.split())    # Using split method"
   ]
  },
  {
   "cell_type": "markdown",
   "metadata": {
    "id": "juh7tQuL4fNc"
   },
   "source": [
    "### Write a python program to find below output:-\n",
    "\n",
    "#### Input:- 'peter piper picked a peck of pickled peppers.'\n",
    "#### Output:- 'peppers. pickled of peck a picked piper peter'"
   ]
  },
  {
   "cell_type": "code",
   "execution_count": 147,
   "metadata": {},
   "outputs": [
    {
     "name": "stdout",
     "output_type": "stream",
     "text": [
      "peppers. pickled of peck a picked piper peter\n"
     ]
    }
   ],
   "source": [
    "my_str2_list = my_str2.split()    # Coverting the string into list\n",
    "my_str2_list.reverse()    # Reversing the elements of the list\n",
    "print(' '.join([str(i) for i in my_str2_list]))    # Printing the reversed list as string"
   ]
  },
  {
   "cell_type": "markdown",
   "metadata": {
    "id": "aaHQYz194fW7"
   },
   "source": [
    "### Write a python program to find below output:-\n",
    "\n",
    "#### Input:- 'peter piper picked a peck of pickled peppers.'\n",
    "#### Output:- '.sreppep delkcip fo kcep a dekcip repip retep'"
   ]
  },
  {
   "cell_type": "code",
   "execution_count": 124,
   "metadata": {},
   "outputs": [
    {
     "name": "stdout",
     "output_type": "stream",
     "text": [
      ".sreppep delkcip fo kcep a dekcip repip retep\n"
     ]
    }
   ],
   "source": [
    "print(my_str2[::-1])    # Printing the reverse of string using slicing"
   ]
  },
  {
   "cell_type": "markdown",
   "metadata": {
    "id": "LSgj9glC4feI"
   },
   "source": [
    "### Write a python program to find below output:-\n",
    "\n",
    "#### Input:- 'peter piper picked a peck of pickled peppers.'\n",
    "#### Output:- 'retep repip dekcip a kcep fo delkcip .sreppep'"
   ]
  },
  {
   "cell_type": "code",
   "execution_count": 149,
   "metadata": {},
   "outputs": [
    {
     "name": "stdout",
     "output_type": "stream",
     "text": [
      "retep repip dekcip a kcep fo delkcip .sreppep\n"
     ]
    }
   ],
   "source": [
    "my_str2_list = my_str2.split()    # Coverting the string into list\n",
    "print(' '.join([str(i)[::-1] for i in my_str2_list]))    # Printing the reversed list elements  as string"
   ]
  },
  {
   "cell_type": "markdown",
   "metadata": {
    "id": "WUxPAkY94foo"
   },
   "source": [
    "### Write a python program to find below output:-\n",
    "\n",
    "#### Input:- 'peter piper picked a peck of pickled peppers.'\n",
    "#### Output:- 'Peter Piper Picked A Peck Of Pickled Peppers.'"
   ]
  },
  {
   "cell_type": "code",
   "execution_count": 150,
   "metadata": {},
   "outputs": [
    {
     "name": "stdout",
     "output_type": "stream",
     "text": [
      "Peter Piper Picked A Peck Of Pickled Peppers.\n"
     ]
    }
   ],
   "source": [
    "print(my_str2.title())    # Using the title method"
   ]
  },
  {
   "cell_type": "markdown",
   "metadata": {
    "id": "IT1NSPxA4mww"
   },
   "source": [
    "### Write a python program to find below output:-\n",
    "\n",
    "#### Input:- 'Peter Piper Picked A Peck Of Pickled Peppers.'\n",
    "#### Output:- 'Peter piper picked a peck of pickled peppers.'"
   ]
  },
  {
   "cell_type": "code",
   "execution_count": 152,
   "metadata": {},
   "outputs": [
    {
     "name": "stdout",
     "output_type": "stream",
     "text": [
      "Peter piper picked a peck of pickled peppers.\n"
     ]
    }
   ],
   "source": [
    "print(my_str2.capitalize())    # Using the capitalize method to capitalise the first letter"
   ]
  },
  {
   "cell_type": "markdown",
   "metadata": {
    "id": "3Gg65vSc4m3C"
   },
   "source": [
    "### Write a python program to implement index method. If sub_str is found in my_str then it will print the index of first occurrence of first character of matching string in my_str:-\n",
    "\n",
    "### Input:- my_str = 'Peter Piper Picked A Peck Of Pickled Peppers.', sub_str = 'Pickl'\n",
    "#### Output:- 29"
   ]
  },
  {
   "cell_type": "code",
   "execution_count": 161,
   "metadata": {},
   "outputs": [
    {
     "name": "stdout",
     "output_type": "stream",
     "text": [
      "Enter a string to search : Pickl\n",
      "Entered string found at index : 29\n"
     ]
    }
   ],
   "source": [
    "my_str3 = 'Peter Piper Picked A Peck Of Pickled Peppers.'\n",
    "sub_str = input(\"Enter a string to search : \")\n",
    "len_sub = len(sub_str)\n",
    "\n",
    "if len_sub < 2:    # CHeking if the search input is too short\n",
    "    print(\"Sub string too short.\")\n",
    "    \n",
    "elif len_sub >= 2 or len_sub < len(my_str3):\n",
    "    \n",
    "    if sub_str in my_str3:    # Checking if the entered sub string is in the string\n",
    "        print(f\"Entered string found at index : {my_str3.index(sub_str)}\")   # Finding the index using index method\n",
    "\n",
    "    else:\n",
    "        print(\"Entered string not found\")\n",
    "        \n",
    "else:    # If the search input is too long\n",
    "    print(\"Invalid input\")"
   ]
  },
  {
   "cell_type": "markdown",
   "metadata": {
    "id": "iFRhp_JI4m6k"
   },
   "source": [
    "### Write a python program to implement replace method. If sub_str is found in my_str then it will replace the first occurrence of sub_str with new_str else it will will print sub_str not found:-\n",
    "\n",
    "#### Input:- my_str = 'Peter Piper Picked A Peck Of Pickled Peppers.', sub_str = 'Peck', new_str = 'Pack'\n",
    "#### Output:- 'Peter Piper Picked A Pack Of Pickled Peppers.'"
   ]
  },
  {
   "cell_type": "code",
   "execution_count": 162,
   "metadata": {},
   "outputs": [
    {
     "name": "stdout",
     "output_type": "stream",
     "text": [
      "Enter a string to find : Peck\n",
      "Enter a string to replace : Pack\n",
      "New string : Peter Piper Picked A Pack Of Pickled Peppers.\n"
     ]
    }
   ],
   "source": [
    "my_str3 = 'Peter Piper Picked A Peck Of Pickled Peppers.'\n",
    "sub_str2 = input(\"Enter a string to find : \")\n",
    "sub_str3 = input(\"Enter a string to replace : \")\n",
    "len_sub2 = len(sub_str2)\n",
    "\n",
    "if len_sub2 < 2:    # Cheking if the search input is too short\n",
    "    print(\"Sub string too short.\")\n",
    "    \n",
    "elif len_sub2 >= 2 or len_sub < len(my_str3):\n",
    "\n",
    "    if sub_str2 in my_str3:    # Checking if the entered sub string is in the string\n",
    "        print(f\"New string : {my_str3.replace(sub_str2, sub_str3)}\")    # Using the replace method\n",
    "    \n",
    "    else:\n",
    "        print(\"Entered string not found\")\n",
    "        \n",
    "else:    # If the search input is too long\n",
    "    print(\"Invalid input\")"
   ]
  },
  {
   "cell_type": "markdown",
   "metadata": {
    "id": "dQ9YhBBc4m9V"
   },
   "source": [
    "### Write a python program to find below output (implements rjust and ljust):-\n",
    "\n",
    "#### Input:- 'Peter Piper Picked A Peck Of Pickled Peppers.', sub_str = 'Peck', \n",
    "#### Output:- '*********************Peck********************'"
   ]
  },
  {
   "cell_type": "code",
   "execution_count": 166,
   "metadata": {
    "id": "W64gCpeu4vaF"
   },
   "outputs": [
    {
     "name": "stdout",
     "output_type": "stream",
     "text": [
      "Enter a string to justify : Peck\n",
      "Output : *********************Peck********************\n"
     ]
    }
   ],
   "source": [
    "my_str3 = 'Peter Piper Picked A Peck Of Pickled Peppers.'\n",
    "sub_str2 = input(\"Enter a string to justify : \")\n",
    "len_sub2 = len(sub_str2)\n",
    "\n",
    "if len_sub2 < 2:    # Prompting to enter string atleast 2 characters long\n",
    "    print(\"Sub-string too short (enter atleast 2 aphabets)\")\n",
    "\n",
    "elif len_sub2 >=2 and len_sub2 <= len(my_str3):    # Checking if the entered string is more than 2 and less than total lenght of actual string\n",
    "    if sub_str2 in my_str3:\n",
    "        out_string = sub_str2.ljust(len(my_str3) - my_str3.find(sub_str2),'*')    # Implementing ljust\n",
    "        out_string = out_string.rjust(len(my_str3),'*')    # Implementing rjust\n",
    "        print(f\"Output : {out_string}\")\n",
    "        \n",
    "    else:    # If the string is not found\n",
    "        print(\"Entered string not found\")\n",
    "\n",
    "else:    # If the search input is too long\n",
    "    print(\"Invalid input\")"
   ]
  }
 ],
 "metadata": {
  "colab": {
   "collapsed_sections": [],
   "name": "String_Assignment.ipynb",
   "provenance": []
  },
  "kernelspec": {
   "display_name": "Python 3",
   "language": "python",
   "name": "python3"
  },
  "language_info": {
   "codemirror_mode": {
    "name": "ipython",
    "version": 3
   },
   "file_extension": ".py",
   "mimetype": "text/x-python",
   "name": "python",
   "nbconvert_exporter": "python",
   "pygments_lexer": "ipython3",
   "version": "3.8.3"
  },
  "latex_envs": {
   "LaTeX_envs_menu_present": true,
   "autoclose": false,
   "autocomplete": true,
   "bibliofile": "biblio.bib",
   "cite_by": "apalike",
   "current_citInitial": 1,
   "eqLabelWithNumbers": true,
   "eqNumInitial": 1,
   "hotkeys": {
    "equation": "Ctrl-E",
    "itemize": "Ctrl-I"
   },
   "labels_anchors": false,
   "latex_user_defs": false,
   "report_style_numbering": false,
   "user_envs_cfg": false
  },
  "varInspector": {
   "cols": {
    "lenName": 16,
    "lenType": 16,
    "lenVar": 40
   },
   "kernels_config": {
    "python": {
     "delete_cmd_postfix": "",
     "delete_cmd_prefix": "del ",
     "library": "var_list.py",
     "varRefreshCmd": "print(var_dic_list())"
    },
    "r": {
     "delete_cmd_postfix": ") ",
     "delete_cmd_prefix": "rm(",
     "library": "var_list.r",
     "varRefreshCmd": "cat(var_dic_list()) "
    }
   },
   "types_to_exclude": [
    "module",
    "function",
    "builtin_function_or_method",
    "instance",
    "_Feature"
   ],
   "window_display": false
  }
 },
 "nbformat": 4,
 "nbformat_minor": 1
}
