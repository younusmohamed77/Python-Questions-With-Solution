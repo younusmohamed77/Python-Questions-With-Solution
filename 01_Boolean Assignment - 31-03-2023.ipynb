{
 "cells": [
  {
   "cell_type": "markdown",
   "metadata": {},
   "source": [
    "## Assignment - Boolean"
   ]
  },
  {
   "cell_type": "markdown",
   "metadata": {},
   "source": [
    "### Declare a boolean value and store it in a variable. Check the type and print the id of the same."
   ]
  },
  {
   "cell_type": "code",
   "execution_count": 125,
   "metadata": {},
   "outputs": [
    {
     "name": "stdout",
     "output_type": "stream",
     "text": [
      "The declared variable is : <class 'bool'>\n",
      "The variable is stored in ID : 140723614050128\n"
     ]
    }
   ],
   "source": [
    "b = True\n",
    "print('The declared variable is :', type(b))\n",
    "print('The variable is stored in ID :', id(b))"
   ]
  },
  {
   "cell_type": "markdown",
   "metadata": {},
   "source": [
    "### Take one boolean value between 0 - 256. Assign it to two different variables. Check the id of both the variables. It should come the same. Check why?"
   ]
  },
  {
   "cell_type": "code",
   "execution_count": 126,
   "metadata": {},
   "outputs": [
    {
     "name": "stdout",
     "output_type": "stream",
     "text": [
      "ID of the first variable is : 140723614050128\n",
      "ID of the second variable is : 140723614050128\n"
     ]
    }
   ],
   "source": [
    "a1 = bool(77)\n",
    "a2 = bool(77)\n",
    "print(\"ID of the first variable is :\", id(a1))\n",
    "print(\"ID of the second variable is :\", id(a2))"
   ]
  },
  {
   "cell_type": "code",
   "execution_count": 127,
   "metadata": {},
   "outputs": [
    {
     "name": "stdout",
     "output_type": "stream",
     "text": [
      "Boolean vale of the selected number 77 stored in first variable is : True\n",
      "Boolean vale of the selected number 77 stored in second variable is : True\n",
      "Boolen vale of the variable declared in the begining is : True\n"
     ]
    }
   ],
   "source": [
    "print(\"Boolean vale of the selected number 77 stored in first variable is :\", bool(a1))\n",
    "print(\"Boolean vale of the selected number 77 stored in second variable is :\", bool(a2))\n",
    "print(\"Boolen vale of the variable declared in the begining is :\", bool(b))"
   ]
  },
  {
   "cell_type": "code",
   "execution_count": 128,
   "metadata": {},
   "outputs": [
    {
     "name": "stdout",
     "output_type": "stream",
     "text": [
      "We can see the value of all variable is 'True', and the ID of that is 140723614050128\n"
     ]
    }
   ],
   "source": [
    "print(\"We can see the value of all variable is 'True', and the ID of that is\",id(True))"
   ]
  },
  {
   "cell_type": "markdown",
   "metadata": {},
   "source": [
    "We see that the ID of true is same throughout, this is called interning. So we conclude Boolean is interned in Python. "
   ]
  },
  {
   "cell_type": "markdown",
   "metadata": {},
   "source": [
    "### Arithmetic Operations on boolean data\n",
    "   - Take two different boolean values.\n",
    "   - Store them in two different variables.\n",
    "   - Do below operations on them:-\n",
    "        - Find sum of both values\n",
    "        - Find difference between them\n",
    "        - Find the product of both.\n",
    "        - Find value after dividing first value with second value\n",
    "        - Find the remainder after dividing first value with second value\n",
    "        - Find the quotient after dividing first value with second value\n",
    "        - Find the result of first value to the power of second value."
   ]
  },
  {
   "cell_type": "code",
   "execution_count": 129,
   "metadata": {},
   "outputs": [
    {
     "name": "stdout",
     "output_type": "stream",
     "text": [
      "Boolean value of 256 is True and the boolean value of 10 is True\n",
      "The sum of two Boolean values is : 2\n",
      "The difference  of two Boolean values is : 0\n",
      "The value of dividing two Boolean values is : 1.0\n",
      "The remainder after dividing two Boolean values is : 0\n",
      "The quotient after dividing two Boolean values is : 1\n",
      "The value of first value to the power of second value is : 1\n",
      "The value of second value to the power of first value is : 1\n"
     ]
    }
   ],
   "source": [
    "#Storing two Boolean values in two variables t1 and t2\n",
    "t1 = bool(256)\n",
    "t2 = bool(10)\n",
    "\n",
    "#Checking the boolen values t1 and t2\n",
    "print(\"Boolean value of 256 is\", t,\"and the boolean value of 10 is\",t2)\n",
    "print(\"The sum of two Boolean values is :\", t1 + t2)\n",
    "print(\"The difference  of two Boolean values is :\", t1 - t2)\n",
    "print(\"The value of dividing two Boolean values is :\", t1 / t2)\n",
    "print(\"The remainder after dividing two Boolean values is :\", t1 % t2)\n",
    "print(\"The quotient after dividing two Boolean values is :\", t1 // t2)\n",
    "print(\"The value of first value to the power of second value is :\", t2 ** t1)\n",
    "print(\"The value of second value to the power of first value is :\", t1 ** t2)"
   ]
  },
  {
   "cell_type": "markdown",
   "metadata": {},
   "source": [
    "### Comparison Operators on boolean values\n",
    "- Take two different boolean values.\n",
    "- Store them in two different variables.\n",
    "- Do below operations on them:-\n",
    "- Compare these two values with below operator:-\n",
    "    - Greater than, '>'\n",
    "    - less than, '<'\n",
    "    - Greater than or equal to, '>='\n",
    "    - Less than or equal to, '<='\n",
    "    - Observe their output(return type should be boolean)"
   ]
  },
  {
   "cell_type": "code",
   "execution_count": 130,
   "metadata": {},
   "outputs": [
    {
     "name": "stdout",
     "output_type": "stream",
     "text": [
      "Boolean value of 256 is True and the boolean value of 0 is False\n"
     ]
    }
   ],
   "source": [
    "#Storing two Boolean values in two variables t and f\n",
    "t = bool(256)\n",
    "f = bool(0)\n",
    "\n",
    "#Checking the boolen values stored in t and f\n",
    "print(\"Boolean value of 256 is\", t,\"and the boolean value of 0 is\", f)"
   ]
  },
  {
   "cell_type": "code",
   "execution_count": 131,
   "metadata": {},
   "outputs": [
    {
     "name": "stdout",
     "output_type": "stream",
     "text": [
      "Boolean of 256 is greater than boolean of 0 : True\n",
      "Boolean of 0 is greater than boolean of 256 : False\n"
     ]
    }
   ],
   "source": [
    "print(\"Boolean of 256 is greater than boolean of 0 :\", bool(t > f))\n",
    "print(\"Boolean of 0 is greater than boolean of 256 :\", bool(f > t))"
   ]
  },
  {
   "cell_type": "code",
   "execution_count": 132,
   "metadata": {},
   "outputs": [
    {
     "name": "stdout",
     "output_type": "stream",
     "text": [
      "Boolean of 256 is lesser than boolean of 0 : False\n",
      "Boolean of 0 is lesser than boolean of 256 : True\n"
     ]
    }
   ],
   "source": [
    "print(\"Boolean of 256 is lesser than boolean of 0 :\", bool(t < f))\n",
    "print(\"Boolean of 0 is lesser than boolean of 256 :\", bool(f < t))"
   ]
  },
  {
   "cell_type": "code",
   "execution_count": 133,
   "metadata": {},
   "outputs": [
    {
     "name": "stdout",
     "output_type": "stream",
     "text": [
      "Boolean of 256 is greater than or equal to boolean of 0 : True\n",
      "Boolean of 0 is greater than or equal to boolean of 256 : False\n"
     ]
    }
   ],
   "source": [
    "print(\"Boolean of 256 is greater than or equal to boolean of 0 :\", bool(t >= f))\n",
    "print(\"Boolean of 0 is greater than or equal to boolean of 256 :\", bool(f >= t))"
   ]
  },
  {
   "cell_type": "code",
   "execution_count": 134,
   "metadata": {},
   "outputs": [
    {
     "name": "stdout",
     "output_type": "stream",
     "text": [
      "Boolean of 256 is lesser than or equal to boolean of 0 : False\n",
      "Boolean of 0 is lesser than or equal to boolean of 256 : True\n"
     ]
    }
   ],
   "source": [
    "print(\"Boolean of 256 is lesser than or equal to boolean of 0 :\", bool(t <= f))\n",
    "print(\"Boolean of 0 is lesser than or equal to boolean of 256 :\", bool(f <= t))"
   ]
  },
  {
   "cell_type": "markdown",
   "metadata": {},
   "source": [
    "### Equality Operator\n",
    "- Take two different boolean values.\n",
    "- Store them in two different variables.\n",
    "- Equate them using equality operators (==, !=)\n",
    "- Observe the output(return type should be boolean)"
   ]
  },
  {
   "cell_type": "code",
   "execution_count": 135,
   "metadata": {},
   "outputs": [
    {
     "name": "stdout",
     "output_type": "stream",
     "text": [
      "Boolean value of 256 is True and the boolean value of 0 is False\n"
     ]
    }
   ],
   "source": [
    "#Checking the boolen values stored in t and f\n",
    "print(\"Boolean value of 256 is\", t,\"and the boolean value of 0 is\", f)"
   ]
  },
  {
   "cell_type": "code",
   "execution_count": 136,
   "metadata": {},
   "outputs": [
    {
     "name": "stdout",
     "output_type": "stream",
     "text": [
      "Boolean of 256 is equal to boolean of 0 : False\n",
      "Boolean of 256 is not equal to boolean of 0 : True\n"
     ]
    }
   ],
   "source": [
    "print(\"Boolean of 256 is equal to boolean of 0 :\", bool(t == f))\n",
    "print(\"Boolean of 256 is not equal to boolean of 0 :\", bool(t != f))"
   ]
  },
  {
   "cell_type": "markdown",
   "metadata": {},
   "source": [
    "### Logical operators. Observe the output of below code. Cross check the output manually"
   ]
  },
  {
   "cell_type": "code",
   "execution_count": 137,
   "metadata": {},
   "outputs": [
    {
     "name": "stdout",
     "output_type": "stream",
     "text": [
      "True\n"
     ]
    }
   ],
   "source": [
    "print(True and True)"
   ]
  },
  {
   "cell_type": "code",
   "execution_count": 138,
   "metadata": {},
   "outputs": [
    {
     "name": "stdout",
     "output_type": "stream",
     "text": [
      "False\n"
     ]
    }
   ],
   "source": [
    "print(True and False)"
   ]
  },
  {
   "cell_type": "code",
   "execution_count": 139,
   "metadata": {},
   "outputs": [
    {
     "name": "stdout",
     "output_type": "stream",
     "text": [
      "False\n"
     ]
    }
   ],
   "source": [
    "print(False and True)"
   ]
  },
  {
   "cell_type": "code",
   "execution_count": 140,
   "metadata": {},
   "outputs": [
    {
     "name": "stdout",
     "output_type": "stream",
     "text": [
      "False\n"
     ]
    }
   ],
   "source": [
    "print(False and False)"
   ]
  },
  {
   "cell_type": "code",
   "execution_count": 141,
   "metadata": {},
   "outputs": [
    {
     "name": "stdout",
     "output_type": "stream",
     "text": [
      "True\n"
     ]
    }
   ],
   "source": [
    "print(True or True)"
   ]
  },
  {
   "cell_type": "code",
   "execution_count": 142,
   "metadata": {},
   "outputs": [
    {
     "name": "stdout",
     "output_type": "stream",
     "text": [
      "True\n"
     ]
    }
   ],
   "source": [
    "print(True or False)"
   ]
  },
  {
   "cell_type": "code",
   "execution_count": 143,
   "metadata": {},
   "outputs": [
    {
     "name": "stdout",
     "output_type": "stream",
     "text": [
      "True\n"
     ]
    }
   ],
   "source": [
    "print(False or True)"
   ]
  },
  {
   "cell_type": "code",
   "execution_count": 144,
   "metadata": {},
   "outputs": [
    {
     "name": "stdout",
     "output_type": "stream",
     "text": [
      "False\n"
     ]
    }
   ],
   "source": [
    "print(False or False)"
   ]
  },
  {
   "cell_type": "code",
   "execution_count": 145,
   "metadata": {},
   "outputs": [
    {
     "name": "stdout",
     "output_type": "stream",
     "text": [
      "False\n"
     ]
    }
   ],
   "source": [
    "print(not True)"
   ]
  },
  {
   "cell_type": "code",
   "execution_count": 146,
   "metadata": {},
   "outputs": [
    {
     "name": "stdout",
     "output_type": "stream",
     "text": [
      "True\n"
     ]
    }
   ],
   "source": [
    "print(not False)"
   ]
  },
  {
   "cell_type": "markdown",
   "metadata": {},
   "source": [
    "### Bitwise Operators\n",
    "Do below operations on the values provided below:-\n",
    "    - Bitwise and(&) --------------> True, True -------> Output is True\n",
    "    - Bitwise or(|) --------------> True, False -------> Output is True\n",
    "    - Bitwise(^) --------------> True, False -------> Output is True\n",
    "    - Bitwise negation(~) ---------> True -------> Output is -2\n",
    "    - Bitwise left shift ---------> True,2 -------> Output is 4\n",
    "    - Bitwise right shift ---------> True,2 -------> Output is 0\n",
    "Cross check the output manually"
   ]
  },
  {
   "cell_type": "code",
   "execution_count": 154,
   "metadata": {},
   "outputs": [
    {
     "name": "stdout",
     "output_type": "stream",
     "text": [
      "Bitwise AND of True and True gives : True\n",
      "Bitwise OR of True and True gives : True\n",
      "Bitwise X-OR of True and True gives : False\n",
      "Bitwise negation of True gives : -2\n",
      "Bitwise left shit of True 2 places gives : 4\n",
      "Bitwise right shit of True 2 places gives : 0\n"
     ]
    }
   ],
   "source": [
    "print(\"Bitwise AND of True and True gives :\", (True & True))\n",
    "print(\"Bitwise OR of True and True gives :\", (True | True))\n",
    "print(\"Bitwise X-OR of True and True gives :\", (True ^ True))\n",
    "print(\"Bitwise negation of True gives :\", ~True)\n",
    "print(\"Bitwise left shit of True 2 places gives :\", (True << 2))\n",
    "print(\"Bitwise right shit of True 2 places gives :\", (True >> 2))"
   ]
  },
  {
   "cell_type": "markdown",
   "metadata": {},
   "source": [
    "### Identity Operators"
   ]
  },
  {
   "cell_type": "code",
   "execution_count": 161,
   "metadata": {},
   "outputs": [
    {
     "name": "stdout",
     "output_type": "stream",
     "text": [
      "True(t) is False(f) : False\n",
      "True(t) is not False(f) : True\n"
     ]
    }
   ],
   "source": [
    "t = True\n",
    "f = False\n",
    "\n",
    "print(\"True(t) is False(f) :\", (t is f))\n",
    "print(\"True(t) is not False(f) :\",(t is not f))"
   ]
  },
  {
   "cell_type": "code",
   "execution_count": 160,
   "metadata": {},
   "outputs": [
    {
     "name": "stdout",
     "output_type": "stream",
     "text": [
      "True(t1) is True(t2) : True\n",
      "True(t1) is not True(t2) : False\n"
     ]
    }
   ],
   "source": [
    "t1 = True\n",
    "t2 = True\n",
    "print(\"True(t1) is True(t2) :\", (t1 is t2))\n",
    "print(\"True(t1) is not True(t2) :\",(t1 is not t2))"
   ]
  },
  {
   "cell_type": "markdown",
   "metadata": {},
   "source": [
    "### Membership Operators"
   ]
  },
  {
   "cell_type": "code",
   "execution_count": 163,
   "metadata": {},
   "outputs": [
    {
     "name": "stdout",
     "output_type": "stream",
     "text": [
      "True\n",
      "True\n",
      "True\n",
      "True\n",
      "True\n"
     ]
    }
   ],
   "source": [
    "print(True in [ 10 , 10.20 , 10 + 20j , 'Python' , True ])\n",
    "print(False in ( 10 , 10.20 , 10 + 20j , 'Python' , False ))\n",
    "print(True in { 1 , 2 , 3 , True })\n",
    "print(True in { True : 100 , False : 200 , True : 300 })\n",
    "print(False in { True : 100 , False : 200 , True : 300 })"
   ]
  },
  {
   "cell_type": "code",
   "execution_count": null,
   "metadata": {},
   "outputs": [],
   "source": []
  }
 ],
 "metadata": {
  "kernelspec": {
   "display_name": "Python 3",
   "language": "python",
   "name": "python3"
  },
  "language_info": {
   "codemirror_mode": {
    "name": "ipython",
    "version": 3
   },
   "file_extension": ".py",
   "mimetype": "text/x-python",
   "name": "python",
   "nbconvert_exporter": "python",
   "pygments_lexer": "ipython3",
   "version": "3.8.3"
  }
 },
 "nbformat": 4,
 "nbformat_minor": 4
}
