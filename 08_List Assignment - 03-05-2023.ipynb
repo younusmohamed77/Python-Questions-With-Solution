{
 "cells": [
  {
   "cell_type": "markdown",
   "metadata": {
    "id": "gtlAv2oq9yzd"
   },
   "source": [
    "### Write a Python program to find the sum of all elements in a list using loop.\n",
    "#### Input:- [10,20,30,40]\n",
    "#### Output:- 100"
   ]
  },
  {
   "cell_type": "code",
   "execution_count": 5,
   "metadata": {},
   "outputs": [
    {
     "name": "stdout",
     "output_type": "stream",
     "text": [
      "The sum of all elements in the list is : 100 - Using for loop\n",
      "The sum of all elements in the list is : 100 - Using while loop\n",
      "The sum of all elements in the list is : 100 - Using builtin method\n"
     ]
    }
   ],
   "source": [
    "in_list = [10, 20, 30, 40]\n",
    "sum_list_for = 0    # Varaible to hold the sum when using for loop\n",
    "sum_list_while = 0    # Varaible to hold the sum when using while loop\n",
    "\n",
    "# Using for loop\n",
    "\n",
    "for i in in_list:    # Looping over the elements of the list\n",
    "    sum_list_for += i    # Adding each element over the loop\n",
    "\n",
    "print(f\"The sum of all elements in the list is : {sum_list_for} - Using for loop\")\n",
    "\n",
    "# Using while loop\n",
    "\n",
    "j = 0    # While loop variable\n",
    "\n",
    "while j < len(in_list):    # Looping over the elements of the list\n",
    "    sum_list_while += in_list[j]    # Adding each element over the loop\n",
    "    j += 1\n",
    "\n",
    "print(f\"The sum of all elements in the list is : {sum_list_while} - Using while loop\")\n",
    "\n",
    "#Using builtin method\n",
    "\n",
    "print(f\"The sum of all elements in the list is : {sum(in_list)} - Using builtin method\")"
   ]
  },
  {
   "cell_type": "markdown",
   "metadata": {
    "id": "gTbA8psa93Y_"
   },
   "source": [
    "### Write a Python program to find the multiplication of all elements in a list using loop.\n",
    "#### Input:- [10,20,30,40]\n",
    "#### Output:- 240000"
   ]
  },
  {
   "cell_type": "code",
   "execution_count": 4,
   "metadata": {},
   "outputs": [
    {
     "name": "stdout",
     "output_type": "stream",
     "text": [
      "The pproduct of all elements in the list is : 240000 - Using for loop\n",
      "The product of all elements in the list is : 240000 - Using while loop\n"
     ]
    }
   ],
   "source": [
    "in_list = [10, 20, 30, 40]\n",
    "product_list_for = 1    # Varaible to hold the product when using for loop \n",
    "product_list_while = 1    # Varaible to hold the product when using while loop\n",
    "# Iniially set to 1 as any number to the product of 1 is the number itself\n",
    "\n",
    "# Using for loop\n",
    "\n",
    "for i in in_list:    # Looping over the elements of the list\n",
    "    product_list_for *= i    # Multiplying each element over the loop\n",
    "\n",
    "print(f\"The pproduct of all elements in the list is : {product_list_for} - Using for loop\")\n",
    "\n",
    "# Using while loop\n",
    "\n",
    "j = 0    # While loop variable\n",
    "\n",
    "while j < len(in_list):    # Looping over the elements of the list\n",
    "    product_list_while *= in_list[j]    # Adding each element over the loop\n",
    "    j += 1\n",
    "\n",
    "print(f\"The product of all elements in the list is : {product_list_while} - Using while loop\")"
   ]
  },
  {
   "cell_type": "markdown",
   "metadata": {
    "id": "XBCrEtLN94Lj"
   },
   "source": [
    "### Write a Python program to find the largest number from a list using loop.\n",
    "#### Input:- [10,100,2321, 1,200,2]\n",
    "#### Output:- 2321"
   ]
  },
  {
   "cell_type": "code",
   "execution_count": 16,
   "metadata": {},
   "outputs": [
    {
     "name": "stdout",
     "output_type": "stream",
     "text": [
      "The largest number in list is : 2321 - using for loop\n",
      "The largest number in list is : 2321 - using while loop\n",
      "The largest number in list is : 2321 - using builtin method\n"
     ]
    }
   ],
   "source": [
    "in_list2 = [10, 100, 2321, 1, 200, 2]\n",
    "largest_num_for = in_list2[0]    # Variable to hod the largest number is the list\n",
    "largest_num_while = in_list2[0]    # Variable to hod the largest number is the list\n",
    "# Setting it to the first element of the list to compare elements within the list itself\n",
    "\n",
    "# Using for loop\n",
    "\n",
    "for i in in_list2:    # Using loop over the list\n",
    "    if i >= largest_num_for:    # Checking if the current is larger than the previos largest element \n",
    "        largest_num_for = i    # Changing the larget number\n",
    "    \n",
    "print(f\"The largest number in list is : {largest_num_for} - using for loop\")\n",
    "\n",
    "# Using while loop\n",
    "\n",
    "j = 0    # While loop variable \n",
    "\n",
    "while j < len(in_list2):    # Using loop over the list\n",
    "    if in_list2[j] >= largest_num_while:    # Checking if the current is larger than the previos largest element \n",
    "        largest_num_while = in_list2[j]    # Changing the larget number\n",
    "    j += 1\n",
    "    \n",
    "print(f\"The largest number in list is : {largest_num_while} - using while loop\")\n",
    "\n",
    "# Using builtin function\n",
    "\n",
    "print(f\"The largest number in list is : {max(in_list2)} - using builtin method\")"
   ]
  },
  {
   "cell_type": "markdown",
   "metadata": {
    "id": "l3paUtbH94Vw"
   },
   "source": [
    "### Write a Python program to find the smallest number from a list using loop.\n",
    "#### Input:- [10,100,2321, 1,200,2]\n",
    "#### Output:- 1"
   ]
  },
  {
   "cell_type": "code",
   "execution_count": 21,
   "metadata": {},
   "outputs": [
    {
     "name": "stdout",
     "output_type": "stream",
     "text": [
      "The smallest number in list is : 1 - using for loop\n",
      "The smallest number in list is : 1 - using while loop\n",
      "The smallest number in list is : 1 - using builtin method\n"
     ]
    }
   ],
   "source": [
    "in_list2 = [10, 100, 2321, 1, 200, 2]\n",
    "smallest_num_for = in_list2[0]    # Variable to hod the smallest number is the list\n",
    "smallest_num_while = in_list2[0]    # Variable to hod the smallest number is the list\n",
    "# Setting it to the first element of the list to compare elements within the list itself\n",
    "\n",
    "# Using for loop\n",
    "\n",
    "for i in in_list2:    # Using loop over the list\n",
    "    if i <= smallest_num_for:    # Checking if the current is smaller than the previos smallest element \n",
    "        smallest_num_for = i    # Changing the smallest number\n",
    "    \n",
    "print(f\"The smallest number in list is : {smallest_num_for} - using for loop\")\n",
    "\n",
    "# Using while loop\n",
    "\n",
    "j = 0    # While loop variable \n",
    "\n",
    "while j < len(in_list2):    # Using loop over the list\n",
    "    if in_list2[j] <= smallest_num_while:    # Checking if the current is smaller than the previos smallest element \n",
    "        smallest_num_while = in_list2[j]    # Changing the smallest number\n",
    "    j += 1\n",
    "    \n",
    "print(f\"The smallest number in list is : {smallest_num_while} - using while loop\")\n",
    "\n",
    "# Using builtin function\n",
    "\n",
    "print(f\"The smallest number in list is : {min(in_list2)} - using builtin method\")"
   ]
  },
  {
   "cell_type": "markdown",
   "metadata": {
    "id": "JTVgy5VD94cE"
   },
   "source": [
    "### Write a Python program to count the number of strings having length more than 2 and are palindrome in a list using loop.\n",
    "#### Input:- ['ab', 'abc', 'aba', 'xyz', '1991']\n",
    "#### Output:- 2"
   ]
  },
  {
   "cell_type": "code",
   "execution_count": 25,
   "metadata": {},
   "outputs": [
    {
     "name": "stdout",
     "output_type": "stream",
     "text": [
      "The number of elements meeting the given criteria is : 2\n"
     ]
    }
   ],
   "source": [
    "in_list3 = ['ab', 'abc', 'aba', 'xyz', '1991']\n",
    "pal_counter = 0    # Variable to hold the number of elements satisfying the criteria in given list\n",
    "# Setting to 0 initially to start counting\n",
    "\n",
    "for i in in_list3:    # Looping over the list\n",
    "    if len(i) > 2:    # Checking if the lenght of element is more than 2\n",
    "        if i == i[::-1]:    # Checking if the element is a palindrome\n",
    "            pal_counter += 1    # Increasing the counter \n",
    "            \n",
    "print(f\"The number of elements meeting the given criteria is : {pal_counter}\")"
   ]
  },
  {
   "cell_type": "markdown",
   "metadata": {
    "id": "xs-ZGJbJ94gr"
   },
   "source": [
    "### Write a Python program to sort a list in ascending order using loop.\n",
    "#### Input:- [100,10,1,298,65,483,49876,2,80,9,9213]\n",
    "#### Output:- [1,2,9,10,65,80,100,298,483,9213,49876]"
   ]
  },
  {
   "cell_type": "code",
   "execution_count": 113,
   "metadata": {},
   "outputs": [
    {
     "name": "stdout",
     "output_type": "stream",
     "text": [
      "The actual list is : [100, 10, 1, 298, 65, 483, 49876, 2, 80, 9, 9213]\n",
      "The sorted list is : [1, 2, 9, 10, 65, 80, 100, 298, 483, 9213, 49876] - Using a seperate string\n",
      "The sorted list is : [1, 2, 9, 10, 298, 65, 80, 100, 483, 9213, 49876] - changing the same list\n",
      "The sorted list is : [1, 2, 9, 10, 65, 80, 100, 298, 483, 9213, 49876] - using builtin method\n"
     ]
    }
   ],
   "source": [
    "in_list4 = [100, 10, 1, 298, 65, 483, 49876, 2, 80, 9, 9213]\n",
    "out_list = []    # Empty list to hold the output\n",
    "print(f\"The actual list is : {in_list4}\")\n",
    "\n",
    "# Using a new list to hold the sorted elements\n",
    "\n",
    "while len(in_list4) > 0:    # Looping till the list gets empty\n",
    "    temp_min = in_list4[0]    # Variable to hold the smallest element\n",
    "    for i in in_list4:    # Looping over the input list\n",
    "        if i <= temp_min:    # Checking if the current element is smaller than the previous smallest number\n",
    "            temp_min = i    # Changing the smallest number\n",
    "    out_list.append(temp_min)    # Appending the smallest number to the output list\n",
    "    in_list4.remove(temp_min)    # Removing the smallest number from the input list\n",
    "    \n",
    "print(f\"The sorted list is : {out_list} - Using a seperate string\")\n",
    "\n",
    "# Sorting within the same list\n",
    "\n",
    "in_list5 = [100, 10, 1, 298, 65, 483, 49876, 2, 80, 9, 9213]\n",
    "j = 0    # While loop variable\n",
    "\n",
    "while j < len(in_list5):    # Looping over the elements of the list\n",
    "    temp_min = in_list5[j]    # Setting the temporary minimum number to the first number of the test list\n",
    "    for i in in_list5[j : len(in_list5)]:    # Looping over the list with slicing with regards to the outer loop\n",
    "        if i < temp_min:    # Checking if the current element is smaller than the previous smallest element\n",
    "            temp_min = i    # Changing the smallest number\n",
    "            ind = in_list5.index(i)    # Noting the index of the smallest number to do the sorting\n",
    "    temp_num = in_list5[j]    # Copying the first element of the sliced list to a temporary number\n",
    "    in_list5[j] = in_list5[ind]    # Copying the smallest number to first element of the sliced list\n",
    "    in_list5[ind] = temp_num    # Copying the value in temporary variable to the element of the lowest index\n",
    "    j += 1    # Incrementing the loop variable\n",
    "\n",
    "print(f\"The sorted list is : {in_list5} - changing the same list\")\n",
    "\n",
    "# Using builtin method\n",
    "\n",
    "in_list6 = [100, 10, 1, 298, 65, 483, 49876, 2, 80, 9, 9213]\n",
    "in_list6.sort()\n",
    "print(f\"The sorted list is : {in_list6} - using builtin method\")"
   ]
  },
  {
   "cell_type": "markdown",
   "metadata": {
    "id": "VhKQJizZ94kg"
   },
   "source": [
    "### Write a Python program to get a sorted list in increasing order of last element in each tuple in a given list using loop.\n",
    "#### Input:- [(5,4),(9,1),(2,3),(5,9),(7,6),(5,5)]\n",
    "#### output:- [(9,1),(2,3),(5,4),(5,5),(7,6),(5,9)]"
   ]
  },
  {
   "cell_type": "code",
   "execution_count": 131,
   "metadata": {},
   "outputs": [
    {
     "name": "stdout",
     "output_type": "stream",
     "text": [
      "The actual list is : [(5, 4), (9, 1), (2, 3), (5, 9), (7, 6), (5, 5)]\n",
      "The sorted list is : [(9, 1), (2, 3), (5, 4), (5, 5), (7, 6), (5, 9)] - Using a seperate list\n",
      "The sorted list is : [(9, 1), (2, 3), (5, 4), (5, 5), (5, 9), (7, 6)] - changing the same list\n"
     ]
    }
   ],
   "source": [
    "in_list7 = [(5,4),(9,1),(2,3),(5,9),(7,6),(5,5)]\n",
    "out_list2 = []\n",
    "print(f\"The actual list is : {in_list7}\")\n",
    "\n",
    "# Using a new list to hold the sorted elements\n",
    "\n",
    "while len(in_list7) > 0:\n",
    "    temp_min = in_list7[0][1]    # Variable to hold the smallest second elemt of the tupple\n",
    "    for i in in_list7:    # Looping over the input list\n",
    "        if i[1] <= temp_min:    # Checking if the current second element is smaller than the previous smallest element\n",
    "            temp_min = i[1]    # Changing the smallest number\n",
    "            temp_tupple = i    # Storing the current smallest tupple in a temporary tupple\n",
    "    out_list2.append(temp_tupple)    # Appending the smallest number to the output list\n",
    "    in_list7.remove(temp_tupple)    # Removing the smallest number from the input list\n",
    "    \n",
    "print(f\"The sorted list is : {out_list2} - Using a seperate list\")\n",
    "\n",
    "# Sorting within the same list\n",
    "\n",
    "in_list8 = [(5,4),(9,1),(2,3),(5,9),(7,6),(5,5)]\n",
    "j = 0    # While loop variable\n",
    "\n",
    "while j < len(in_list8):    # Looping over the elements of the list\n",
    "    temp_min = in_list8[j][1]    # Setting the temporary minimum number to the second element of the first tupple\n",
    "    for i in in_list8[j : len(in_list8)]:    # Looping over the list with slicing with regards to the outer loop\n",
    "        if i[1] < temp_min:    # Checking if the current element is smaller than the previous smallest element\n",
    "            temp_min = i[1]    # Changing the smallest element \n",
    "            ind = in_list8.index(i)    # Noting the index of the smallest element to do the sorting\n",
    "    temp_tupple = in_list8[j]    # Copying the first tupple of the sliced list to a temporary tupple\n",
    "    in_list8[j] = in_list8[ind]    # Copying the tupple with smallest element to first tupple of the sliced list\n",
    "    in_list8[ind] = temp_tupple    # Copying the value in temporary tupple to the element of the lowest index\n",
    "    j += 1    # Incrementing the loop variable\n",
    "\n",
    "print(f\"The sorted list is : {in_list8} - changing the same list\")"
   ]
  },
  {
   "cell_type": "markdown",
   "metadata": {
    "id": "YJrCLYp694n_"
   },
   "source": [
    "### Write a Python program to remove duplicate element from a list using loop.\n",
    "#### Input:- [10,1,11,1,29,876,768,10,11,1,92,29,876]\n",
    "#### Output:- [10,1,11,29,876,768,92]"
   ]
  },
  {
   "cell_type": "code",
   "execution_count": 66,
   "metadata": {},
   "outputs": [
    {
     "name": "stdout",
     "output_type": "stream",
     "text": [
      "List after removing the duplicate values : [10, 1, 11, 29, 876, 768, 92] - Changing the same list\n",
      "List after removing the duplicate values : [10, 1, 11, 29, 876, 768, 92] - Using a different list\n",
      "{768, 1, 10, 11, 876, 92, 29}\n"
     ]
    }
   ],
   "source": [
    "in_list9= [10 , 1, 11, 1, 29, 876, 768, 10, 11, 1, 92, 29, 876]\n",
    "in_list12 = [10 , 1, 11, 1, 29, 876, 768, 10, 11, 1, 92, 29, 876]\n",
    "k = 0    # Loop variable\n",
    "\n",
    "# Changing the same list\n",
    "\n",
    "for i in in_list9:    # Looping over the list\n",
    "    index_counter = k    # Variable to hold the index of duplicate values\n",
    "    temp_num = in_list9[k]    # Setting a temporary number to hold the element being searched\n",
    "    dup_count = 0    # Variable to count the number of times an element id being repeated\n",
    "    \n",
    "    for j in in_list9[k+1 : len(in_list9)]:    # Looping over the list from the next element that is being searched\n",
    "        index_counter += 1    # Incrementing the index variable to take note if the duplicate value has been found\n",
    "        \n",
    "        if temp_num == j:    # Condition to check if the value is duplicated\n",
    "            in_list9.pop(index_counter - dup_count)    # Using pop function to remove the duplicate value\n",
    "            dup_count += 1    # Incrementing duplicaye counter\n",
    "            \n",
    "    k += 1\n",
    "\n",
    "print(f\"List after removing the duplicate values : {in_list9} - Changing the same list\")\n",
    "\n",
    "# Using alternate method (Using another list)\n",
    "\n",
    "out_list7 = []    # List to hold the output\n",
    "\n",
    "for l in in_list12:    # Looping for all elements of the input list\n",
    "\n",
    "    if l not in out_list7:    # Checking of the current element is already present in the output list\n",
    "        out_list7.append(l)    # If the current element is not alreay present adding it in the output list\n",
    "\n",
    "print(f\"List after removing the duplicate values : {out_list7} - Using a different list\")\n",
    "\n",
    "# Using list comprehension\n",
    "\n",
    "# out_list8 = []\n",
    "# out_list8 = [m for m in in_list12 if m not in out_list8]\n",
    "\n",
    "# print(out_list8)\n",
    "\n",
    "# Using built-in method\n",
    "\n",
    "# print(set(in_list12))"
   ]
  },
  {
   "cell_type": "markdown",
   "metadata": {
    "id": "koYe4YCu94rh"
   },
   "source": [
    "### Write a Python program to check a list is empty or not?\n",
    "#### Input:- []\n",
    "#### Output:- List is empty\n",
    "##### Input:- [10,20,30]\n",
    "##### Output:- List is not empty"
   ]
  },
  {
   "cell_type": "code",
   "execution_count": 8,
   "metadata": {},
   "outputs": [
    {
     "name": "stdout",
     "output_type": "stream",
     "text": [
      "List is empty\n"
     ]
    }
   ],
   "source": [
    "in_list10 = []\n",
    "\n",
    "if in_list10 :    # List returns true if it has element and false if empty\n",
    "    print(\"List is not empty\")\n",
    "    \n",
    "else:\n",
    "    print(\"List is empty\")"
   ]
  },
  {
   "cell_type": "code",
   "execution_count": 11,
   "metadata": {},
   "outputs": [
    {
     "name": "stdout",
     "output_type": "stream",
     "text": [
      "List is not empty\n"
     ]
    }
   ],
   "source": [
    "in_list10 = [10, 20, 30]\n",
    "\n",
    "if in_list10 :    # List returns true if it has element and false if empty\n",
    "    print(\"List is not empty\")\n",
    "    \n",
    "else:\n",
    "    print(\"List is empty\")"
   ]
  },
  {
   "cell_type": "code",
   "execution_count": 12,
   "metadata": {},
   "outputs": [
    {
     "name": "stdout",
     "output_type": "stream",
     "text": [
      "List is empty\n"
     ]
    }
   ],
   "source": [
    "in_list10 = []\n",
    "\n",
    "if len(in_list10) == 0:    # List lenght is 0 if it is empty\n",
    "    print(\"List is empty\")\n",
    "    \n",
    "else:\n",
    "    print(\"List is not empty\")"
   ]
  },
  {
   "cell_type": "code",
   "execution_count": 13,
   "metadata": {},
   "outputs": [
    {
     "name": "stdout",
     "output_type": "stream",
     "text": [
      "List is not empty\n"
     ]
    }
   ],
   "source": [
    "in_list10 = [10, 20, 30]\n",
    "\n",
    "if len(in_list10) == 0:    # List lenght is 0 if it is empty\n",
    "    print(\"List is empty\")\n",
    "    \n",
    "else:\n",
    "    print(\"List is not empty\")"
   ]
  },
  {
   "cell_type": "markdown",
   "metadata": {
    "id": "mES1WANa94u5"
   },
   "source": [
    "### Write a Python program to copy a list using loop.\n",
    "#### inp_lst = [10,10.20,10+20j, 'Python', [10,20], (10,20)]\n",
    "#### out_lst = [10,10.20,10+20j, 'Python', [10,20], (10,20)]"
   ]
  },
  {
   "cell_type": "code",
   "execution_count": 17,
   "metadata": {},
   "outputs": [
    {
     "name": "stdout",
     "output_type": "stream",
     "text": [
      "Input list : [10, 10.2, (10+20j), 'Python', [10, 20], (10, 20)]\n",
      "ID of input list : 2404258349312\n",
      "Output list copied with '=' : [10, 10.2, (10+20j), 'Python', [10, 20], (10, 20)]\n",
      "ID of output list copied with '=' : 2404258349312\n",
      "Output list copied using a loop : [10, 10.2, (10+20j), 'Python', [10, 20], (10, 20)]\n",
      "ID of output list copied using a loop : 2404257763392\n",
      "Output list copied using buitin method : [10, 10.2, (10+20j), 'Python', [10, 20], (10, 20)]\n",
      "ID of output list copied using buitin method : 2404257766400\n"
     ]
    }
   ],
   "source": [
    "in_list11 = [10, 10.20, 10 + 20j, 'Python', [10,20], (10,20)]\n",
    "out_list3 = in_list11    # Copying using equals to sign\n",
    "out_list4 = []    # Empty list to hold the list copied using loop\n",
    "out_list5 = in_list11.copy()    # Copying using builtin in method\n",
    "\n",
    "for i in in_list11:    # Copying using a loop\n",
    "    out_list4.append(i)\n",
    "\n",
    "print(f\"Input list : {in_list11}\")\n",
    "print(f\"ID of input list : {id(in_list11)}\")\n",
    "print(f\"Output list copied with '=' : {out_list3}\")\n",
    "print(f\"ID of output list copied with '=' : {id(out_list3)}\")\n",
    "print(f\"Output list copied using a loop : {out_list4}\")\n",
    "print(f\"ID of output list copied using a loop : {id(out_list4)}\")\n",
    "print(f\"Output list copied using buitin method : {out_list5}\")\n",
    "print(f\"ID of output list copied using buitin method : {id(out_list5)}\")"
   ]
  },
  {
   "cell_type": "markdown",
   "metadata": {
    "id": "CpBh31WO94yi"
   },
   "source": [
    "### Write a Python program to find the list of words that are longer than or equal to 4 from a given string.\n",
    "#### Input:- 'How much wood would a woodchuck chuck if a woodchuck could chuck wood'\n",
    "#### Output:- ['much', 'wood', 'would', 'woodchuck', 'chuck', 'could']\n",
    "###### Note:- Duplicate should be avoided."
   ]
  },
  {
   "cell_type": "code",
   "execution_count": 80,
   "metadata": {},
   "outputs": [
    {
     "name": "stdout",
     "output_type": "stream",
     "text": [
      "Output list : ['much', 'wood', 'would', 'woodchuck', 'chuck', 'could']\n"
     ]
    }
   ],
   "source": [
    "in_str = 'How much wood would a woodchuck chuck if a woodchuck could chuck wood'\n",
    "out_list6 = []    # List to hold the output\n",
    "\n",
    "temp_list = [i for i in in_str.split() if len(i) >= 4]    # List of all words in the input whose lenght more than or equal to 4 using list comprehension\n",
    "\n",
    "for j in temp_list:    # Looping over the list\n",
    "    \n",
    "    if j not in out_list6:    # Checking if the current element is a duplicate\n",
    "        out_list6.append(j)\n",
    "        \n",
    "print(f\"Output list : {out_list6}\")"
   ]
  },
  {
   "cell_type": "markdown",
   "metadata": {
    "id": "YVfj0fgZ9416"
   },
   "source": [
    "### Write a Python program which takes two list as input and returns True if they have at least 3 common elements.\n",
    "#### inp_lst1 = [10,20,'Python', 10.20, 10+20j, [10,20,30], (10,20,30)]\n",
    "#### inp_lst2 = [(10,20,30),1,20+3j,100.2, 10+20j, [10,20,30],'Python']\n",
    "#### Output:- True"
   ]
  },
  {
   "cell_type": "code",
   "execution_count": 91,
   "metadata": {
    "scrolled": true
   },
   "outputs": [
    {
     "name": "stdout",
     "output_type": "stream",
     "text": [
      "True - Method 1\n",
      "True - Method 2\n",
      "True - List Comprehension\n"
     ]
    }
   ],
   "source": [
    "in_list13 = [10, 20, 'Python', 10.20, 10 + 20j, [10, 20, 30], (10, 20, 30)]\n",
    "in_list14 = [(10, 20, 30), 1, 20 + 3j, 100.2, 10 + 20j, [10, 20, 30], 'Python']\n",
    "sim_count1 = 0    # Variable to count the similarities\n",
    "sim_count2 = 0\n",
    "\n",
    "# Using for loops\n",
    "\n",
    "for i in in_list13:    # External loop\n",
    "    for j in in_list14:    # Internal loop\n",
    "        if i == j:     # Comparing if bothe elemrnts are same\n",
    "            sim_count1 += 1    # Incrementing the similarity count\n",
    "            \n",
    "if sim_count1 >= 3:    # If there are 3 or more similarities\n",
    "    print(\"True - Method 1\")\n",
    "\n",
    "else:\n",
    "    print(\"False - Method 1\")\n",
    "    \n",
    "# Alternate method\n",
    "\n",
    "for k in in_list13:\n",
    "    if k in in_list14:\n",
    "        sim_count2 += 1\n",
    "        \n",
    "if sim_count2 >= 3:    # If there are 3 or more similarities\n",
    "    print(\"True - Method 2\")\n",
    "\n",
    "else:\n",
    "    print(\"False - Method 2\")\n",
    "        \n",
    "# Using list comprehension\n",
    "\n",
    "out_list10 = [k for k in in_list13 if k in in_list14]\n",
    "\n",
    "if len(out_list10) >= 3:\n",
    "    print(\"True - List Comprehension\")\n",
    "    \n",
    "else:\n",
    "    print(\"True - List Comprehension\")"
   ]
  },
  {
   "cell_type": "markdown",
   "metadata": {
    "id": "7vwc3pjR945O"
   },
   "source": [
    "### Write a Python program to create a 4X4 2D matrix with below elements using loop and list comprehension both.\n",
    "#### Output:- [[0,0,0,0],[0,1,2,3],[0,2,4,6],[0,3,6,9]]"
   ]
  },
  {
   "cell_type": "code",
   "execution_count": 17,
   "metadata": {},
   "outputs": [
    {
     "name": "stdout",
     "output_type": "stream",
     "text": [
      "Using for loops : [[0, 0, 0, 0], [0, 1, 2, 3], [0, 2, 4, 6], [0, 3, 6, 9]]\n",
      "Using list comprehension : [[0, 0, 0, 0], [0, 1, 2, 3], [0, 2, 4, 6], [0, 3, 6, 9]]\n"
     ]
    }
   ],
   "source": [
    "out_list15 = []\n",
    "\n",
    "for i in range(4):    # Looping over the range of 1st dimension\n",
    "    temp_list = []    # Temporary inner list\n",
    "    \n",
    "    for j in range(4):    # Looping over the second dimension\n",
    "        temp_list.append(i * j)    # Appending the elements to the temporary list\n",
    "    \n",
    "    out_list15.append(temp_list)   # Appending the temporary list to the outer list\n",
    "    \n",
    "print(f\"Using for loops : {out_list11}\")\n",
    "\n",
    "# Using list comprehension\n",
    "\n",
    "out_list16 = [[k * l for k in range(4)] for l in range(4)]    # Nesting 2 loops in comprehension\n",
    "\n",
    "print(f\"Using list comprehension : {out_list16}\")"
   ]
  },
  {
   "cell_type": "markdown",
   "metadata": {
    "id": "Pxafor84948b"
   },
   "source": [
    "### Write a Python program to create a 3X4X6 3D matrix wiith below elements using loop\n",
    "#### Output:- \n",
    "#### [\n",
    "####     [[0,0,0,0,0,0],[0,0,0,0,0,0],[0,0,0,0,0,0],[0,0,0,0,0,0]],\n",
    "####     [[0,0,0,0,0,0],[1,1,1,1,1,1],[2,2,2,2,2,2],[3,3,3,3,3,3]],\n",
    "####     [[0,0,0,0,0,0],[2,2,2,2,2,2],[4,4,4,4,4,4],[6,6,6,6,6,6]]\n",
    "#### ]"
   ]
  },
  {
   "cell_type": "code",
   "execution_count": 3,
   "metadata": {},
   "outputs": [
    {
     "name": "stdout",
     "output_type": "stream",
     "text": [
      "Using for loop : [[[0, 0, 0, 0, 0, 0], [0, 0, 0, 0, 0, 0], [0, 0, 0, 0, 0, 0], [0, 0, 0, 0, 0, 0]], [[0, 0, 0, 0, 0, 0], [1, 1, 1, 1, 1, 1], [2, 2, 2, 2, 2, 2], [3, 3, 3, 3, 3, 3]], [[0, 0, 0, 0, 0, 0], [2, 2, 2, 2, 2, 2], [4, 4, 4, 4, 4, 4], [6, 6, 6, 6, 6, 6]]]\n",
      "Using while loop : [[[0, 0, 0, 0, 0, 0], [0, 0, 0, 0, 0, 0], [0, 0, 0, 0, 0, 0], [0, 0, 0, 0, 0, 0]], [[0, 0, 0, 0, 0, 0], [1, 1, 1, 1, 1, 1], [2, 2, 2, 2, 2, 2], [3, 3, 3, 3, 3, 3]], [[0, 0, 0, 0, 0, 0], [2, 2, 2, 2, 2, 2], [4, 4, 4, 4, 4, 4], [6, 6, 6, 6, 6, 6]]]\n",
      "Using list comprehension: [[[0, 0, 0, 0, 0, 0], [0, 0, 0, 0, 0, 0], [0, 0, 0, 0, 0, 0], [0, 0, 0, 0, 0, 0]], [[0, 0, 0, 0, 0, 0], [1, 1, 1, 1, 1, 1], [2, 2, 2, 2, 2, 2], [3, 3, 3, 3, 3, 3]], [[0, 0, 0, 0, 0, 0], [2, 2, 2, 2, 2, 2], [4, 4, 4, 4, 4, 4], [6, 6, 6, 6, 6, 6]]]\n"
     ]
    }
   ],
   "source": [
    "out_list10 = []    # List to hold the output\n",
    "\n",
    "# Using for loop\n",
    "\n",
    "for i in range(3):    # Loop for 1st dimension \n",
    "    temp_list_j = []    # Temporary second level List \n",
    "    \n",
    "    for j in range(4):    # Loop for 2nd dimension \n",
    "        temp_list_k = []    # Temporary third level list\n",
    "        \n",
    "        for k in range(6):    # Loop for 3rd dimension \n",
    "            temp_list_k.append(i * j)    # Appending the value as product of 1st and 2nd iteration \n",
    "        \n",
    "        temp_list_j.append(temp_list_k)    # Appending the third layer list to 2nd layer\n",
    "        \n",
    "    out_list10.append(temp_list_j)   # Appending the 2nd layered list\n",
    "\n",
    "print(f\"Using for loop : {out_list10}\")\n",
    "\n",
    "# Using while loop\n",
    "\n",
    "out_list11 = []    # List to hold the output\n",
    "i = 0    # Loop variable for 1st level\n",
    "\n",
    "while i < 3:    # Loop for 1st dimension \n",
    "    j = 0    # Loop variable for 2nd level\n",
    "    temp_list_j = []    # Temporary second level List \n",
    "\n",
    "    while j < 4:    # Loop for 2nd dimension \n",
    "        k = 0    # Loop variable for 3rd level\n",
    "        temp_list_k = []    # Temporary third level list\n",
    "        \n",
    "        while k < 6:    # Loop for 3rd dimension \n",
    "            temp_list_k.append(i * j)    # Appending the elements to the inner most list\n",
    "            k += 1\n",
    "        \n",
    "        temp_list_j.append(temp_list_k)    # Appending the inner most list as elements of the second level list\n",
    "        j += 1\n",
    "    \n",
    "    out_list11.append(temp_list_j)    # Appending the second level list as the elements of the outer most list \n",
    "    i += 1\n",
    "\n",
    "print(f\"Using while loop : {out_list11}\")\n",
    "\n",
    "# Using list comprehension\n",
    "\n",
    "out_list12 = [[[n * o for m in range(6)] for n in range(4)] for o in range(3)]    # Nesting 3 loops in comprehension\n",
    "\n",
    "print(f\"Using list comprehension: {out_list12}\")"
   ]
  },
  {
   "cell_type": "markdown",
   "metadata": {
    "id": "lYNv8gk794_p"
   },
   "source": [
    "### Write a Python program which takes a list of numbers as input and prints a new list after removing even numbers from it.\n",
    "#### Input:- [10,21,22,98,87,45,33,1,2,100]\n",
    "#### Output:- [21,87,45,33,1]"
   ]
  },
  {
   "cell_type": "code",
   "execution_count": 4,
   "metadata": {},
   "outputs": [
    {
     "name": "stdout",
     "output_type": "stream",
     "text": [
      "Using a seperate output list and for loop : [21, 87, 45, 33, 1]\n",
      "Changing the same list using for loop : [21, 87, 45, 33, 1]\n",
      "Using list comprehension: [21, 87, 45, 33, 1]\n"
     ]
    }
   ],
   "source": [
    "in_list16 = [10,21,22,98,87,45,33,1,2,100]\n",
    "out_list13 = []\n",
    "\n",
    "# Using a seperate list\n",
    "\n",
    "for i in in_list16:    # Looping over the input list\n",
    "    \n",
    "    if i % 2 == 1:    # Checking if the element is odd\n",
    "        out_list13.append(i)    # If even appending it to the output list\n",
    "\n",
    "print(f\"Using a seperate output list and for loop : {out_list13}\")\n",
    "\n",
    "# Ammending the same loop using pop method\n",
    "\n",
    "pop_counter = 0    # Pop counter variable to perform pop function properly\n",
    "\n",
    "for j in range(len(in_list16)):    # Looping over the range of length of the list to pop with the index\n",
    "    \n",
    "    if in_list16[j - pop_counter] % 2 == 0:    # Checking if the current element of the ammeneded list is an even number \n",
    "        in_list16.pop(j - pop_counter)    # Poping the even number\n",
    "        pop_counter += 1    # If the number is poped increasing the counter\n",
    "\n",
    "print(f\"Changing the same list using for loop : {in_list16}\")\n",
    "\n",
    "# Using list comprehension\n",
    "\n",
    "in_list17 = [10,21,22,98,87,45,33,1,2,100]\n",
    "\n",
    "out_list14 = [m for m in in_list17 if m % 2 != 0]    # Creating a new list using list comprehension if the number is odd\n",
    "\n",
    "print(f\"Using list comprehension: {out_list14}\")"
   ]
  },
  {
   "cell_type": "markdown",
   "metadata": {
    "id": "3BaCb-rB95B7"
   },
   "source": [
    "### Write a Python program which takes a list from the user and prints it after reshuffling the elements of the list.\n",
    "#### Input:- [10,21,22,98,87,45,33,1,2,100]\n",
    "#### Output:- [1,87,21,10,33,2,100,45,98,22] (It may be any randon list but with same elements)"
   ]
  },
  {
   "cell_type": "code",
   "execution_count": 5,
   "metadata": {},
   "outputs": [
    {
     "name": "stdout",
     "output_type": "stream",
     "text": [
      "Before shuffling: [10, 21, 22, 98, 87, 45, 33, 1, 2, 100]\n",
      "After shuffling: [1, 2, 22, 21, 45, 33, 10, 98, 100, 87]\n"
     ]
    }
   ],
   "source": [
    "from random import shuffle    # Importing shuffle module from random library\n",
    "\n",
    "in_list17 = [10,21,22,98,87,45,33,1,2,100]\n",
    " \n",
    "print(f\"Before shuffling: {in_list17}\")\n",
    "\n",
    "shuffle(in_list17)    # Randomly shuffling the list using shuffle method\n",
    "\n",
    "print(f\"After shuffling: {in_list17}\")"
   ]
  },
  {
   "cell_type": "code",
   "execution_count": null,
   "metadata": {},
   "outputs": [],
   "source": []
  }
 ],
 "metadata": {
  "colab": {
   "name": "List_Assignment.ipynb",
   "provenance": []
  },
  "kernelspec": {
   "display_name": "Python 3",
   "language": "python",
   "name": "python3"
  },
  "language_info": {
   "codemirror_mode": {
    "name": "ipython",
    "version": 3
   },
   "file_extension": ".py",
   "mimetype": "text/x-python",
   "name": "python",
   "nbconvert_exporter": "python",
   "pygments_lexer": "ipython3",
   "version": "3.8.3"
  }
 },
 "nbformat": 4,
 "nbformat_minor": 1
}
